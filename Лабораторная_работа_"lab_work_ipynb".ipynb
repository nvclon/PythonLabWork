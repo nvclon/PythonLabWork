{
  "nbformat": 4,
  "nbformat_minor": 0,
  "metadata": {
    "colab": {
      "provenance": [],
      "include_colab_link": true
    },
    "kernelspec": {
      "name": "python3",
      "display_name": "Python 3"
    },
    "language_info": {
      "name": "python"
    }
  },
  "cells": [
    {
      "cell_type": "markdown",
      "metadata": {
        "id": "view-in-github",
        "colab_type": "text"
      },
      "source": [
        "<a href=\"https://colab.research.google.com/github/nvclon/PythonLabWork/blob/dev/%D0%9B%D0%B0%D0%B1%D0%BE%D1%80%D0%B0%D1%82%D0%BE%D1%80%D0%BD%D0%B0%D1%8F_%D1%80%D0%B0%D0%B1%D0%BE%D1%82%D0%B0_%22lab_work_ipynb%22.ipynb\" target=\"_parent\"><img src=\"https://colab.research.google.com/assets/colab-badge.svg\" alt=\"Open In Colab\"/></a>"
      ]
    },
    {
      "cell_type": "markdown",
      "source": [
        "# Лабораторная работа"
      ],
      "metadata": {
        "id": "rloJD2luQnuQ"
      }
    },
    {
      "cell_type": "markdown",
      "source": [
        "Баллы за секции:\n",
        "- *Задание 1* - 10 баллов\n",
        "- *Задание 2* - 20 баллов\n",
        "- *Задание 3* - 30 баллов\n",
        "- **Итого** - 60 баллов\n",
        "\n",
        "Оценка за лабу $ = \\frac{score}{6}$"
      ],
      "metadata": {
        "id": "xIZ02xiML9p_"
      }
    },
    {
      "cell_type": "markdown",
      "source": [
        "## Внимание! Attention! Achtung!"
      ],
      "metadata": {
        "id": "OEDe7x8YRID0"
      }
    },
    {
      "cell_type": "markdown",
      "source": [
        "**Данная лабораторная работа является блокирующей**, т.е. если лабораторная работа не выполнена, то оценка за курс - неуд.\n",
        "\n",
        "Лабораторная работа считается выполненной, если **за каждое из заданий получено не менее 2 баллов**."
      ],
      "metadata": {
        "id": "ZEmKA-7NR1Y9"
      }
    },
    {
      "cell_type": "markdown",
      "source": [
        "## Формат сдачи лабораторной работы"
      ],
      "metadata": {
        "id": "N1ZbZ8dkR5q_"
      }
    },
    {
      "cell_type": "markdown",
      "source": [
        "Данная лабораторная работа сдается так же, как и проект - заполняете данный ноутбук, отправляете его через GitHub с указанием проверяющего."
      ],
      "metadata": {
        "id": "tEwx7LLQR-h8"
      }
    },
    {
      "cell_type": "markdown",
      "source": [
        "**Ассистенты не будут запускать ячейки кода, а смотреть на выведенный результат и код. Если ячейка кода не запущена - балл не ставится, даже при правильно написанном коде.**\n",
        "\n",
        "***(Комментарии что курс по Python легче чем по C++ учтены)***"
      ],
      "metadata": {
        "id": "qKwaNCJKj7b8"
      }
    },
    {
      "cell_type": "markdown",
      "source": [
        ">**Примечание**\n",
        ">\n",
        ">Данные задания вдохновлены предметом \"Введение в анализ данных\" 2 курса, по итогу которого идёт отбор на DS-поток. Если вы видите себя в смежных областях, советуем выполнить данную лабораторку по максимуму."
      ],
      "metadata": {
        "id": "hlUYK7MDRGye"
      }
    },
    {
      "cell_type": "code",
      "source": [
        "# Всё необходимое для выполнения данной лабораторной работы!\n",
        "import requests\n",
        "from time import sleep\n",
        "\n",
        "import math\n",
        "import plotly.express as px\n",
        "import numpy as np\n",
        "import pandas as pd\n",
        "import matplotlib.pyplot as plt\n",
        "import seaborn as sns"
      ],
      "metadata": {
        "id": "1qzEqvohoZfB"
      },
      "execution_count": null,
      "outputs": []
    },
    {
      "cell_type": "markdown",
      "source": [
        "## Задание 1. Парсинг - 10 баллов"
      ],
      "metadata": {
        "id": "rB_FYHU2k8w-"
      }
    },
    {
      "cell_type": "markdown",
      "source": [
        "В этом задании Вам предстоит работать с API сайта <a target=\"_blank\" href=\"hh.ru\">hh.ru</a>. Документация доступна по <a target=\"_blank\" href=\"https://github.com/hhru/api/blob/master/docs/vacancies.md#search\">ссылке</a>."
      ],
      "metadata": {
        "id": "F0gr5cjaoQJy"
      }
    },
    {
      "cell_type": "markdown",
      "source": [
        "<b><font color=\"red\">Внимание!</font> При работе с API не забывайте делать паузы между запросами, иначе вас забанят. Просрочка дедлайна по этой причине не принимается!</b>"
      ],
      "metadata": {
        "id": "v8iCQYk7TNvK"
      }
    },
    {
      "cell_type": "markdown",
      "source": [
        "**Задача:**\n",
        "1. выбрать 5 интересующих вас профессий (не смежных, т.е. Аналатик и Data Engineer не считается корректным)\n",
        "2. затем получить доступные по данным профессиям вакансии в Москве и выделить их физические координаты\n",
        "3. нанести полученные координаты на карту местоположения компаний"
      ],
      "metadata": {
        "id": "-HAm80rqRqAZ"
      }
    },
    {
      "cell_type": "markdown",
      "source": [
        "*Пример запроса для профессии:*"
      ],
      "metadata": {
        "id": "H0GhQJvipXYj"
      }
    },
    {
      "cell_type": "code",
      "source": [
        "URL = 'https://api.hh.ru/vacancies'\n",
        "\n",
        "params = {\n",
        "    'text': \"Физик-ядерщик\",\n",
        "    'area': 1,\n",
        "    'page': 0,\n",
        "    'per_page': 10\n",
        "}\n",
        "\n",
        "data = requests.get(URL, params).json()"
      ],
      "metadata": {
        "id": "aZLGoS_DpsXI"
      },
      "execution_count": null,
      "outputs": []
    },
    {
      "cell_type": "markdown",
      "source": [
        "Если Ваш запрос прошел успешно, то вы получите следующие ключи (значения данных ключей вы найдете по ссылке на документацию):"
      ],
      "metadata": {
        "id": "yHQtIBRQp91_"
      }
    },
    {
      "cell_type": "code",
      "source": [
        "data['items'][0]['address']"
      ],
      "metadata": {
        "colab": {
          "base_uri": "https://localhost:8080/"
        },
        "id": "DW6mxzggpvKw",
        "outputId": "d2348c2c-1d7e-451a-f2cf-d36c2e032a37"
      },
      "execution_count": null,
      "outputs": [
        {
          "output_type": "execute_result",
          "data": {
            "text/plain": [
              "{'city': None,\n",
              " 'street': None,\n",
              " 'building': None,\n",
              " 'lat': None,\n",
              " 'lng': None,\n",
              " 'description': None,\n",
              " 'raw': 'Москва, ул. Введенского, д. 1, м. Калужская',\n",
              " 'metro': None,\n",
              " 'metro_stations': [],\n",
              " 'id': '170835'}"
            ]
          },
          "metadata": {},
          "execution_count": 127
        }
      ]
    },
    {
      "cell_type": "markdown",
      "source": [
        ">**Примечание**\n",
        ">\n",
        ">В `data['pages']` будет хранится количество найденных страниц вакансий - для корректного сбора данных Вам нужно пробежать по **КАЖДОЙ** странице и сделать соотвествующие запросы."
      ],
      "metadata": {
        "id": "O-qAwsmrTAvQ"
      }
    },
    {
      "cell_type": "markdown",
      "source": [
        ">**Совет**\n",
        ">\n",
        ">Посмотрите что хранится в `items`!"
      ],
      "metadata": {
        "id": "OEPOQVYxsMyN"
      }
    },
    {
      "cell_type": "markdown",
      "source": [
        "(1 балл) Выберете для нас 5 наиболее интересных специальностей и получите по ним имеющиеся вакансии:"
      ],
      "metadata": {
        "id": "JWvkFrh9qhkj"
      }
    },
    {
      "cell_type": "code",
      "source": [
        "vacancies = {}\n",
        "\n",
        "def get_vacancy(name):\n",
        "    \n",
        "    URL = 'https://api.hh.ru/vacancies'\n",
        "\n",
        "    params = {\n",
        "        'text': name,\n",
        "        'area': 1,\n",
        "        'page': 0,\n",
        "        'per_page': 100\n",
        "    }\n",
        "    data = requests.get(URL, params).json()\n",
        "    vacancies[name] = data['items']\n",
        "    sleep(1)\n",
        "    num_pages = data['pages']\n",
        "    for i in range(num_pages):\n",
        "      if i != 0:\n",
        "        get_vacancy_per_page(name, i)\n",
        "\n",
        "def get_vacancy_per_page(name, page):\n",
        "    URL = 'https://api.hh.ru/vacancies'\n",
        "\n",
        "    params = {\n",
        "        'text': name,\n",
        "        'area': 1,\n",
        "        'page': page,\n",
        "        'per_page': 100\n",
        "    }\n",
        "    data = requests.get(URL, params).json()\n",
        "    vacancies[name] += data['items']\n",
        "    sleep(1)\n",
        "\n",
        "get_vacancy(\"Врач-нейрохирург\")\n",
        "get_vacancy(\"Редактор-корректор\")\n",
        "get_vacancy(\"Детский аниматор\")\n",
        "get_vacancy(\"Налоговый консультант\")\n",
        "get_vacancy(\"Официант-бармен\")\n",
        "\n"
      ],
      "metadata": {
        "id": "_Nm-vyiBqugq"
      },
      "execution_count": null,
      "outputs": []
    },
    {
      "cell_type": "markdown",
      "source": [
        "(1 балл) Посчитайте сколько всего найдено вакансий:"
      ],
      "metadata": {
        "id": "g0bdgyNWquuY"
      }
    },
    {
      "cell_type": "code",
      "source": [
        "for key in vacancies.keys():\n",
        "  print(key, len(vacancies[key]))"
      ],
      "metadata": {
        "id": "lxyXtIs6q5cc",
        "colab": {
          "base_uri": "https://localhost:8080/"
        },
        "outputId": "df821168-ae2d-4976-b047-1acec5a98afe"
      },
      "execution_count": null,
      "outputs": [
        {
          "output_type": "stream",
          "name": "stdout",
          "text": [
            "Врач-нейрохирург 5\n",
            "Редактор-корректор 52\n",
            "Детский аниматор 93\n",
            "Налоговый консультант 108\n",
            "Официант-бармен 225\n"
          ]
        }
      ]
    },
    {
      "cell_type": "markdown",
      "source": [
        "(1 балл) Создайте структуру данных, которая будет хранить в себе имя компании и ее координаты (широта и долгота):"
      ],
      "metadata": {
        "id": "wQeULnNyq5wk"
      }
    },
    {
      "cell_type": "code",
      "source": [
        "class Company:\n",
        "    def __init__(self, name, job):\n",
        "      self.name = name\n",
        "      self.jobs = [job]\n",
        "\n",
        "    def add_job(self, job):\n",
        "      self.jobs += [job]\n",
        "      "
      ],
      "metadata": {
        "id": "aR501yltVdLm"
      },
      "execution_count": null,
      "outputs": []
    },
    {
      "cell_type": "markdown",
      "source": [
        "(1 балл) Создайте экземпляр этой структуры данных для каждой компании, которая выставила вакансию:"
      ],
      "metadata": {
        "id": "ccIi3wIvVkG0"
      }
    },
    {
      "cell_type": "code",
      "source": [
        "companies = dict()\n",
        "cnt = 0\n",
        "for name in vacancies.keys():\n",
        "  for job in vacancies[name]:\n",
        "\n",
        "    if companies.get(job['employer']['id']) == None:\n",
        "      companies[job['employer']['id']] = Company(job['employer']['name'], job)\n",
        "    else:\n",
        "      companies[job['employer']['id']].add_job(job) "
      ],
      "metadata": {
        "id": "tR6mYW7jtcCQ"
      },
      "execution_count": null,
      "outputs": []
    },
    {
      "cell_type": "markdown",
      "source": [
        "(1 балл) Найдите количество вакансий, у которых заданы координаты (значения данных может быть пустым):"
      ],
      "metadata": {
        "id": "SyBpNd0vtcNu"
      }
    },
    {
      "cell_type": "code",
      "source": [
        "vacancies_with_coords = []\n",
        "cnt_coords = 0\n",
        "for company in companies.values():\n",
        "  for job in company.jobs:\n",
        "    if not job.get('address') == None:\n",
        "      if not job['address'].get('lat') == None and job['address']['lat'] != 0.0 and job.get('salary') and job['salary'].get('from') != None and job['address'].get('street') != None:\n",
        "        vacancies_with_coords += [job]\n",
        "print(len(vacancies_with_coords))"
      ],
      "metadata": {
        "id": "lVgNCVALt2qJ",
        "colab": {
          "base_uri": "https://localhost:8080/"
        },
        "outputId": "8c748bbf-67ad-4ff6-fa3c-1d49107eddc8"
      },
      "execution_count": null,
      "outputs": [
        {
          "output_type": "stream",
          "name": "stdout",
          "text": [
            "218\n"
          ]
        }
      ]
    },
    {
      "cell_type": "markdown",
      "source": [
        "(1 балл) Отберите вакансии, которые расположены в пределах МКАД (можно грубо):"
      ],
      "metadata": {
        "id": "aWNXrM-cu5Vi"
      }
    },
    {
      "cell_type": "code",
      "source": [
        "vacancies_inside_mkad = []\n",
        "\n",
        "for vacancy in vacancies_with_coords:\n",
        "  if (((vacancy['address']['lat'] - 55.7522200) * 63.995) ** 2 + ((vacancy['address']['lng'] - 37.6155600) * 63.995) ** 2) < 13.3 ** 2:\n",
        "    vacancies_inside_mkad += [vacancy]"
      ],
      "metadata": {
        "id": "01g9wVEyyn-J"
      },
      "execution_count": null,
      "outputs": []
    },
    {
      "cell_type": "markdown",
      "source": [
        "(1 балл) Постройте график в координатах \"широта-долгота\" для отображения вакансий внутри МКАД (не забывайте прописать прозрачность, чтобы увидеть скопления):"
      ],
      "metadata": {
        "id": "4LCb9IL_bgB_"
      }
    },
    {
      "cell_type": "code",
      "source": [
        "plt.title('Положение вакансий в Москве')\n",
        "for vacancy in vacancies_inside_mkad:\n",
        "  plt.scatter(vacancy['address']['lng'], vacancy['address']['lat'], c = '#1f77b4', alpha = 0.5, edgecolor = '#1f77b4')\n",
        "plt.axis([37.6155600 - 0.5 , 37.6155600 + 0.5, 55.7522200 - 0.5, 55.7522200 + 0.5])\n",
        "plt.show()"
      ],
      "metadata": {
        "id": "6ogiXDvKcDV8",
        "colab": {
          "base_uri": "https://localhost:8080/",
          "height": 452
        },
        "outputId": "958b27b7-456c-4744-be78-70a5162a664e"
      },
      "execution_count": null,
      "outputs": [
        {
          "output_type": "display_data",
          "data": {
            "text/plain": [
              "<Figure size 640x480 with 1 Axes>"
            ],
            "image/png": "[encoded data removed]"
          },
          "metadata": {}
        }
      ]
    },
    {
      "cell_type": "markdown",
      "source": [
        "(1 балл) Нанесите все точки вакансий на карту (для этого вам поможет данная <a target=\"_blank\" href=\"https://plotly.com/python/mapbox-layers/\">документации</a>, не забудьте про прозрачность и центрирование по Москве): "
      ],
      "metadata": {
        "id": "YvS8b7eqt214"
      }
    },
    {
      "cell_type": "code",
      "source": [
        "vacancies_inside_mkad_needed = []\n",
        "for vacancy in vacancies_inside_mkad:\n",
        "  vacancies_inside_mkad_needed += [{'Название' : vacancy['name'], 'Широта' : vacancy['address']['lat'], 'Долгота' : vacancy['address']['lng'], 'Зарплата' : vacancy['salary']['from'], \"Улица\" : vacancy['address']['street']}]\n",
        "\n",
        "\n",
        "\n",
        "fig = px.scatter_mapbox(vacancies_inside_mkad_needed, lat=\"Широта\", lon=\"Долгота\", hover_name=\"Название\", hover_data=[\"Зарплата\", \"Улица\"], zoom=10, height=600)\n",
        "fig.update_layout(mapbox_style=\"open-street-map\")\n",
        "fig.update_layout(margin={\"r\":0,\"t\":0,\"l\":0,\"b\":0})\n",
        "fig.show()"
      ],
      "metadata": {
        "id": "1ceHEBdAys8o",
        "colab": {
          "base_uri": "https://localhost:8080/",
          "height": 617
        },
        "outputId": "e359fb79-61e4-4666-98e7-de3f15357491"
      },
      "execution_count": null,
      "outputs": [
        {
          "output_type": "display_data",
          "data": {
            "text/html": [
              "<html>\n",
              "<head><meta charset=\"utf-8\" /></head>\n",
              "<body>\n",
              "    <div>            <script src=\"https://cdnjs.cloudflare.com/ajax/libs/mathjax/2.7.5/MathJax.js?config=TeX-AMS-MML_SVG\"></script><script type=\"text/javascript\">if (window.MathJax && window.MathJax.Hub && window.MathJax.Hub.Config) {window.MathJax.Hub.Config({SVG: {font: \"STIX-Web\"}});}</script>                <script type=\"text/javascript\">window.PlotlyConfig = {MathJaxConfig: 'local'};</script>\n",
              "        <script src=\"https://cdn.plot.ly/plotly-2.18.2.min.js\"></script>                <div id=\"20301e46-6935-4add-9855-3cdd71f2af31\" class=\"plotly-graph-div\" style=\"height:600px; width:100%;\"></div>            <script type=\"text/javascript\">                                    window.PLOTLYENV=window.PLOTLYENV || {};                                    if (document.getElementById(\"20301e46-6935-4add-9855-3cdd71f2af31\")) {                    Plotly.newPlot(                        \"20301e46-6935-4add-9855-3cdd71f2af31\",                        [{\"customdata\":[[30000,\"\\u0443\\u043b\\u0438\\u0446\\u0430 \\u0429\\u0435\\u043f\\u043a\\u0438\\u043d\\u0430\"],[45000,\"\\u0443\\u043b\\u0438\\u0446\\u0430 \\u041f\\u0443\\u0434\\u043e\\u0432\\u043a\\u0438\\u043d\\u0430\"],[70000,\"\\u0421\\u0430\\u0434\\u043e\\u0432\\u0430\\u044f-\\u041a\\u0443\\u0434\\u0440\\u0438\\u043d\\u0441\\u043a\\u0430\\u044f \\u0443\\u043b\\u0438\\u0446\\u0430\"],[40000,\"\\u043f\\u0440\\u043e\\u0441\\u043f\\u0435\\u043a\\u0442 \\u041c\\u0430\\u0440\\u0448\\u0430\\u043b\\u0430 \\u0416\\u0443\\u043a\\u043e\\u0432\\u0430\"],[60000,\"1-\\u0439 \\u0414\\u0435\\u0440\\u0431\\u0435\\u043d\\u0435\\u0432\\u0441\\u043a\\u0438\\u0439 \\u043f\\u0435\\u0440\\u0435\\u0443\\u043b\\u043e\\u043a\"],[65000,\"\\u0443\\u043b\\u0438\\u0446\\u0430 \\u0417\\u043e\\u0440\\u0433\\u0435\"],[50000,\"\\u0410\\u0432\\u0442\\u043e\\u0437\\u0430\\u0432\\u043e\\u0434\\u0441\\u043a\\u0430\\u044f \\u0443\\u043b\\u0438\\u0446\\u0430\"],[89000,\"\\u041c\\u0440\\u0443\\u0437\\u043e\\u0432\\u0441\\u043a\\u0438\\u0439 \\u043f\\u0435\\u0440\\u0435\\u0443\\u043b\\u043e\\u043a\"],[70000,\"\\u043f\\u0440\\u043e\\u0441\\u043f\\u0435\\u043a\\u0442 \\u041c\\u0438\\u0440\\u0430\"],[59000,\"\\u0420\\u044f\\u0437\\u0430\\u043d\\u0441\\u043a\\u0438\\u0439 \\u043f\\u0440\\u043e\\u0441\\u043f\\u0435\\u043a\\u0442\"],[100000,\"\\u041c\\u0430\\u0440\\u043a\\u0441\\u0438\\u0441\\u0442\\u0441\\u043a\\u0430\\u044f \\u0443\\u043b\\u0438\\u0446\\u0430\"],[45000,\"\\u0443\\u043b\\u0438\\u0446\\u0430 \\u0428\\u0443\\u043c\\u043a\\u0438\\u043d\\u0430\"],[40000,\"\\u041d\\u043e\\u0432\\u043e\\u0434\\u043c\\u0438\\u0442\\u0440\\u043e\\u0432\\u0441\\u043a\\u0430\\u044f \\u0443\\u043b\\u0438\\u0446\\u0430\"],[45000,\"\\u0443\\u043b\\u0438\\u0446\\u0430 \\u041f\\u0435\\u0442\\u0440\\u043e\\u0432\\u043a\\u0430\"],[50000,\"\\u041f\\u0440\\u0435\\u0441\\u043d\\u0435\\u043d\\u0441\\u043a\\u0430\\u044f \\u043d\\u0430\\u0431\\u0435\\u0440\\u0435\\u0436\\u043d\\u0430\\u044f\"],[20000,\"\\u0422\\u0435\\u0430\\u0442\\u0440\\u0430\\u043b\\u044c\\u043d\\u044b\\u0439 \\u043f\\u0440\\u043e\\u0435\\u0437\\u0434\"],[40000,\"\\u0443\\u043b\\u0438\\u0446\\u0430 \\u0410\\u043a\\u0430\\u0434\\u0435\\u043c\\u0438\\u043a\\u0430 \\u041a\\u043e\\u0440\\u043e\\u043b\\u0451\\u0432\\u0430\"],[35000,\"\\u043f\\u0440\\u043e\\u0441\\u043f\\u0435\\u043a\\u0442 \\u041c\\u0438\\u0440\\u0430\"],[40000,\"\\u0429\\u0451\\u043b\\u043a\\u043e\\u0432\\u0441\\u043a\\u043e\\u0435 \\u0448\\u043e\\u0441\\u0441\\u0435\"],[30000,\"\\u0443\\u043b\\u0438\\u0446\\u0430 \\u041e\\u0441\\u0442\\u0440\\u043e\\u0432\\u0438\\u0442\\u044f\\u043d\\u043e\\u0432\\u0430\"],[70000,\"\\u0421\\u0442\\u043e\\u0440\\u043e\\u0436\\u0435\\u0432\\u0430\\u044f \\u0443\\u043b\\u0438\\u0446\\u0430\"],[80000,\"\\u0421\\u0442\\u043e\\u0440\\u043e\\u0436\\u0435\\u0432\\u0430\\u044f \\u0443\\u043b\\u0438\\u0446\\u0430\"],[8500,\"\\u0421\\u0442\\u0430\\u0440\\u043e\\u043a\\u0430\\u0447\\u0430\\u043b\\u043e\\u0432\\u0441\\u043a\\u0430\\u044f \\u0443\\u043b\\u0438\\u0446\\u0430\"],[40000,\"\\u041c\\u0438\\u0447\\u0443\\u0440\\u0438\\u043d\\u0441\\u043a\\u0438\\u0439 \\u043f\\u0440\\u043e\\u0441\\u043f\\u0435\\u043a\\u0442\"],[36000,\"\\u041a\\u0438\\u0440\\u043e\\u0432\\u043e\\u0433\\u0440\\u0430\\u0434\\u0441\\u043a\\u0430\\u044f \\u0443\\u043b\\u0438\\u0446\\u0430\"],[60000,\"\\u041a\\u0438\\u0440\\u043e\\u0432\\u043e\\u0433\\u0440\\u0430\\u0434\\u0441\\u043a\\u0430\\u044f \\u0443\\u043b\\u0438\\u0446\\u0430\"],[80000,\"\\u0411\\u0435\\u0440\\u0441\\u0435\\u043d\\u0435\\u0432\\u0441\\u043a\\u0438\\u0439 \\u043f\\u0435\\u0440\\u0435\\u0443\\u043b\\u043e\\u043a\"],[40000,\"\\u0420\\u044f\\u0437\\u0430\\u043d\\u0441\\u043a\\u0438\\u0439 \\u043f\\u0440\\u043e\\u0441\\u043f\\u0435\\u043a\\u0442\"],[70000,\"\\u041f\\u043e\\u043b\\u043a\\u043e\\u0432\\u0430\\u044f \\u0443\\u043b\\u0438\\u0446\\u0430\"],[40000,\"\\u0414\\u043c\\u0438\\u0442\\u0440\\u043e\\u0432\\u0441\\u043a\\u043e\\u0435 \\u0448\\u043e\\u0441\\u0441\\u0435\"],[40000,\"\\u043f\\u0440\\u043e\\u0441\\u043f\\u0435\\u043a\\u0442 \\u041c\\u0438\\u0440\\u0430\"],[40000,\"\\u0410\\u0437\\u043e\\u0432\\u0441\\u043a\\u0430\\u044f \\u0443\\u043b\\u0438\\u0446\\u0430\"],[45000,\"\\u0428\\u0435\\u0440\\u0435\\u043c\\u0435\\u0442\\u044c\\u0435\\u0432\\u0441\\u043a\\u0430\\u044f \\u0443\\u043b\\u0438\\u0446\\u0430\"],[20000,\"\\u041a\\u0430\\u0448\\u0438\\u0440\\u0441\\u043a\\u043e\\u0435 \\u0448\\u043e\\u0441\\u0441\\u0435\"],[35000,\"\\u0425\\u043e\\u0434\\u044b\\u043d\\u0441\\u043a\\u0438\\u0439 \\u0431\\u0443\\u043b\\u044c\\u0432\\u0430\\u0440\"],[45000,\"\\u0443\\u043b\\u0438\\u0446\\u0430 \\u0412\\u0430\\u0441\\u0438\\u043b\\u0438\\u0441\\u044b \\u041a\\u043e\\u0436\\u0438\\u043d\\u043e\\u0439\"],[40000,\"\\u0421\\u0438\\u0440\\u0435\\u043d\\u0435\\u0432\\u044b\\u0439 \\u0431\\u0443\\u043b\\u044c\\u0432\\u0430\\u0440\"],[60000,\"\\u0410\\u043c\\u0438\\u043d\\u044c\\u0435\\u0432\\u0441\\u043a\\u043e\\u0435 \\u0448\\u043e\\u0441\\u0441\\u0435\"],[35000,\"\\u042d\\u043b\\u0435\\u043a\\u0442\\u0440\\u043e\\u043b\\u0438\\u0442\\u043d\\u044b\\u0439 \\u043f\\u0440\\u043e\\u0435\\u0437\\u0434\"],[52000,\"\\u041a\\u0440\\u0430\\u0441\\u043d\\u043e\\u043f\\u0440\\u0435\\u0441\\u043d\\u0435\\u043d\\u0441\\u043a\\u0430\\u044f \\u043d\\u0430\\u0431\\u0435\\u0440\\u0435\\u0436\\u043d\\u0430\\u044f\"],[55500,\"\\u0428\\u0435\\u043b\\u0435\\u043f\\u0438\\u0445\\u0438\\u043d\\u0441\\u043a\\u0430\\u044f \\u043d\\u0430\\u0431\\u0435\\u0440\\u0435\\u0436\\u043d\\u0430\\u044f\"],[55000,\"\\u0428\\u0435\\u043b\\u0435\\u043f\\u0438\\u0445\\u0438\\u043d\\u0441\\u043a\\u0430\\u044f \\u043d\\u0430\\u0431\\u0435\\u0440\\u0435\\u0436\\u043d\\u0430\\u044f\"],[22000,\"\\u0410\\u0432\\u0442\\u043e\\u0437\\u0430\\u0432\\u043e\\u0434\\u0441\\u043a\\u0430\\u044f \\u0443\\u043b\\u0438\\u0446\\u0430\"],[35000,\"\\u0426\\u0435\\u043d\\u0442\\u0440\\u0430\\u043b\\u044c\\u043d\\u044b\\u0439 \\u0430\\u0434\\u043c\\u0438\\u043d\\u0438\\u0441\\u0442\\u0440\\u0430\\u0442\\u0438\\u0432\\u043d\\u044b\\u0439 \\u043e\\u043a\\u0440\\u0443\\u0433, \\u0422\\u0432\\u0435\\u0440\\u0441\\u043a\\u043e\\u0439 \\u0440\\u0430\\u0439\\u043e\\u043d, \\u0422\\u0435\\u0430\\u0442\\u0440\\u0430\\u043b\\u044c\\u043d\\u044b\\u0439 \\u043f\\u0440\\u043e\\u0435\\u0437\\u0434\"],[90000,\"\\u0443\\u043b\\u0438\\u0446\\u0430 \\u0417\\u0435\\u043c\\u043b\\u044f\\u043d\\u043e\\u0439 \\u0412\\u0430\\u043b\"],[200000,\"\\u0443\\u043b\\u0438\\u0446\\u0430 \\u041a\\u0440\\u044b\\u043c\\u0441\\u043a\\u0438\\u0439 \\u0412\\u0430\\u043b\"],[150000,\"\\u043f\\u0440\\u043e\\u0435\\u0437\\u0434 \\u0417\\u0430\\u0432\\u043e\\u0434\\u0430 \\u0421\\u0435\\u0440\\u043f \\u0438 \\u041c\\u043e\\u043b\\u043e\\u0442\"],[60000,\"\\u041e\\u0447\\u0430\\u043a\\u043e\\u0432\\u0441\\u043a\\u043e\\u0435 \\u0448\\u043e\\u0441\\u0441\\u0435\"],[100000,\"\\u0412\\u0430\\u0440\\u0448\\u0430\\u0432\\u0441\\u043a\\u043e\\u0435 \\u0448\\u043e\\u0441\\u0441\\u0435\"],[80000,\"\\u0443\\u043b\\u0438\\u0446\\u0430 \\u042f\\u0431\\u043b\\u043e\\u0447\\u043a\\u043e\\u0432\\u0430\"],[160000,\"\\u0417\\u0443\\u0431\\u043e\\u0432\\u0441\\u043a\\u0438\\u0439 \\u0431\\u0443\\u043b\\u044c\\u0432\\u0430\\u0440\"],[120000,\"\\u041a\\u043e\\u043c\\u0441\\u043e\\u043c\\u043e\\u043b\\u044c\\u0441\\u043a\\u0438\\u0439 \\u043f\\u0440\\u043e\\u0441\\u043f\\u0435\\u043a\\u0442\"],[90000,\"\\u041c\\u0430\\u0436\\u043e\\u0440\\u043e\\u0432 \\u043f\\u0435\\u0440\\u0435\\u0443\\u043b\\u043e\\u043a\"],[140000,\"\\u041a\\u0430\\u043b\\u0438\\u043d\\u0438\\u043d\\u0441\\u043a\\u043e-\\u0421\\u043e\\u043b\\u043d\\u0446\\u0435\\u0432\\u0441\\u043a\\u0430\\u044f \\u043b\\u0438\\u043d\\u0438\\u044f\"],[140000,\"\\u0417\\u0435\\u043b\\u0451\\u043d\\u044b\\u0439 \\u0431\\u0443\\u043b\\u044c\\u0432\\u0430\\u0440\"],[65000,\"\\u0412\\u043e\\u043b\\u043e\\u043a\\u043e\\u043b\\u0430\\u043c\\u0441\\u043a\\u043e\\u0435 \\u0448\\u043e\\u0441\\u0441\\u0435\"],[100000,\"\\u0443\\u043b\\u0438\\u0446\\u0430 \\u041b\\u044c\\u0432\\u0430 \\u0422\\u043e\\u043b\\u0441\\u0442\\u043e\\u0433\\u043e\"],[100000,\"\\u0414\\u0443\\u0445\\u043e\\u0432\\u0441\\u043a\\u043e\\u0439 \\u043f\\u0435\\u0440\\u0435\\u0443\\u043b\\u043e\\u043a\"],[150000,\"1-\\u0439 \\u041c\\u0430\\u0433\\u0438\\u0441\\u0442\\u0440\\u0430\\u043b\\u044c\\u043d\\u044b\\u0439 \\u0442\\u0443\\u043f\\u0438\\u043a\"],[80000,\"\\u0421\\u043b\\u0430\\u0432\\u044f\\u043d\\u0441\\u043a\\u0430\\u044f \\u043f\\u043b\\u043e\\u0449\\u0430\\u0434\\u044c\"],[150000,\"\\u0443\\u043b\\u0438\\u0446\\u0430 \\u0417\\u043e\\u0440\\u0433\\u0435\"],[65000,\"1-\\u0439 \\u041c\\u0430\\u0433\\u0438\\u0441\\u0442\\u0440\\u0430\\u043b\\u044c\\u043d\\u044b\\u0439 \\u0442\\u0443\\u043f\\u0438\\u043a\"],[120000,\"\\u0443\\u043b\\u0438\\u0446\\u0430 \\u041c\\u0430\\u043b\\u0430\\u044f \\u0414\\u043c\\u0438\\u0442\\u0440\\u043e\\u0432\\u043a\\u0430\"],[85000,\"\\u0443\\u043b\\u0438\\u0446\\u0430 \\u041c\\u0430\\u043b\\u0430\\u044f \\u0414\\u043c\\u0438\\u0442\\u0440\\u043e\\u0432\\u043a\\u0430\"],[16242,\"\\u0414\\u043e\\u043b\\u0433\\u043e\\u0440\\u0443\\u043a\\u043e\\u0432\\u0441\\u043a\\u0430\\u044f \\u0443\\u043b\\u0438\\u0446\\u0430\"],[100000,\"\\u041d\\u0438\\u043a\\u043e\\u043b\\u044c\\u0441\\u043a\\u0430\\u044f \\u0443\\u043b\\u0438\\u0446\\u0430\"],[40000,\"\\u0443\\u043b\\u0438\\u0446\\u0430 \\u0417\\u0435\\u043c\\u043b\\u044f\\u043d\\u043e\\u0439 \\u0412\\u0430\\u043b\"],[80000,\"\\u0443\\u043b\\u0438\\u0446\\u0430 \\u041c\\u0430\\u043b\\u0430\\u044f \\u041e\\u0440\\u0434\\u044b\\u043d\\u043a\\u0430\"],[47000,\"\\u041c\\u0430\\u0440\\u043a\\u0441\\u0438\\u0441\\u0442\\u0441\\u043a\\u0430\\u044f \\u0443\\u043b\\u0438\\u0446\\u0430\"],[100000,\"\\u041a\\u0440\\u0430\\u0441\\u043d\\u043e\\u043a\\u0430\\u0437\\u0430\\u0440\\u043c\\u0435\\u043d\\u043d\\u0430\\u044f \\u0443\\u043b\\u0438\\u0446\\u0430\"],[80000,\"\\u0443\\u043b\\u0438\\u0446\\u0430 \\u041a\\u0440\\u0430\\u0441\\u043d\\u0430\\u044f \\u041f\\u0440\\u0435\\u0441\\u043d\\u044f\"],[80000,\"\\u041c\\u0438\\u0442\\u044c\\u043a\\u043e\\u0432\\u0441\\u043a\\u0438\\u0439 \\u043f\\u0440\\u043e\\u0435\\u0437\\u0434\"],[50000,\"\\u041a\\u043e\\u043b\\u044c\\u0446\\u0435\\u0432\\u0430\\u044f \\u043b\\u0438\\u043d\\u0438\\u044f\"],[50000,\"\\u041a\\u043e\\u043b\\u044c\\u0446\\u0435\\u0432\\u0430\\u044f \\u043b\\u0438\\u043d\\u0438\\u044f\"],[50000,\"\\u041c\\u0438\\u043d\\u0441\\u043a\\u0430\\u044f \\u0443\\u043b\\u0438\\u0446\\u0430\"],[40000,\"\\u041c\\u0438\\u0447\\u0443\\u0440\\u0438\\u043d\\u0441\\u043a\\u0438\\u0439 \\u043f\\u0440\\u043e\\u0441\\u043f\\u0435\\u043a\\u0442\"],[50000,\"\\u041a\\u043e\\u043b\\u044c\\u0446\\u0435\\u0432\\u0430\\u044f \\u043b\\u0438\\u043d\\u0438\\u044f\"],[90000,\"\\u0443\\u043b\\u0438\\u0446\\u0430 \\u041f\\u043e\\u043a\\u0440\\u043e\\u0432\\u043a\\u0430\"],[90000,\"\\u0443\\u043b\\u0438\\u0446\\u0430 \\u041f\\u043e\\u043a\\u0440\\u043e\\u0432\\u043a\\u0430\"],[70000,\"\\u0421\\u0435\\u0440\\u043f\\u0443\\u0445\\u043e\\u0432\\u0441\\u043a\\u043e-\\u0422\\u0438\\u043c\\u0438\\u0440\\u044f\\u0437\\u0435\\u0432\\u0441\\u043a\\u0430\\u044f \\u043b\\u0438\\u043d\\u0438\\u044f\"],[95000,\"\\u0411\\u043e\\u043b\\u044c\\u0448\\u043e\\u0439 \\u041f\\u0430\\u0442\\u0440\\u0438\\u0430\\u0440\\u0448\\u0438\\u0439 \\u043f\\u0435\\u0440\\u0435\\u0443\\u043b\\u043e\\u043a\"],[100000,\"\\u0422\\u0440\\u0438\\u0444\\u043e\\u043d\\u043e\\u0432\\u0441\\u043a\\u0430\\u044f \\u0443\\u043b\\u0438\\u0446\\u0430\"],[60000,\"\\u041f\\u0440\\u0435\\u0441\\u043d\\u0435\\u043d\\u0441\\u043a\\u0430\\u044f \\u043d\\u0430\\u0431\\u0435\\u0440\\u0435\\u0436\\u043d\\u0430\\u044f\"],[35000,\"\\u0411\\u043e\\u043b\\u044c\\u0448\\u0430\\u044f \\u0410\\u043d\\u0434\\u0440\\u043e\\u043d\\u044c\\u0435\\u0432\\u0441\\u043a\\u0430\\u044f \\u0443\\u043b\\u0438\\u0446\\u0430\"],[50000,\"\\u0411\\u043e\\u043b\\u044c\\u0448\\u0430\\u044f \\u0410\\u043d\\u0434\\u0440\\u043e\\u043d\\u044c\\u0435\\u0432\\u0441\\u043a\\u0430\\u044f \\u0443\\u043b\\u0438\\u0446\\u0430\"],[3000,\"\\u0412\\u0430\\u0440\\u0448\\u0430\\u0432\\u0441\\u043a\\u043e\\u0435 \\u0448\\u043e\\u0441\\u0441\\u0435\"],[60000,\"\\u041f\\u0435\\u0432\\u0447\\u0435\\u0441\\u043a\\u0438\\u0439 \\u043f\\u0435\\u0440\\u0435\\u0443\\u043b\\u043e\\u043a\"],[70000,\"\\u043f\\u0440\\u043e\\u0441\\u043f\\u0435\\u043a\\u0442 \\u041c\\u0430\\u0440\\u0448\\u0430\\u043b\\u0430 \\u0416\\u0443\\u043a\\u043e\\u0432\\u0430\"],[90000,\"\\u0443\\u043b\\u0438\\u0446\\u0430 \\u0411\\u043e\\u043b\\u044c\\u0448\\u0430\\u044f \\u0414\\u043c\\u0438\\u0442\\u0440\\u043e\\u0432\\u043a\\u0430\"],[60000,\"\\u0443\\u043b\\u0438\\u0446\\u0430 \\u041b\\u0435\\u0441\\u0442\\u0435\\u0432\\u0430\"],[100000,\"5 \\u0443\\u043b\\u0438\\u0446\\u0430 \\u041f\\u0440\\u0435\\u0441\\u043d\\u0435\\u043d\\u0441\\u043a\\u0438\\u0439 \\u0412\\u0430\\u043b\"],[58800,\"\\u043f\\u0440\\u043e\\u0441\\u043f\\u0435\\u043a\\u0442 \\u041c\\u0438\\u0440\\u0430\"],[50000,\"26/1 \\u0443\\u043b\\u0438\\u0446\\u0430 \\u0421\\u0440\\u0435\\u0442\\u0435\\u043d\\u043a\\u0430\"],[50000,\"\\u0411\\u0438\\u0440\\u044e\\u043b\\u0451\\u0432\\u0441\\u043a\\u0430\\u044f \\u0443\\u043b\\u0438\\u0446\\u0430\"],[50000,\"\\u041a\\u0440\\u0438\\u0432\\u043e\\u043a\\u043e\\u043b\\u0435\\u043d\\u043d\\u044b\\u0439 \\u043f\\u0435\\u0440\\u0435\\u0443\\u043b\\u043e\\u043a\"],[45000,\"\\u0443\\u043b\\u0438\\u0446\\u0430 \\u042f\\u0431\\u043b\\u043e\\u0447\\u043a\\u043e\\u0432\\u0430\"],[55000,\"\\u041b\\u0435\\u043d\\u0438\\u043d\\u0433\\u0440\\u0430\\u0434\\u0441\\u043a\\u043e\\u0435 \\u0448\\u043e\\u0441\\u0441\\u0435\"],[35000,\"13-\\u044f \\u041f\\u0430\\u0440\\u043a\\u043e\\u0432\\u0430\\u044f \\u0443\\u043b\\u0438\\u0446\\u0430\"],[60000,\"27-1 \\u041c\\u0430\\u043b\\u0430\\u044f \\u041d\\u0438\\u043a\\u0438\\u0442\\u0441\\u043a\\u0430\\u044f \\u0443\\u043b\\u0438\\u0446\\u0430\"],[50000,\"\\u0410\\u0432\\u0442\\u043e\\u0437\\u0430\\u0432\\u043e\\u0434\\u0441\\u043a\\u0430\\u044f \\u0443\\u043b\\u0438\\u0446\\u0430\"],[55000,\"\\u0443\\u043b\\u0438\\u0446\\u0430 \\u0411\\u0443\\u0442\\u043b\\u0435\\u0440\\u043e\\u0432\\u0430\"],[80000,\"\\u0411\\u043e\\u043b\\u044c\\u0448\\u043e\\u0439 \\u041f\\u0430\\u0442\\u0440\\u0438\\u0430\\u0440\\u0448\\u0438\\u0439 \\u043f\\u0435\\u0440\\u0435\\u0443\\u043b\\u043e\\u043a\"],[150000,\"\\u041c\\u044f\\u0441\\u043d\\u0438\\u0446\\u043a\\u0430\\u044f \\u0443\\u043b\\u0438\\u0446\\u0430\"],[45000,\"\\u0414\\u0430\\u0432\\u044b\\u0434\\u043a\\u043e\\u0432\\u0441\\u043a\\u0430\\u044f \\u0443\\u043b\\u0438\\u0446\\u0430\"],[45000,\"1-\\u0439 \\u041e\\u0431\\u044b\\u0434\\u0435\\u043d\\u0441\\u043a\\u0438\\u0439 \\u043f\\u0435\\u0440\\u0435\\u0443\\u043b\\u043e\\u043a\"],[85400,\"\\u043f\\u0440\\u043e\\u0441\\u043f\\u0435\\u043a\\u0442 \\u041c\\u0438\\u0440\\u0430\"],[40000,\"\\u041d\\u043e\\u0432\\u043e\\u0430\\u043b\\u0435\\u043a\\u0441\\u0435\\u0435\\u0432\\u0441\\u043a\\u0430\\u044f \\u0443\\u043b\\u0438\\u0446\\u0430\"],[40000,\"2-\\u0439 \\u0413\\u0440\\u0430\\u0439\\u0432\\u043e\\u0440\\u043e\\u043d\\u043e\\u0432\\u0441\\u043a\\u0438\\u0439 \\u043f\\u0440\\u043e\\u0435\\u0437\\u0434\"],[50000,\"\\u042f\\u0440\\u043e\\u0441\\u043b\\u0430\\u0432\\u0441\\u043a\\u043e\\u0435 \\u0448\\u043e\\u0441\\u0441\\u0435\"],[50000,\"\\u041b\\u0438\\u043f\\u0435\\u0446\\u043a\\u0430\\u044f \\u0443\\u043b\\u0438\\u0446\\u0430\"],[57000,\"3-\\u044f \\u0412\\u043b\\u0430\\u0434\\u0438\\u043c\\u0438\\u0440\\u0441\\u043a\\u0430\\u044f \\u0443\\u043b\\u0438\\u0446\\u0430\"],[45000,\"\\u0443\\u043b\\u0438\\u0446\\u0430 \\u041f\\u0435\\u0440\\u0435\\u0440\\u0432\\u0430\"],[50000,\"\\u0443\\u043b\\u0438\\u0446\\u0430 \\u041a\\u043e\\u0441\\u043c\\u043e\\u043d\\u0430\\u0432\\u0442\\u043e\\u0432\"],[57000,\"3-\\u044f \\u0412\\u043b\\u0430\\u0434\\u0438\\u043c\\u0438\\u0440\\u0441\\u043a\\u0430\\u044f \\u0443\\u043b\\u0438\\u0446\\u0430\"],[52000,\"\\u0443\\u043b\\u0438\\u0446\\u0430 \\u041c\\u0438\\u0440\\u0430\"],[55000,\"\\u041f\\u0440\\u0435\\u0441\\u043d\\u0435\\u043d\\u0441\\u043a\\u0430\\u044f \\u043d\\u0430\\u0431\\u0435\\u0440\\u0435\\u0436\\u043d\\u0430\\u044f\"],[50000,\"\\u0443\\u043b\\u0438\\u0446\\u0430 \\u0411\\u043e\\u043b\\u044c\\u0448\\u0430\\u044f \\u042f\\u043a\\u0438\\u043c\\u0430\\u043d\\u043a\\u0430\"],[57000,\"\\u0443\\u043b\\u0438\\u0446\\u0430 \\u0428\\u0430\\u0431\\u043e\\u043b\\u043e\\u0432\\u043a\\u0430\"],[50000,\"\\u0426\\u0432\\u0435\\u0442\\u043d\\u043e\\u0439 \\u0431\\u0443\\u043b\\u044c\\u0432\\u0430\\u0440\"],[57200,\"\\u043f\\u0440\\u043e\\u0441\\u043f\\u0435\\u043a\\u0442 40 \\u043b\\u0435\\u0442 \\u041e\\u043a\\u0442\\u044f\\u0431\\u0440\\u044f\"],[57800,\"\\u0411\\u0435\\u0433\\u043e\\u0432\\u0430\\u044f \\u0443\\u043b\\u0438\\u0446\\u0430\"],[57500,\"\\u0410\\u0440\\u0431\\u0430\\u0442\\u0441\\u043a\\u043e-\\u041f\\u043e\\u043a\\u0440\\u043e\\u0432\\u0441\\u043a\\u0430\\u044f \\u043b\\u0438\\u043d\\u0438\\u044f\"],[57700,\"\\u0443\\u043b\\u0438\\u0446\\u0430 \\u041c\\u0438\\u043a\\u043b\\u0443\\u0445\\u043e-\\u041c\\u0430\\u043a\\u043b\\u0430\\u044f\"],[45000,\"\\u0443\\u043b\\u0438\\u0446\\u0430 \\u0420\\u0435\\u0447\\u043d\\u0438\\u043a\\u043e\\u0432\"],[57200,\"\\u0443\\u043b\\u0438\\u0446\\u0430 \\u0413\\u0435\\u043d\\u0435\\u0440\\u0430\\u043b\\u0430 \\u0410\\u043d\\u0442\\u043e\\u043d\\u043e\\u0432\\u0430\"],[42099,\"1-\\u044f \\u0443\\u043b\\u0438\\u0446\\u0430 \\u0422\\u0435\\u043a\\u0441\\u0442\\u0438\\u043b\\u044c\\u0449\\u0438\\u043a\\u043e\\u0432\"],[57200,\"\\u041f\\u0440\\u043e\\u0444\\u0441\\u043e\\u044e\\u0437\\u043d\\u0430\\u044f \\u0443\\u043b\\u0438\\u0446\\u0430\"],[57700,\"\\u0417\\u0430\\u043c\\u043e\\u0441\\u043a\\u0432\\u043e\\u0440\\u0435\\u0446\\u043a\\u0430\\u044f \\u043b\\u0438\\u043d\\u0438\\u044f\"],[57700,\"\\u0417\\u0430\\u043c\\u043e\\u0441\\u043a\\u0432\\u043e\\u0440\\u0435\\u0446\\u043a\\u0430\\u044f \\u043b\\u0438\\u043d\\u0438\\u044f\"],[56990,\"\\u0417\\u0430\\u043c\\u043e\\u0441\\u043a\\u0432\\u043e\\u0440\\u0435\\u0446\\u043a\\u0430\\u044f \\u043b\\u0438\\u043d\\u0438\\u044f\"],[57700,\"\\u0417\\u0430\\u043c\\u043e\\u0441\\u043a\\u0432\\u043e\\u0440\\u0435\\u0446\\u043a\\u0430\\u044f \\u043b\\u0438\\u043d\\u0438\\u044f\"],[57200,\"\\u041b\\u0435\\u043d\\u0438\\u043d\\u0441\\u043a\\u0438\\u0439 \\u043f\\u0440\\u043e\\u0441\\u043f\\u0435\\u043a\\u0442\"],[60000,\"\\u041b\\u0435\\u0441\\u043d\\u0430\\u044f \\u0443\\u043b\\u0438\\u0446\\u0430\"],[20000,\"\\u041b\\u043e\\u043a\\u043e\\u043c\\u043e\\u0442\\u0438\\u0432\\u043d\\u044b\\u0439 \\u043f\\u0440\\u043e\\u0435\\u0437\\u0434\"],[50000,\"\\u0427\\u0430\\u043f\\u0430\\u0435\\u0432\\u0441\\u043a\\u0438\\u0439 \\u043f\\u0435\\u0440\\u0435\\u0443\\u043b\\u043e\\u043a\"],[60000,\"\\u0411\\u043e\\u043b\\u044c\\u0448\\u0430\\u044f \\u042e\\u0448\\u0443\\u043d\\u044c\\u0441\\u043a\\u0430\\u044f \\u0443\\u043b\\u0438\\u0446\\u0430\"],[60000,\"\\u0421\\u0435\\u0440\\u043f\\u0443\\u0445\\u043e\\u0432\\u0441\\u043a\\u043e-\\u0422\\u0438\\u043c\\u0438\\u0440\\u044f\\u0437\\u0435\\u0432\\u0441\\u043a\\u0430\\u044f \\u043b\\u0438\\u043d\\u0438\\u044f\"],[60000,\"\\u0421\\u043e\\u043a\\u043e\\u043b\\u044c\\u043d\\u0438\\u0447\\u0435\\u0441\\u043a\\u0430\\u044f \\u043b\\u0438\\u043d\\u0438\\u044f\"],[60000,\"\\u0421\\u043e\\u043a\\u043e\\u043b\\u044c\\u043d\\u0438\\u0447\\u0435\\u0441\\u043a\\u0430\\u044f \\u043b\\u0438\\u043d\\u0438\\u044f\"],[60000,\"\\u0421\\u043e\\u043a\\u043e\\u043b\\u044c\\u043d\\u0438\\u0447\\u0435\\u0441\\u043a\\u0430\\u044f \\u043b\\u0438\\u043d\\u0438\\u044f\"],[60000,\"\\u041a\\u0443\\u0442\\u0443\\u0437\\u043e\\u0432\\u0441\\u043a\\u0438\\u0439 \\u043f\\u0440\\u043e\\u0441\\u043f\\u0435\\u043a\\u0442\"],[50000,\"\\u0410\\u0440\\u0445\\u0438\\u0442\\u0435\\u043a\\u0442\\u043e\\u0440\\u0430 \\u0429\\u0443\\u0441\\u0435\\u0432\\u0430 \\u0443\\u043b\\u0438\\u0446\\u0430\"],[80000,\"\\u041d\\u0438\\u043a\\u043e\\u043b\\u044c\\u0441\\u043a\\u0430\\u044f \\u0443\\u043b\\u0438\\u0446\\u0430\"],[60000,\"\\u0421\\u0438\\u0440\\u0435\\u043d\\u0435\\u0432\\u044b\\u0439 \\u0431\\u0443\\u043b\\u044c\\u0432\\u0430\\u0440\"],[60000,\"\\u0422\\u0432\\u0435\\u0440\\u0441\\u043a\\u0430\\u044f \\u0443\\u043b\\u0438\\u0446\\u0430\"],[60000,\"\\u0443\\u043b\\u0438\\u0446\\u0430 \\u0428\\u0432\\u0435\\u0440\\u043d\\u0438\\u043a\\u0430\"],[60000,\"\\u0421\\u043c\\u043e\\u043b\\u044c\\u043d\\u0430\\u044f \\u0443\\u043b\\u0438\\u0446\\u0430\"],[45000,\"\\u0421\\u043c\\u043e\\u043b\\u044c\\u043d\\u0430\\u044f \\u0443\\u043b\\u0438\\u0446\\u0430\"],[45000,\"\\u0443\\u043b\\u0438\\u0446\\u0430 \\u0414\\u043c\\u0438\\u0442\\u0440\\u0438\\u044f \\u0423\\u043b\\u044c\\u044f\\u043d\\u043e\\u0432\\u0430\"],[43000,\"\\u041c\\u041a\\u0410\\u0414, 86-\\u0439 \\u043a\\u0438\\u043b\\u043e\\u043c\\u0435\\u0442\\u0440, \\u0432\\u043d\\u0435\\u0448\\u043d\\u044f\\u044f \\u0441\\u0442\\u043e\\u0440\\u043e\\u043d\\u0430\"],[50000,\"\\u0429\\u0435\\u0440\\u0431\\u0430\\u043a\\u043e\\u0432\\u0441\\u043a\\u0430\\u044f \\u0443\\u043b\\u0438\\u0446\\u0430\"],[50000,\"\\u041c\\u0438\\u043d\\u0441\\u043a\\u0430\\u044f \\u0443\\u043b\\u0438\\u0446\\u0430\"],[60000,\"\\u0410\\u043c\\u0438\\u043d\\u044c\\u0435\\u0432\\u0441\\u043a\\u043e\\u0435 \\u0448\\u043e\\u0441\\u0441\\u0435\"],[50000,\"\\u0418\\u0437\\u043c\\u0430\\u0439\\u043b\\u043e\\u0432\\u0441\\u043a\\u043e\\u0435 \\u0448\\u043e\\u0441\\u0441\\u0435\"],[40000,\"\\u0411\\u043e\\u043b\\u044c\\u0448\\u0430\\u044f \\u0410\\u043a\\u0430\\u0434\\u0435\\u043c\\u0438\\u0447\\u0435\\u0441\\u043a\\u0430\\u044f \\u0443\\u043b\\u0438\\u0446\\u0430\"],[65000,\"\\u0443\\u043b\\u0438\\u0446\\u0430 \\u041d\\u0430\\u0440\\u043e\\u0434\\u043d\\u043e\\u0433\\u043e \\u041e\\u043f\\u043e\\u043b\\u0447\\u0435\\u043d\\u0438\\u044f\"],[40000,\"5 \\u0422\\u0440\\u043e\\u0438\\u043b\\u0438\\u043d\\u0441\\u043a\\u0438\\u0439 \\u043f\\u0435\\u0440\\u0435\\u0443\\u043b\\u043e\\u043a\"],[80000,\"\\u0428\\u043b\\u044e\\u0437\\u043e\\u0432\\u0430\\u044f \\u043d\\u0430\\u0431\\u0435\\u0440\\u0435\\u0436\\u043d\\u0430\\u044f\"],[70000,\"\\u0422\\u0430\\u0433\\u0430\\u043d\\u0441\\u043a\\u043e-\\u041a\\u0440\\u0430\\u0441\\u043d\\u043e\\u043f\\u0440\\u0435\\u0441\\u043d\\u0435\\u043d\\u0441\\u043a\\u0430\\u044f \\u043b\\u0438\\u043d\\u0438\\u044f\"],[70000,\"\\u041a\\u0430\\u043b\\u0443\\u0436\\u0441\\u043a\\u043e-\\u0420\\u0438\\u0436\\u0441\\u043a\\u0430\\u044f \\u043b\\u0438\\u043d\\u0438\\u044f\"],[100000,\"\\u043f\\u0440\\u043e\\u0441\\u043f\\u0435\\u043a\\u0442 \\u0412\\u0435\\u0440\\u043d\\u0430\\u0434\\u0441\\u043a\\u043e\\u0433\\u043e\"],[100000,\"\\u041f\\u0440\\u043e\\u0444\\u0441\\u043e\\u044e\\u0437\\u043d\\u0430\\u044f \\u0443\\u043b\\u0438\\u0446\\u0430\"],[60000,\"\\u0422\\u0438\\u0445\\u0432\\u0438\\u043d\\u0441\\u043a\\u0430\\u044f \\u0443\\u043b\\u0438\\u0446\\u0430\"],[70000,\"\\u041d\\u043e\\u0432\\u043e\\u044f\\u0441\\u0435\\u043d\\u0435\\u0432\\u0441\\u043a\\u0438\\u0439 \\u043f\\u0440\\u043e\\u0441\\u043f\\u0435\\u043a\\u0442\"],[60000,\"\\u0421\\u043f\\u0430\\u0440\\u0442\\u0430\\u043a\\u043e\\u0432\\u0441\\u043a\\u0438\\u0439 \\u043f\\u0435\\u0440\\u0435\\u0443\\u043b\\u043e\\u043a\"],[60000,\"\\u0443\\u043b\\u0438\\u0446\\u0430 \\u041a\\u0443\\u0445\\u043c\\u0438\\u0441\\u0442\\u0435\\u0440\\u043e\\u0432\\u0430\"],[60000,\"3-\\u044f \\u041f\\u0430\\u0440\\u043a\\u043e\\u0432\\u0430\\u044f \\u0443\\u043b\\u0438\\u0446\\u0430\"],[60000,\"\\u0443\\u043b\\u0438\\u0446\\u0430 \\u0427\\u0430\\u044f\\u043d\\u043e\\u0432\\u0430\"],[100000,\"\\u042d\\u043b\\u0435\\u043a\\u0442\\u0440\\u043e\\u0434\\u043d\\u0430\\u044f \\u0443\\u043b\\u0438\\u0446\\u0430\"],[40000,\"\\u0443\\u043b\\u0438\\u0446\\u0430 \\u0410\\u0432\\u0438\\u0430\\u043a\\u043e\\u043d\\u0441\\u0442\\u0440\\u0443\\u043a\\u0442\\u043e\\u0440\\u0430 \\u0421\\u0443\\u0445\\u043e\\u0433\\u043e\"],[70000,\"\\u0422\\u0430\\u0433\\u0430\\u043d\\u0441\\u043a\\u043e-\\u041a\\u0440\\u0430\\u0441\\u043d\\u043e\\u043f\\u0440\\u0435\\u0441\\u043d\\u0435\\u043d\\u0441\\u043a\\u0430\\u044f \\u043b\\u0438\\u043d\\u0438\\u044f\"],[60000,\"\\u0428\\u0438\\u0440\\u043e\\u043a\\u0430\\u044f \\u0443\\u043b\\u0438\\u0446\\u0430\"],[50000,\"\\u0443\\u043b\\u0438\\u0446\\u0430 \\u041c\\u0438\\u0440\\u0430\"],[40000,\"\\u0443\\u043b\\u0438\\u0446\\u0430 \\u0418\\u0432\\u0430\\u043d\\u0430 \\u0424\\u0440\\u0430\\u043d\\u043a\\u043e\"],[40000,\"\\u0421\\u0435\\u043c\\u0435\\u043d\\u043e\\u0432\\u0441\\u043a\\u0438\\u0439 \\u043f\\u0435\\u0440\\u0435\\u0443\\u043b\\u043e\\u043a\"],[50000,\"5-\\u044f \\u041a\\u043e\\u0436\\u0443\\u0445\\u043e\\u0432\\u0441\\u043a\\u0430\\u044f \\u0443\\u043b\\u0438\\u0446\\u0430\"],[35000,\"\\u0414\\u043c\\u0438\\u0442\\u0440\\u043e\\u0432\\u0441\\u043a\\u043e\\u0435 \\u0448\\u043e\\u0441\\u0441\\u0435\"],[65000,\"\\u043f\\u0440\\u043e\\u0441\\u043f\\u0435\\u043a\\u0442 \\u0412\\u0435\\u0440\\u043d\\u0430\\u0434\\u0441\\u043a\\u043e\\u0433\\u043e\"],[45000,\"\\u0443\\u043b\\u0438\\u0446\\u0430 \\u041f\\u0435\\u0442\\u0440\\u043e\\u0432\\u0441\\u043a\\u0438\\u0435 \\u041b\\u0438\\u043d\\u0438\\u0438\"],[50000,\"\\u041c\\u043e\\u0441\\u0444\\u0438\\u043b\\u044c\\u043c\\u043e\\u0432\\u0441\\u043a\\u0430\\u044f \\u0443\\u043b\\u0438\\u0446\\u0430\"],[50000,\"\\u041a\\u043e\\u0436\\u0435\\u0432\\u043d\\u0438\\u0447\\u0435\\u0441\\u043a\\u0430\\u044f \\u0443\\u043b\\u0438\\u0446\\u0430\"]],\"hovertemplate\":\"<b>%{hovertext}</b><br><br>\\u0428\\u0438\\u0440\\u043e\\u0442\\u0430=%{lat}<br>\\u0414\\u043e\\u043b\\u0433\\u043e\\u0442\\u0430=%{lon}<br>\\u0417\\u0430\\u0440\\u043f\\u043b\\u0430\\u0442\\u0430=%{customdata[0]}<br>\\u0423\\u043b\\u0438\\u0446\\u0430=%{customdata[1]}<extra></extra>\",\"hovertext\":[\"\\u0412\\u0440\\u0430\\u0447 \\u043d\\u0435\\u0439\\u0440\\u043e\\u0445\\u0438\\u0440\\u0443\\u0440\\u0433\",\"\\u0412\\u0435\\u0442\\u0435\\u0440\\u0438\\u043d\\u0430\\u0440\\u043d\\u044b\\u0439 \\u0432\\u0440\\u0430\\u0447\",\"\\u0420\\u0435\\u0434\\u0430\\u043a\\u0442\\u043e\\u0440-\\u043a\\u043e\\u0440\\u0440\\u0435\\u043a\\u0442\\u043e\\u0440\",\"\\u0420\\u0435\\u0434\\u0430\\u043a\\u0442\\u043e\\u0440-\\u043a\\u043e\\u0440\\u0440\\u0435\\u043a\\u0442\\u043e\\u0440\",\"\\u041a\\u043e\\u0440\\u0440\\u0435\\u043a\\u0442\\u043e\\u0440 / \\u0440\\u0435\\u0434\\u0430\\u043a\\u0442\\u043e\\u0440 \\u0432 \\u043e\\u0442\\u0434\\u0435\\u043b \\u0434\\u043e\\u043a\\u0443\\u043c\\u0435\\u043d\\u0442\\u043e\\u043e\\u0431\\u043e\\u0440\\u043e\\u0442\\u0430\",\"\\u0412\\u0435\\u0434\\u0443\\u0449\\u0438\\u0439 \\u0440\\u0435\\u0434\\u0430\\u043a\\u0442\\u043e\\u0440 (\\u043d\\u0430\\u043f\\u0440\\u0430\\u0432\\u043b\\u0435\\u043d\\u0438\\u0435 \\\"\\u0418\\u043d\\u0442\\u0435\\u0440\\u044c\\u0435\\u0440\\\")\",\"\\u041c\\u0435\\u043d\\u0435\\u0434\\u0436\\u0435\\u0440 \\u043f\\u043e \\u0440\\u0430\\u0431\\u043e\\u0442\\u0435 \\u0441 \\u043a\\u043b\\u0438\\u0435\\u043d\\u0442\\u0430\\u043c\\u0438\",\"\\u0420\\u0435\\u0434\\u0430\\u043a\\u0442\\u043e\\u0440-\\u043a\\u043e\\u0440\\u0440\\u0435\\u043a\\u0442\\u043e\\u0440\",\"\\u041c\\u0435\\u043d\\u0435\\u0434\\u0436\\u0435\\u0440 \\u043f\\u0440\\u043e\\u0435\\u043a\\u0442\\u043e\\u0432 \\u0432 \\u0430\\u0433\\u0435\\u043d\\u0442\\u0441\\u0442\\u0432\\u043e \\u043f\\u0435\\u0440\\u0435\\u0432\\u043e\\u0434\\u043e\\u0432\",\"\\u0420\\u0435\\u0434\\u0430\\u043a\\u0442\\u043e\\u0440 (\\u043a\\u043e\\u0440\\u0440\\u0435\\u043a\\u0442\\u043e\\u0440)\",\"\\u0420\\u0443\\u043a\\u043e\\u0432\\u043e\\u0434\\u0438\\u0442\\u0435\\u043b\\u044c \\u043f\\u0440\\u043e\\u0438\\u0437\\u0432\\u043e\\u0434\\u0441\\u0442\\u0432\\u0435\\u043d\\u043d\\u043e\\u0433\\u043e \\u043e\\u0442\\u0434\\u0435\\u043b\\u0430/\\u043f\\u0440\\u0438\\u043d\\u0442-\\u043c\\u0435\\u043d\\u0435\\u0434\\u0436\\u0435\\u0440\",\"\\u0412\\u044b\\u043f\\u0443\\u0441\\u043a\\u0430\\u044e\\u0449\\u0438\\u0439 \\u0440\\u0435\\u0434\\u0430\\u043a\\u0442\\u043e\\u0440 \\u043d\\u0430\\u0443\\u0447\\u043d\\u043e\\u0439 \\u043b\\u0438\\u0442\\u0435\\u0440\\u0430\\u0442\\u0443\\u0440\\u044b\",\"\\u0412\\u044b\\u043f\\u0443\\u0441\\u043a\\u0430\\u044e\\u0449\\u0438\\u0439 \\u0440\\u0435\\u0434\\u0430\\u043a\\u0442\\u043e\\u0440 (\\u0437\\u0430\\u043a\\u0430\\u0437\\u043d\\u044b\\u0435 \\u0438\\u0437\\u0434\\u0430\\u043d\\u0438\\u044f)\",\"\\u0420\\u0435\\u0434\\u0430\\u043a\\u0442\\u043e\\u0440-\\u043a\\u043e\\u0440\\u0440\\u0435\\u043a\\u0442\\u043e\\u0440 (\\u041d\\u0430\\u0443\\u043a\\u0430)\",\"\\u041c\\u0435\\u043d\\u0435\\u0434\\u0436\\u0435\\u0440 \\u043f\\u0435\\u0440\\u0435\\u0432\\u043e\\u0434\\u0447\\u0435\\u0441\\u043a\\u0438\\u0445 \\u043f\\u0440\\u043e\\u0435\\u043a\\u0442\\u043e\\u0432/\\u041a\\u043e\\u043e\\u0440\\u0434\\u0438\\u043d\\u0430\\u0442\\u043e\\u0440\",\"\\u0410\\u043d\\u0438\\u043c\\u0430\\u0442\\u043e\\u0440 / \\u041c\\u0430\\u0441\\u0442\\u0435\\u0440 \\u043f\\u0440\\u043e\\u0444\\u0435\\u0441\\u0441\\u0438\\u0439 / \\u0412\\u043e\\u0436\\u0430\\u0442\\u044b\\u0439 (\\u043c.\\u041b\\u0443\\u0431\\u044f\\u043d\\u043a\\u0430)\",\"\\u0410\\u0434\\u043c\\u0438\\u043d\\u0438\\u0441\\u0442\\u0440\\u0430\\u0442\\u0438\\u0432\\u043d\\u044b\\u0439 \\u043c\\u0435\\u043d\\u0435\\u0434\\u0436\\u0435\\u0440\",\"\\u0410\\u043d\\u0438\\u043c\\u0430\\u0442\\u043e\\u0440\",\"\\u0410\\u0434\\u043c\\u0438\\u043d\\u0438\\u0441\\u0442\\u0440\\u0430\\u0442\\u043e\\u0440 \\u043a\\u0432\\u0435\\u0441\\u0442\\u0430 \\u041a\\u043b\\u0430\\u0443\\u0441\\u0442\\u0440\\u043e\\u0444\\u043e\\u0431\\u0438\\u044f-\\u0429\\u0435\\u043b\\u043a\\u043e\\u0432\\u0441\\u043a\\u0430\\u044f\",\"\\u0412\\u043e\\u0436\\u0430\\u0442\\u044b\\u0439 \\u0432 \\u041b\\u0435\\u0442\\u043d\\u0438\\u0439 \\u0425\\u043e\\u0431\\u0431\\u0438 \\u043a\\u043b\\u0443\\u0431/\\u0413\\u043e\\u0440\\u043e\\u0434\\u0441\\u043a\\u043e\\u0439 \\u043b\\u0430\\u0433\\u0435\\u0440\\u044c\",\"\\u0410\\u0441\\u0441\\u0438\\u0441\\u0442\\u0435\\u043d\\u0442 \\u0440\\u0443\\u043a\\u043e\\u0432\\u043e\\u0434\\u0438\\u0442\\u0435\\u043b\\u044f | \\u0411\\u0438\\u0437\\u043d\\u0435\\u0441 \\u0430\\u0441\\u0441\\u0438\\u0441\\u0442\\u0435\\u043d\\u0442 | \\u041f\\u043e\\u043c\\u043e\\u0449\\u043d\\u0438\\u043a\",\"\\u0410\\u043d\\u0438\\u043c\\u0430\\u0442\\u043e\\u0440 \\u0412\\u0435\\u0434\\u0443\\u0448\\u0438\\u0439\",\"\\u0412\\u043e\\u0436\\u0430\\u0442\\u044b\\u0439 \\u0432 \\u043b\\u0435\\u0442\\u043d\\u0438\\u0439 \\u0433\\u043e\\u0440\\u043e\\u0434\\u0441\\u043a\\u043e\\u0439 \\u043b\\u0430\\u0433\\u0435\\u0440\\u044c\",\"\\u0412\\u043e\\u0436\\u0430\\u0442\\u044b\\u0439 \\u0432 \\u0433\\u043e\\u0440\\u043e\\u0434\\u0441\\u043a\\u043e\\u0439 \\u043b\\u0435\\u0442\\u043d\\u0438\\u0439 \\u043a\\u043b\\u0443\\u0431\",\"\\u0421\\u043e\\u0442\\u0440\\u0443\\u0434\\u043d\\u0438\\u043a \\u0438\\u0433\\u0440\\u043e\\u0432\\u043e\\u0439 \\u0437\\u043e\\u043d\\u044b (\\u043c. \\u041f\\u0440\\u0430\\u0436\\u0441\\u043a\\u0430\\u044f)\",\"\\u0411\\u0430\\u043d\\u043a\\u0435\\u0442\\u043d\\u044b\\u0439 \\u043c\\u0435\\u043d\\u0435\\u0434\\u0436\\u0435\\u0440 (\\u043c. \\u041f\\u0440\\u0430\\u0436\\u0441\\u043a\\u0430\\u044f)\",\"HR-\\u0441\\u043f\\u0435\\u0446\\u0438\\u0430\\u043b\\u0438\\u0441\\u0442 / HR generalist \\u0441\\u0435\\u0442\\u0438 \\u043f\\u0430\\u0440\\u043a\\u043e\\u0432 \\u0440\\u0430\\u0437\\u0432\\u043b\\u0435\\u0447\\u0435\\u043d\\u0438\\u0439\",\"\\u0421\\u043f\\u0435\\u0446\\u0438\\u0430\\u043b\\u0438\\u0441\\u0442 \\u043f\\u0430\\u0440\\u043a\\u0430 / \\u0410\\u043d\\u0438\\u043c\\u0430\\u0442\\u043e\\u0440 (\\u0422\\u0426 \\u0413\\u043e\\u0440\\u043e\\u0434) \\u043c.\\u041d\\u0438\\u0436\\u0435\\u0433\\u043e\\u0440\\u043e\\u0434\\u0441\\u043a\\u0430\\u044f\",\"\\u0410\\u043d\\u0438\\u043c\\u0430\\u0442\\u043e\\u0440 / \\u0410\\u043a\\u0442\\u0451\\u0440\",\"\\u0410\\u043d\\u0438\\u043c\\u0430\\u0442\\u043e\\u0440 / \\u0421\\u043f\\u0435\\u0446\\u0438\\u0430\\u043b\\u0438\\u0441\\u0442 \\u043f\\u0430\\u0440\\u043a\\u0430 \\u0421 \\u0413\\u0440\\u0430\\u0444\\u0438\\u043a\\u043e\\u043c 2/2 (\\u0422\\u0426 \\u0420\\u0418\\u041e \\u0414\\u043c\\u0438\\u0442\\u0440\\u043e\\u0432\\u043a\\u0430) \\u043c. \\u0410\\u043b\\u0442\\u0443\\u0444\\u044c\\u0435\\u0432\\u043e\",\"\\u0410\\u043d\\u0438\\u043c\\u0430\\u0442\\u043e\\u0440 / \\u0421\\u043f\\u0435\\u0446\\u0438\\u0430\\u043b\\u0438\\u0441\\u0442 \\u043f\\u0430\\u0440\\u043a\\u0430 (\\u0422\\u0426 \\u0415\\u0432\\u0440\\u043e\\u043f\\u043e\\u043b\\u0438\\u0441)\",\"\\u0421\\u043f\\u0435\\u0446\\u0438\\u0430\\u043b\\u0438\\u0441\\u0442 \\u043f\\u0430\\u0440\\u043a\\u0430 / \\u0410\\u043d\\u0438\\u043c\\u0430\\u0442\\u043e\\u0440 (\\u0422\\u0426 \\u0410\\u0437\\u043e\\u0432\\u0441\\u043a\\u0438\\u0439)\",\"\\u0410\\u0434\\u043c\\u0438\\u043d\\u0438\\u0441\\u0442\\u0440\\u0430\\u0442\\u043e\\u0440 \\u0434\\u0435\\u0442\\u0441\\u043a\\u043e\\u0439 \\u0438\\u0433\\u0440\\u043e\\u0432\\u043e\\u0439 \\u043a\\u043e\\u043c\\u043d\\u0430\\u0442\\u044b\",\"\\u0421\\u043f\\u0435\\u0446\\u0438\\u0430\\u043b\\u0438\\u0441\\u0442 \\u043f\\u043e \\u0440\\u0430\\u0431\\u043e\\u0442\\u0435 \\u0441 \\u0434\\u0435\\u0442\\u044c\\u043c\\u0438/\\u0412\\u043e\\u0436\\u0430\\u0442\\u044b\\u0439\",\"\\u0410\\u043d\\u0438\\u043c\\u0430\\u0442\\u043e\\u0440-\\u043e\\u043f\\u0435\\u0440\\u0430\\u0442\\u043e\\u0440 \\u0432 \\u0434\\u0435\\u0442\\u0441\\u043a\\u0438\\u0439 \\u043f\\u0430\\u0440\\u043a \\u0440\\u0430\\u0437\\u0432\\u043b\\u0435\\u0447\\u0435\\u043d\\u0438\\u0439 HELLO PARK,\\u0422\\u0420\\u0426 \\u0410\\u0432\\u0438\\u0430\\u043f\\u0430\\u0440\\u043a\",\"\\u0411\\u0430\\u0440\\u043c\\u0435\\u043d-\\u043e\\u0444\\u0438\\u0446\\u0438\\u0430\\u043d\\u0442 \\u0432 \\u0444\\u0438\\u0442\\u043d\\u0435\\u0441-\\u043a\\u043b\\u0443\\u0431 XFIT \\\"\\u041f\\u0430\\u0440\\u043a \\u041f\\u043e\\u0431\\u0435\\u0434\\u044b\\\"\",\"\\u0410\\u043d\\u0438\\u043c\\u0430\\u0442\\u043e\\u0440\",\"\\u0411\\u0430\\u043d\\u043a\\u0435\\u0442\\u043d\\u044b\\u0439 \\u043c\\u0435\\u043d\\u0435\\u0434\\u0436\\u0435\\u0440 (\\u0434\\u0435\\u0442\\u0441\\u043a\\u0438\\u0439 \\u0431\\u0430\\u0442\\u0443\\u0442\\u043d\\u044b\\u0439 \\u043f\\u0430\\u0440\\u043a)\",\"\\u0410\\u043d\\u0438\\u043c\\u0430\\u0442\\u043e\\u0440 \\u0432 \\u0434\\u0435\\u0442\\u0441\\u043a\\u0443\\u044e \\u043a\\u043e\\u043c\\u043d\\u0430\\u0442\\u0443 \\u0440\\u0435\\u0441\\u0442\\u043e\\u0440\\u0430\\u043d\\u0430\",\"\\u0410\\u043d\\u0438\\u043c\\u0430\\u0442\\u043e\\u0440 \\u0432 \\u0434\\u0435\\u0442\\u0441\\u043a\\u0443\\u044e \\u043a\\u043e\\u043c\\u043d\\u0430\\u0442\\u0443 \\u0440\\u0435\\u0441\\u0442\\u043e\\u0440\\u0430\\u043d\\u0430 Osteria Mario (\\u043c. \\u0411\\u0430\\u0440\\u0440\\u0438\\u043a\\u0430\\u0434\\u043d\\u0430\\u044f)\",\"\\u041f\\u0435\\u0434\\u0430\\u0433\\u043e\\u0433-\\u0432\\u043e\\u0441\\u043f\\u0438\\u0442\\u0430\\u0442\\u0435\\u043b\\u044c (\\u0432 \\u0434\\u0435\\u0442\\u0441\\u043a\\u0438\\u0439 \\u0446\\u0435\\u043d\\u0442\\u0440)\",\"\\u0412\\u043e\\u0441\\u043f\\u0438\\u0442\\u0430\\u0442\\u0435\\u043b\\u044c\",\"\\u0414\\u0435\\u0442\\u0441\\u043a\\u0438\\u0439 \\u0430\\u043d\\u0438\\u043c\\u0430\\u0442\\u043e\\u0440 \\u0432 \\u0440\\u0435\\u0441\\u0442\\u043e\\u0440\\u0430\\u043d (\\u043c. \\u0410\\u0432\\u0442\\u043e\\u0437\\u0430\\u0432\\u043e\\u0434\\u0441\\u043a\\u0430\\u044f)\",\"\\u0410\\u043d\\u0438\\u043c\\u0430\\u0442\\u043e\\u0440\",\"\\u041c\\u0435\\u043d\\u0435\\u0434\\u0436\\u0435\\u0440 \\u0440\\u0435\\u0441\\u0442\\u043e\\u0440\\u0430\\u043d\\u0430\",\"\\u0413\\u043b\\u0430\\u0432\\u043d\\u044b\\u0439 \\u0431\\u0443\\u0445\\u0433\\u0430\\u043b\\u0442\\u0435\\u0440 \\u0432 \\u0441\\u0442\\u0440\\u043e\\u0438\\u0442\\u0435\\u043b\\u044c\\u043d\\u0443\\u044e \\u043a\\u043e\\u043c\\u043f\\u0430\\u043d\\u0438\\u044e \\u0432 \\u0433. \\u042f\\u043b\\u0442\\u0430 (\\u0433\\u0435\\u043d\\u0435\\u0440\\u0430\\u043b\\u044c\\u043d\\u044b\\u0439 \\u043f\\u043e\\u0434\\u0440\\u044f\\u0434\\u0447\\u0438\\u043a)\",\"\\u0413\\u043b\\u0430\\u0432\\u043d\\u044b\\u0439 \\u0431\\u0443\\u0445\\u0433\\u0430\\u043b\\u0442\\u0435\\u0440\",\"\\u042e\\u0440\\u0438\\u0441\\u0442 / \\u044e\\u0440\\u0438\\u0441\\u043a\\u043e\\u043d\\u0441\\u0443\\u043b\\u044c\\u0442 / \\u043f\\u043e\\u043c\\u043e\\u0449\\u043d\\u0438\\u043a \\u044e\\u0440\\u0438\\u0441\\u0442\\u0430\",\"\\u0413\\u043b\\u0430\\u0432\\u043d\\u044b\\u0439 \\u0431\\u0443\\u0445\\u0433\\u0430\\u043b\\u0442\\u0435\\u0440\",\"\\u0410\\u0441\\u0441\\u0438\\u0441\\u0442\\u0435\\u043d\\u0442 \\u0430\\u0443\\u0434\\u0438\\u0442\\u043e\\u0440\\u0430 / \\u043d\\u0430\\u043b\\u043e\\u0433\\u043e\\u0432\\u044b\\u0439 \\u043a\\u043e\\u043d\\u0441\\u0443\\u043b\\u044c\\u0442\\u0430\\u043d\\u0442\",\"\\u0417\\u0430\\u043c\\u0435\\u0441\\u0442\\u0438\\u0442\\u0435\\u043b\\u044c \\u0433\\u043b\\u0430\\u0432\\u043d\\u043e\\u0433\\u043e \\u0431\\u0443\\u0445\\u0433\\u0430\\u043b\\u0442\\u0435\\u0440\\u0430\",\"\\u0413\\u043b\\u0430\\u0432\\u043d\\u044b\\u0439 \\u0431\\u0443\\u0445\\u0433\\u0430\\u043b\\u0442\\u0435\\u0440\",\"\\u0413\\u043b\\u0430\\u0432\\u043d\\u044b\\u0439 \\u0431\\u0443\\u0445\\u0433\\u0430\\u043b\\u0442\\u0435\\u0440\",\"\\u041d\\u0430\\u043b\\u043e\\u0433\\u043e\\u0432\\u044b\\u0439 \\u043a\\u043e\\u043d\\u0441\\u0443\\u043b\\u044c\\u0442\\u0430\\u043d\\u0442\",\"\\u0413\\u043b\\u0430\\u0432\\u043d\\u044b\\u0439 \\u0431\\u0443\\u0445\\u0433\\u0430\\u043b\\u0442\\u0435\\u0440\",\"\\u0411\\u0443\\u0445\\u0433\\u0430\\u043b\\u0442\\u0435\\u0440\",\"\\u0413\\u043b\\u0430\\u0432\\u043d\\u044b\\u0439 \\u0431\\u0443\\u0445\\u0433\\u0430\\u043b\\u0442\\u0435\\u0440 \\u0432 \\u0435\\u0434\\u0438\\u043d\\u0441\\u0442\\u0432\\u0435\\u043d\\u043d\\u043e\\u043c \\u0447\\u0438\\u0441\\u043b\\u0435 / \\u043a\\u0430\\u0434\\u0440\\u043e\\u0432\\u043e\\u0435 \\u0434\\u0435\\u043b\\u043e\\u043f\\u0440\\u043e\\u0438\\u0437\\u0432\\u043e\\u0434\\u0441\\u0442\\u0432\\u043e\",\"\\u0410\\u0443\\u0434\\u0438\\u0442\\u043e\\u0440 (\\u0432\\u043d\\u0435\\u0448\\u043d\\u0438\\u0439 \\u0430\\u0443\\u0434\\u0438\\u0442)\",\"\\u041d\\u0430\\u043b\\u043e\\u0433\\u043e\\u0432\\u044b\\u0439 \\u044d\\u043a\\u0441\\u043f\\u0435\\u0440\\u0442\",\"\\u0411\\u0443\\u0445\\u0433\\u0430\\u043b\\u0442\\u0435\\u0440 \\u043f\\u043e \\u0443\\u0447\\u0451\\u0442\\u0443 \\u0437\\u0430\\u0440\\u0430\\u0431\\u043e\\u0442\\u043d\\u043e\\u0439 \\u043f\\u043b\\u0430\\u0442\\u044b\",\"\\u0413\\u043b\\u0430\\u0432\\u043d\\u044b\\u0439 \\u0431\\u0443\\u0445\\u0433\\u0430\\u043b\\u0442\\u0435\\u0440\",\"\\u041f\\u043e\\u043c\\u043e\\u0449\\u043d\\u0438\\u043a \\u0431\\u0443\\u0445\\u0433\\u0430\\u043b\\u0442\\u0435\\u0440\\u0430 \\u0441\\u043e \\u0437\\u043d\\u0430\\u043d\\u0438\\u0435\\u043c \\u0430\\u043d\\u0433\\u043b\\u0438\\u0439\\u0441\\u043a\\u043e\\u0433\\u043e \\u044f\\u0437\\u044b\\u043a\\u0430\",\"\\u0421\\u043f\\u0435\\u0446\\u0438\\u0430\\u043b\\u0438\\u0441\\u0442 (\\u044e\\u0440\\u0438\\u0441\\u0442/\\u043d\\u0430\\u043b\\u043e\\u0433\\u043e\\u0432\\u044b\\u0439 \\u043a\\u043e\\u043d\\u0441\\u0443\\u043b\\u044c\\u0442\\u0430\\u043d\\u0442) \\u0432 \\u043f\\u0440\\u0430\\u043a\\u0442\\u0438\\u043a\\u0443 \\\"\\u0421\\u0442\\u0440\\u0443\\u043a\\u0442\\u0443\\u0440\\u043d\\u044b\\u0439 \\u0438 \\u043d\\u0430\\u043b\\u043e\\u0433\\u043e\\u0432\\u044b\\u0439 \\u043a\\u043e\\u043d\\u0441\\u0430\\u043b\\u0442\\u0438\\u043d\\u0433\\\"\",\"\\u041c\\u0435\\u043d\\u0435\\u0434\\u0436\\u0435\\u0440 \\u043f\\u043e \\u043f\\u0440\\u043e\\u0434\\u0430\\u0436\\u0430\\u043c b2b\",\"\\u0421\\u043f\\u0435\\u0446\\u0438\\u0430\\u043b\\u0438\\u0441\\u0442 1 \\u0440\\u0430\\u0437\\u0440\\u044f\\u0434\\u0430 \\u043e\\u0442\\u0434\\u0435\\u043b\\u0430 \\u043a\\u0430\\u043c\\u0435\\u0440\\u0430\\u043b\\u044c\\u043d\\u044b\\u0445 \\u043f\\u0440\\u043e\\u0432\\u0435\\u0440\\u043e\\u043a\",\"\\u0413\\u043b\\u0430\\u0432\\u043d\\u044b\\u0439 \\u0431\\u0443\\u0445\\u0433\\u0430\\u043b\\u0442\\u0435\\u0440 \\u0432 \\u044e\\u0432\\u0435\\u043b\\u0438\\u0440\\u043d\\u0443\\u044e \\u043a\\u043e\\u043c\\u043f\\u0430\\u043d\\u0438\\u044e (\\u0418\\u041f \\u043d\\u0430 \\u041e\\u0421\\u041d\\u041e)\",\"\\u0417\\u0430\\u043c\\u0435\\u0441\\u0442\\u0438\\u0442\\u0435\\u043b\\u044c \\u043d\\u0430\\u0447\\u0430\\u043b\\u044c\\u043d\\u0438\\u043a\\u0430 \\u043e\\u0442\\u0434\\u0435\\u043b\\u0430 \\u043e\\u0431\\u0435\\u0441\\u043f\\u0435\\u0447\\u0435\\u043d\\u0438\\u044f \\u043f\\u0440\\u043e\\u0446\\u0435\\u0434\\u0443\\u0440\\u044b \\u0431\\u0430\\u043d\\u043a\\u0440\\u043e\\u0442\\u0441\\u0442\\u0432\\u0430\",\"\\u0411\\u0443\\u0445\\u0433\\u0430\\u043b\\u0442\\u0435\\u0440 (\\u0441\\u043f\\u0435\\u0446\\u0438\\u0430\\u043b\\u0438\\u0441\\u0442 \\u043e\\u0442\\u0434\\u0435\\u043b\\u0430 \\u0431\\u0443\\u0445\\u0433\\u0430\\u043b\\u0442\\u0435\\u0440\\u0441\\u043a\\u0438\\u0445 \\u0443\\u0441\\u043b\\u0443\\u0433)\",\"\\u0421\\u043f\\u0435\\u0446\\u0438\\u0430\\u043b\\u0438\\u0441\\u0442 1 \\u0440\\u0430\\u0437\\u0440\\u044f\\u0434\\u0430 \\u043a\\u043e\\u043d\\u0442\\u0440\\u043e\\u043b\\u044c\\u043d\\u043e-\\u0430\\u043d\\u0430\\u043b\\u0438\\u0442\\u0438\\u0447\\u0435\\u0441\\u043a\\u043e\\u0433\\u043e \\u043e\\u0442\\u0434\\u0435\\u043b\\u0430\",\"\\u0413\\u043b\\u0430\\u0432\\u043d\\u044b\\u0439 \\u0431\\u0443\\u0445\\u0433\\u0430\\u043b\\u0442\\u0435\\u0440 ( \\u0432 \\u0440\\u043e\\u0437\\u043d\\u0438\\u0446\\u0443, \\u0430\\u043f\\u0442\\u0435\\u0447\\u043d\\u0443\\u044e \\u0441\\u0435\\u0442\\u044c )\",\"\\u0421\\u0442\\u0430\\u0440\\u0448\\u0438\\u0439 \\u0431\\u0443\\u0445\\u0433\\u0430\\u043b\\u0442\\u0435\\u0440 \\u0432 \\u0430\\u0443\\u0442\\u0441\\u043e\\u0440\\u0441\\u0438\\u043d\\u0433\\u043e\\u0432\\u0443\\u044e \\u043a\\u043e\\u043c\\u043f\\u0430\\u043d\\u0438\\u044e\",\"\\u041c\\u0435\\u043d\\u0435\\u0434\\u0436\\u0435\\u0440 \\u0440\\u0435\\u0441\\u0442\\u043e\\u0440\\u0430\\u043d\\u0430 \\\"The Bassein\\\"\",\"\\u041e\\u0444\\u0438\\u0446\\u0438\\u0430\\u043d\\u0442-\\u0431\\u0430\\u0440\\u043c\\u0435\\u043d-\\u043f\\u0440\\u043e\\u0434\\u0430\\u0432\\u0435\\u0446 \\u0432 \\u041c\\u043e\\u0441\\u043a\\u0432\\u0435.\",\"\\u041e\\u0444\\u0438\\u0446\\u0438\\u0430\\u043d\\u0442-\\u0431\\u0430\\u0440\\u043c\\u0435\\u043d\",\"\\u041e\\u0444\\u0438\\u0446\\u0438\\u0430\\u043d\\u0442-\\u0431\\u0430\\u0440\\u043c\\u0435\\u043d\",\"\\u041e\\u0444\\u0438\\u0446\\u0438\\u0430\\u043d\\u0442 - \\u043a\\u0430\\u0441\\u0441\\u0438\\u0440 - \\u0431\\u0430\\u0440\\u043c\\u0435\\u043d\",\"\\u041e\\u0444\\u0438\\u0446\\u0438\\u0430\\u043d\\u0442-\\u0431\\u0430\\u0440\\u043c\\u0435\\u043d-\\u043f\\u0440\\u043e\\u0434\\u0430\\u0432\\u0435\\u0446 \\u0432 \\u041c\\u043e\\u0441\\u043a\\u0432\\u0435\",\"\\u041c\\u0435\\u043d\\u0435\\u0434\\u0436\\u0435\\u0440 \\u041f\\u0430\\u0431\\u0430\",\"\\u041c\\u0435\\u043d\\u0435\\u0434\\u0436\\u0435\\u0440 \\u0440\\u0435\\u0441\\u0442\\u043e\\u0440\\u0430\\u043d\\u0430\",\"\\u041c\\u0435\\u043d\\u0435\\u0434\\u0436\\u0435\\u0440 \\u0440\\u0435\\u0441\\u0442\\u043e\\u0440\\u0430\\u043d\\u0430\",\"\\u0411\\u0430\\u0440\\u043c\\u0435\\u043d-\\u043e\\u0444\\u0438\\u0446\\u0438\\u0430\\u043d\\u0442 \\\"\\u0417\\u043e\\u0439\\u043a\\u0430\\\" \\u0440\\u0435\\u0441\\u0442\\u043e\\u0440\\u0430\\u043d\",\"\\u041c\\u0435\\u043d\\u0435\\u0434\\u0436\\u0435\\u0440 \\u0440\\u0435\\u0441\\u0442\\u043e\\u0440\\u0430\\u043d\\u0430\",\"\\u0410\\u0434\\u043c\\u0438\\u043d\\u0438\\u0441\\u0442\\u0440\\u0430\\u0442\\u043e\\u0440 \\u043a\\u043e\\u0440\\u043f\\u043e\\u0440\\u0430\\u0442\\u0438\\u0432\\u043d\\u043e\\u0439 \\u0441\\u0442\\u043e\\u043b\\u043e\\u0432\\u043e\\u0439\",\"\\u041f\\u043e\\u043c\\u043e\\u0449\\u043d\\u0438\\u043a \\u0431\\u0430\\u0440\\u043c\\u0435\\u043d\\u0430 / \\u043e\\u0444\\u0438\\u0446\\u0438\\u0430\\u043d\\u0442\\u0430\",\"\\u0425\\u043e\\u0441\\u0442\\u0435\\u0441-\\u043e\\u0444\\u0438\\u0446\\u0438\\u0430\\u043d\\u0442\",\"\\u0411\\u0430\\u0440\\u043c\\u0435\\u043d - \\u043e\\u0444\\u0438\\u0446\\u0438\\u0430\\u043d\\u0442 (\\u043c. \\u041d\\u0430\\u0433\\u0430\\u0442\\u0438\\u043d\\u0441\\u043a\\u0430\\u044f)\",\"\\u041e\\u0444\\u0438\\u0446\\u0438\\u0430\\u043d\\u0442-\\u0431\\u0430\\u0440\\u043c\\u0435\\u043d\",\"\\u041e\\u0444\\u0438\\u0446\\u0438\\u0430\\u043d\\u0442-\\u0431\\u0430\\u0440\\u043c\\u0435\\u043d\",\"\\u0411\\u0430\\u0440\\u043c\\u0435\\u043d-\\u043e\\u0444\\u0438\\u0446\\u0438\\u0430\\u043d\\u0442\",\"\\u0411\\u0430\\u0440\\u0438\\u0441\\u0442\\u0430 - \\u043e\\u0444\\u0438\\u0446\\u0438\\u0430\\u043d\\u0442 - \\u0431\\u0430\\u0440\\u043c\\u0435\\u043d\",\"\\u041c\\u0435\\u043d\\u0435\\u0434\\u0436\\u0435\\u0440 \\u0440\\u0435\\u0441\\u0442\\u043e\\u0440\\u0430\\u043d\\u0430\",\"\\u0411\\u0430\\u0440\\u043c\\u0435\\u043d (\\u0412\\u0414\\u041d\\u0425)\",\"\\u0411\\u0430\\u0440\\u043c\\u0435\\u043d-\\u043e\\u0444\\u0438\\u0446\\u0438\\u0430\\u043d\\u0442/\\u0410\\u0434\\u043c\\u0438\\u043d\\u0438\\u0441\\u0442\\u0440\\u0430\\u0442\\u043e\\u0440\",\"\\u041e\\u0444\\u0438\\u0446\\u0438\\u0430\\u043d\\u0442-\\u0431\\u0430\\u0440\\u043c\\u0435\\u043d\",\"\\u0411\\u0430\\u0440\\u043c\\u0435\\u043d-\\u043e\\u0444\\u0438\\u0446\\u0438\\u0430\\u043d\\u0442\",\"\\u041e\\u0444\\u0438\\u0446\\u0438\\u0430\\u043d\\u0442-\\u0431\\u0430\\u0440\\u043c\\u0435\\u043d\",\"\\u0411\\u0430\\u0440\\u043c\\u0435\\u043d \\u0432 \\u041b\\u043e\\u0431\\u0431\\u0438 \\u0431\\u0430\\u0440\",\"\\u0410\\u0434\\u043c\\u0438\\u043d\\u0438\\u0441\\u0442\\u0440\\u0430\\u0442\\u043e\\u0440 \\u0440\\u0435\\u0441\\u0442\\u043e\\u0440\\u0430\\u043d\\u0430\",\"\\u041c\\u0435\\u043d\\u0435\\u0434\\u0436\\u0435\\u0440 \\u0440\\u0435\\u0441\\u0442\\u043e\\u0440\\u0430\\u043d\\u0430\",\"\\u0411\\u0430\\u0440\\u043c\\u0435\\u043d-\\u043e\\u0444\\u0438\\u0446\\u0438\\u0430\\u043d\\u0442\",\"\\u041e\\u0444\\u0438\\u0446\\u0438\\u0430\\u043d\\u0442-\\u0431\\u0430\\u0440\\u043c\\u0435\\u043d\",\"\\u041e\\u0444\\u0438\\u0446\\u0438\\u0430\\u043d\\u0442-\\u0431\\u0430\\u0440\\u043c\\u0435\\u043d\",\"\\u0422\\u0435\\u0440\\u0440\\u0438\\u0442\\u043e\\u0440\\u0438\\u0430\\u043b\\u044c\\u043d\\u044b\\u0439 \\u0443\\u043f\\u0440\\u0430\\u0432\\u043b\\u044f\\u044e\\u0449\\u0438\\u0439 \\u0432 \\u0441\\u0435\\u0442\\u044c \\u043f\\u0438\\u0432\\u043d\\u044b\\u0445 \\u0431\\u0430\\u0440\\u043e\\u0432\",\"\\u041e\\u0444\\u0438\\u0446\\u0438\\u0430\\u043d\\u0442-\\u0431\\u0430\\u0440\\u043c\\u0435\\u043d\",\"\\u0411\\u0430\\u0440\\u043c\\u0435\\u043d-\\u043e\\u0444\\u0438\\u0446\\u0438\\u0430\\u043d\\u0442\",\"\\u041a\\u0430\\u0432\\u0438\\u0441\\u0442\",\"\\u0411\\u0430\\u0440\\u043c\\u0435\\u043d-\\u043e\\u0444\\u0438\\u0446\\u0438\\u0430\\u043d\\u0442\",\"\\u041e\\u0444\\u0438\\u0446\\u0438\\u0430\\u043d\\u0442 - \\u0431\\u0430\\u0440\\u043c\\u0435\\u043d\",\"\\u041c\\u0435\\u043d\\u0435\\u0434\\u0436\\u0435\\u0440 \\u0440\\u0435\\u0441\\u0442\\u043e\\u0440\\u0430\\u043d\\u0430 (\\u043c. \\u0412\\u0414\\u041d\\u0425 / \\u0420\\u043e\\u0441\\u0442\\u043e\\u043a\\u0438\\u043d\\u043e / \\u0421\\u0432\\u0438\\u0431\\u043b\\u043e\\u0432\\u043e)\",\"\\u041c\\u0435\\u043d\\u0435\\u0434\\u0436\\u0435\\u0440 \\u0432 \\u0440\\u0435\\u0441\\u0442\\u043e\\u0440\\u0430\\u043d \\u0401\\u0440\\u0448 (\\u043c.\\u0426\\u0430\\u0440\\u0438\\u0446\\u044b\\u043d\\u043e)\",\"\\u041c\\u0435\\u043d\\u0435\\u0434\\u0436\\u0435\\u0440 \\u0440\\u0435\\u0441\\u0442\\u043e\\u0440\\u0430\\u043d\\u0430 (\\u043c. \\u041f\\u0435\\u0440\\u043e\\u0432\\u043e)\",\"\\u041c\\u0435\\u043d\\u0435\\u0434\\u0436\\u0435\\u0440 \\u0432 \\u0440\\u0435\\u0441\\u0442\\u043e\\u0440\\u0430\\u043d \\u0401\\u0440\\u0448 (\\u043c.\\u0411\\u0440\\u0430\\u0442\\u0438\\u0441\\u043b\\u0430\\u0432\\u0441\\u043a\\u0430\\u044f)\",\"\\u041c\\u0435\\u043d\\u0435\\u0434\\u0436\\u0435\\u0440 \\u0437\\u0430\\u043b\\u0430 \\u0432 \\u0440\\u0435\\u0441\\u0442\\u043e\\u0440\\u0430\\u043d \\u0401\\u0440\\u0448 (\\u043c. \\u0412\\u0414\\u041d\\u0425)\",\"\\u041c\\u0435\\u043d\\u0435\\u0434\\u0436\\u0435\\u0440 \\u0440\\u0435\\u0441\\u0442\\u043e\\u0440\\u0430\\u043d\\u0430 (\\u043c. \\u041f\\u0435\\u0440\\u043e\\u0432\\u043e)\",\"\\u041c\\u0435\\u043d\\u0435\\u0434\\u0436\\u0435\\u0440 \\u0440\\u0435\\u0441\\u0442\\u043e\\u0440\\u0430\\u043d\\u0430 (\\u0433. \\u041c\\u044b\\u0442\\u0438\\u0449\\u0438)\",\"\\u041c\\u0435\\u043d\\u0435\\u0434\\u0436\\u0435\\u0440 \\u0440\\u0435\\u0441\\u0442\\u043e\\u0440\\u0430\\u043d\\u0430 (\\u043c. \\u0412\\u044b\\u0441\\u0442\\u0430\\u0432\\u043e\\u0447\\u043d\\u0430\\u044f)\",\"\\u041c\\u0435\\u043d\\u0435\\u0434\\u0436\\u0435\\u0440 \\u0440\\u0435\\u0441\\u0442\\u043e\\u0440\\u0430\\u043d\\u0430 (\\u043c. \\u041e\\u043a\\u0442\\u044f\\u0431\\u0440\\u044c\\u0441\\u043a\\u0430\\u044f)\",\"\\u041c\\u0435\\u043d\\u0435\\u0434\\u0436\\u0435\\u0440 \\u0440\\u0435\\u0441\\u0442\\u043e\\u0440\\u0430\\u043d\\u0430 (\\u043c. \\u0428\\u0430\\u0431\\u043e\\u043b\\u043e\\u0432\\u0441\\u043a\\u0430\\u044f)\",\"\\u041c\\u0435\\u043d\\u0435\\u0434\\u0436\\u0435\\u0440 \\u0440\\u0435\\u0441\\u0442\\u043e\\u0440\\u0430\\u043d\\u0430 (\\u043c. \\u0426\\u0432\\u0435\\u0442\\u043d\\u043e\\u0439 \\u0431\\u0443\\u043b\\u044c\\u0432\\u0430\\u0440)\",\"\\u041a\\u0430\\u0441\\u0441\\u0438\\u0440 \\u0432 \\u0441\\u0435\\u0442\\u044c \\u043a\\u0430\\u0444\\u0435\",\"\\u041a\\u0430\\u0441\\u0441\\u0438\\u0440 \\u0432 \\u043a\\u0430\\u0444\\u0435 \\u041c\\u043e\\u0441\\u043a\\u0432\\u0430\",\"\\u041a\\u0430\\u0441\\u0441\\u0438\\u0440 \\u0432 \\u0441\\u0435\\u0442\\u044c \\u043a\\u0430\\u0444\\u0435\",\"\\u0411\\u0430\\u0440\\u0438\\u0441\\u0442\\u0430 \\u0432 \\u0441\\u0435\\u0442\\u044c \\u043a\\u0430\\u0444\\u0435\",\"\\u0411\\u0430\\u0440\\u0438\\u0441\\u0442\\u0430\",\"\\u041a\\u0430\\u0441\\u0441\\u0438\\u0440 \\u0432 \\u0441\\u0435\\u0442\\u044c \\u043a\\u0430\\u0444\\u0435\",\"\\u0411\\u0430\\u0440\\u0438\\u0441\\u0442\\u0430 \\u0432 \\u043a\\u043e\\u0444\\u0435\\u0439\\u043d\\u044e\",\"\\u041a\\u0430\\u0441\\u0441\\u0438\\u0440 \\u0432 \\u043a\\u043e\\u0444\\u0435\\u0439\\u043d\\u044e\",\"\\u0411\\u0430\\u0440\\u0438\\u0441\\u0442\\u0430 \\u0432 \\u0441\\u0435\\u0442\\u044c \\u043a\\u0430\\u0444\\u0435\",\"\\u0411\\u0430\\u0440\\u0438\\u0441\\u0442\\u0430 \\u0432 \\u0441\\u0435\\u0442\\u044c \\u043a\\u0430\\u0444\\u0435\",\"\\u0411\\u0430\\u0440\\u0438\\u0441\\u0442\\u0430-\\u043a\\u0430\\u0441\\u0441\\u0438\\u0440 \\u0432 \\u0441\\u0435\\u0442\\u044c \\u043a\\u0430\\u0444\\u0435, \\u041c\\u043e\\u0441\\u043a\\u0432\\u0430\",\"\\u0411\\u0430\\u0440\\u0438\\u0441\\u0442\\u0430 \\u0432 \\u0441\\u0435\\u0442\\u044c \\u043a\\u0430\\u0444\\u0435\",\"\\u0411\\u0430\\u0440\\u0438\\u0441\\u0442\\u0430-\\u041a\\u0430\\u0441\\u0441\\u0438\\u0440 \\u0432 \\u0441\\u0435\\u0442\\u044c \\u043a\\u0430\\u0444\\u0435\",\"\\u0411\\u0430\\u0440\\u043c\\u0435\\u043d-\\u043e\\u0444\\u0438\\u0446\\u0438\\u0430\\u043d\\u0442 \\u0432 [KU:] \\u0420\\u0430\\u043c\\u0435\\u043d \\u0418\\u0437\\u0430\\u043a\\u0430\\u044f \\u0411\\u0430\\u0440 (\\u0424\\u0443\\u0434\\u043c\\u043e\\u043b\\u043b \\u0414\\u0435\\u043f\\u043e \\u043d\\u0430 \\u0411\\u0435\\u043b\\u043e\\u0440\\u0443\\u0441\\u0441\\u043a\\u043e\\u0439)\",\"\\u0410\\u0434\\u043c\\u0438\\u043d\\u0438\\u0441\\u0442\\u0440\\u0430\\u0442\\u043e\\u0440 \\u043a\\u043e\\u043c\\u043f\\u044c\\u044e\\u0442\\u0435\\u0440\\u043d\\u043e\\u0433\\u043e \\u043a\\u043b\\u0443\\u0431\\u0430\",\"\\u0411\\u0430\\u0440\\u043c\\u0435\\u043d-\\u043e\\u0444\\u0438\\u0446\\u0438\\u0430\\u043d\\u0442\",\"\\u041c\\u0435\\u043d\\u0435\\u0434\\u0436\\u0435\\u0440 \\u0440\\u0435\\u0441\\u0442\\u043e\\u0440\\u0430\\u043d\\u0430\",\"\\u041c\\u0435\\u043d\\u0435\\u0434\\u0436\\u0435\\u0440 \\u0440\\u0435\\u0441\\u0442\\u043e\\u0440\\u0430\\u043d\\u0430\",\"\\u041c\\u0435\\u043d\\u0435\\u0434\\u0436\\u0435\\u0440 \\u0440\\u0435\\u0441\\u0442\\u043e\\u0440\\u0430\\u043d\\u0430\",\"\\u041c\\u0435\\u043d\\u0435\\u0434\\u0436\\u0435\\u0440 \\u0440\\u0435\\u0441\\u0442\\u043e\\u0440\\u0430\\u043d\\u0430\",\"\\u041c\\u0435\\u043d\\u0435\\u0434\\u0436\\u0435\\u0440 \\u0440\\u0435\\u0441\\u0442\\u043e\\u0440\\u0430\\u043d\\u0430\",\"\\u0411\\u0430\\u0440\\u043c\\u0435\\u043d-\\u043e\\u0444\\u0438\\u0446\\u0438\\u0430\\u043d\\u0442 \\u0432 \\u0441\\u0430\\u043b\\u043e\\u043d \\u043a\\u0440\\u0430\\u0441\\u043e\\u0442\\u044b (\\u0412\\u0440\\u0435\\u043c\\u0435\\u043d\\u0430 \\u0433\\u043e\\u0434\\u0430)\",\"\\u0411\\u0430\\u0440\\u043c\\u0435\\u043d\",\"\\u041e\\u0444\\u0438\\u0446\\u0438\\u0430\\u043d\\u0442 (\\u0443\\u043b. \\u041d\\u0438\\u043a\\u043e\\u043b\\u044c\\u0441\\u043a\\u0430\\u044f)\",\"\\u041c\\u0435\\u043d\\u0435\\u0434\\u0436\\u0435\\u0440 \\u0440\\u0435\\u0441\\u0442\\u043e\\u0440\\u0430\\u043d\\u0430\",\"\\u041e\\u0444\\u0438\\u0446\\u0438\\u0430\\u043d\\u0442-\\u0431\\u0430\\u0440\\u043c\\u0435\\u043d\",\"\\u0411\\u0430\\u0440\\u043c\\u0435\\u043d-\\u043e\\u0444\\u0438\\u0446\\u0438\\u0430\\u043d\\u0442\",\"\\u041c\\u0435\\u043d\\u0435\\u0434\\u0436\\u0435\\u0440 \\u0432 \\u043a\\u0430\\u0444\\u0435-\\u043a\\u043e\\u043d\\u0434\\u0438\\u0442\\u0435\\u0440\\u0441\\u043a\\u0443\\u044e\",\"\\u041e\\u0444\\u0438\\u0446\\u0438\\u0430\\u043d\\u0442-\\u0431\\u0430\\u0440\\u043c\\u0435\\u043d \\u0432 \\u0430\\u0432\\u0442\\u043e\\u0440\\u0441\\u043a\\u0443\\u044e \\u043a\\u0430\\u0444\\u0435-\\u043a\\u043e\\u043d\\u0434\\u0438\\u0442\\u0435\\u0440\\u0441\\u043a\\u0443\\u044e\",\"\\u041e\\u0444\\u0438\\u0446\\u0438\\u0430\\u043d\\u0442-\\u0431\\u0430\\u0440\\u043c\\u0435\\u043d\",\"\\u041e\\u0444\\u0438\\u0446\\u0438\\u0430\\u043d\\u0442-\\u0431\\u0430\\u0440\\u043c\\u0435\\u043d\",\"\\u041e\\u0444\\u0438\\u0446\\u0438\\u0430\\u043d\\u0442-\\u0431\\u0430\\u0440\\u043c\\u0435\\u043d\",\"\\u0411\\u0430\\u0440\\u043c\\u0435\\u043d-\\u043e\\u0444\\u0438\\u0446\\u0438\\u0430\\u043d\\u0442\",\"\\u041c\\u0435\\u043d\\u0435\\u0434\\u0436\\u0435\\u0440 \\u0440\\u0435\\u0441\\u0442\\u043e\\u0440\\u0430\\u043d\\u0430\",\"\\u041e\\u0444\\u0438\\u0446\\u0438\\u0430\\u043d\\u0442-\\u0431\\u0430\\u0440\\u043c\\u0435\\u043d\",\"\\u0411\\u0430\\u0440\\u043c\\u0435\\u043d-\\u043e\\u0444\\u0438\\u0446\\u0438\\u0430\\u043d\\u0442\",\"\\u041c\\u0435\\u043d\\u0435\\u0434\\u0436\\u0435\\u0440 \\u0440\\u0435\\u0441\\u0442\\u043e\\u0440\\u0430\\u043d\\u0430\",\"\\u0411\\u0430\\u0440\\u043c\\u0435\\u043d-\\u043e\\u0444\\u0438\\u0446\\u0438\\u0430\\u043d\\u0442\",\"\\u041c\\u0435\\u043d\\u0435\\u0434\\u0436\\u0435\\u0440 \\u0432 \\u0440\\u0435\\u0441\\u0442\\u043e\\u0440\\u0430\\u043d Paulaner Brauhaus\",\"\\u041c\\u0435\\u043d\\u0435\\u0434\\u0436\\u0435\\u0440 \\u0440\\u0435\\u0441\\u0442\\u043e\\u0440\\u0430\\u043d\\u0430 (\\u043c. \\u0422\\u0430\\u0433\\u0430\\u043d\\u0441\\u043a\\u0430\\u044f)\",\"\\u041c\\u0435\\u043d\\u0435\\u0434\\u0436\\u0435\\u0440 \\u0440\\u0435\\u0441\\u0442\\u043e\\u0440\\u0430\\u043d\\u0430 (\\u043c. \\u041f\\u0440\\u043e\\u0441\\u043f\\u0435\\u043a\\u0442 \\u041c\\u0438\\u0440\\u0430)\",\"\\u0411\\u0430\\u0440\\u043c\\u0435\\u043d-\\u043e\\u0444\\u0438\\u0446\\u0438\\u0430\\u043d\\u0442 \\u0432 \\u0420\\u0435\\u0441\\u0442\\u043e\\u0440\\u0430\\u043d \\u0441 \\u043a\\u0430\\u0440\\u0430\\u043e\\u043a\\u0435\",\"\\u041e\\u0444\\u0438\\u0446\\u0438\\u0430\\u043d\\u0442\",\"\\u041e\\u0444\\u0438\\u0446\\u0438\\u0430\\u043d\\u0442-\\u0431\\u0430\\u0440\\u043c\\u0435\\u043d\",\"\\u041e\\u0444\\u0438\\u0446\\u0438\\u0430\\u043d\\u0442-\\u0431\\u0430\\u0440\\u043c\\u0435\\u043d\",\"\\u041e\\u0444\\u0438\\u0446\\u0438\\u0430\\u043d\\u0442-\\u0431\\u0430\\u0440\\u043c\\u0435\\u043d\",\"\\u041e\\u0444\\u0438\\u0446\\u0438\\u0430\\u043d\\u0442-\\u0431\\u0430\\u0440\\u0438\\u0441\\u0442\\u0430\",\"\\u0411\\u0430\\u0440\\u043c\\u0435\\u043d-\\u043e\\u0444\\u0438\\u0446\\u0438\\u0430\\u043d\\u0442\",\"\\u041e\\u0444\\u0438\\u0446\\u0438\\u0430\\u043d\\u0442\",\"\\u0412\\u0435\\u0434\\u0443\\u0449\\u0438\\u0439 \\u043c\\u0435\\u043d\\u0435\\u0434\\u0436\\u0435\\u0440 \\u043f\\u043e \\u043f\\u043e\\u0434\\u0431\\u043e\\u0440\\u0443 \\u0438 \\u0430\\u0434\\u0430\\u043f\\u0442\\u0430\\u0446\\u0438\\u0438 \\u043f\\u0435\\u0440\\u0441\\u043e\\u043d\\u0430\\u043b\\u0430\",\"\\u0411\\u0430\\u0440\\u043c\\u0435\\u043d-\\u043e\\u0444\\u0438\\u0446\\u0438\\u0430\\u043d\\u0442 (\\u043c.\\u0426\\u0421\\u041a\\u0410)\",\"\\u041c\\u0435\\u043d\\u0435\\u0434\\u0436\\u0435\\u0440 \\u0440\\u0435\\u0441\\u0442\\u043e\\u0440\\u0430\\u043d\\u0430\",\"\\u041e\\u0444\\u0438\\u0446\\u0438\\u0430\\u043d\\u0442 \\u0432 \\u043a\\u0430\\u0444\\u0435 \\u0414\\u0436\\u0430\\u0440\\u0438\",\"\\u041e\\u0444\\u0438\\u0446\\u0438\\u0430\\u043d\\u0442 \\u0432 \\u043a\\u0430\\u0444\\u0435 \\u0414\\u0436\\u0430\\u0440\\u0438 (\\u041c\\u044b\\u0442\\u0438\\u0449\\u0438)\",\"\\u0411\\u0430\\u0440\\u043c\\u0435\\u043d-\\u043e\\u0444\\u0438\\u0446\\u0438\\u0430\\u043d\\u0442\",\"\\u0411\\u0430\\u0440\\u043c\\u0435\\u043d-\\u043e\\u0444\\u0438\\u0446\\u0438\\u0430\\u043d\\u0442\",\"\\u0411\\u0430\\u0440\\u0438\\u0441\\u0442\\u0430/\\u043e\\u0444\\u0438\\u0446\\u0438\\u0430\\u043d\\u0442-\\u0431\\u0430\\u0440\\u043c\\u0435\\u043d \\u0432 \\u043a\\u043e\\u0440\\u043f\\u043e\\u0440\\u0430\\u0442\\u0438\\u0432\\u043d\\u043e\\u0435 \\u043a\\u0430\\u0444\\u0435\",\"\\u0425\\u043e\\u0441\\u0442\\u0435\\u0441/\\u041e\\u0444\\u0438\\u0446\\u0438\\u0430\\u043d\\u0442-\\u0431\\u0430\\u0440\\u043c\\u0435\\u043d\",\"\\u041c\\u0435\\u043d\\u0435\\u0434\\u0436\\u0435\\u0440 \\u0440\\u0435\\u0441\\u0442\\u043e\\u0440\\u0430\\u043d\\u0430 \\u041d\\u0438\\u044f\\u043c\\u0430\",\"\\u041e\\u0444\\u0438\\u0446\\u0438\\u0430\\u043d\\u0442-\\u0431\\u0430\\u0440\\u043c\\u0435\\u043d\",\"\\u0411\\u0430\\u0440\\u043c\\u0435\\u043d-\\u043e\\u0444\\u0438\\u0446\\u0438\\u0430\\u043d\\u0442\",\"\\u0421\\u0443\\u043f\\u0435\\u0440\\u0432\\u0430\\u0439\\u0437\\u0435\\u0440 \\u0440\\u0435\\u0441\\u0442\\u043e\\u0440\\u0430\\u043d\\u0430\"],\"lat\":[55.780385,55.728408,55.763255,55.777864,55.723922,55.778968,55.702659157024534,55.75745,55.78978,55.71408,55.73368,55.787229,55.807132,55.765027,55.74823,55.760195,55.820996,55.828622,55.811007,55.637677,55.766359,55.766359,55.568878,55.70241015662571,55.612182,55.613468,55.740999,55.731189133195436,55.799006,55.909065,55.845855,55.647534,55.803469,55.666904,55.790231,55.737502,55.803818,55.707299,55.675440443037196,55.755186,55.76130445726108,55.76132,55.705452,55.758949,55.757339,55.729316,55.753848,55.692937,55.692389,55.820025,55.738596,55.727988,55.784106,55.751437,55.934654,55.81424170882929,55.732241,55.704149,55.766131,55.753179,55.791997,55.766126,55.771839,55.771839,55.777813,55.758103,55.761685,55.740036,55.734613,55.751725,55.762272,55.793738,55.743928,55.743928,55.739225,55.701298,55.743928,55.763736,55.763498,55.771616,55.76288,55.788368,55.747622,55.740644,55.740644,55.680311,55.75211,55.776527,55.762166,55.7152,55.76615559011422,55.836317,55.77049636652363,55.582548,55.761761,55.819965,55.833091,55.807172,55.75889127643738,55.705452,55.648214,55.76288,55.766142,55.722325,55.743577143451205,55.844041,55.808371,55.7258502992389,55.853435,55.610529,55.753413,55.662816,55.82173,55.753413,55.916007,55.746932,55.730664,55.72237,55.768881,55.678915,55.780324,55.757604418685226,55.647346,55.680971,55.645395,55.700933,55.635437,55.678412,55.678412,55.678412,55.678412,55.682113,55.780213,55.838,55.798136,55.649261,55.612599,55.759618,55.759618,55.759456,55.731718,55.699349220458735,55.757146,55.803287,55.768945199841866,55.694079,55.869511,55.869511,55.684726,55.905366,55.782871,55.716042,55.707299,55.791749,55.835457,55.779089,55.74832608557045,55.732271,55.739549,55.781747,55.661684,55.625308,55.785432,55.60879955404923,55.778487,55.685873,55.805432,55.775834,55.750048,55.786313,55.765747,55.887725,55.917455,55.728395602604024,55.782927,55.705148,55.856497,55.677737,55.763827,55.702901,55.72924],\"legendgroup\":\"\",\"lon\":[37.628747,37.534972,37.586652,37.50496,37.653972,37.512155,37.650555394194775,37.66742,37.634326,37.817708,37.664141,37.670896,37.588395,37.617276,37.540497,37.624651,37.601528,37.633823,37.800901,37.50999,37.712866,37.712866,37.587614,37.50426601321366,37.607026,37.60637,37.609613,37.72827441796818,37.607906,37.539248,37.662093,37.595555,37.618165,37.628586,37.531289,37.504789,37.800541,37.456828,37.61070011045033,37.573375,37.512207877632704,37.512505,37.637749,37.620681,37.659164,37.609173,37.698861,37.451914,37.622738,37.576546,37.587335,37.580607,37.712003,37.716621,37.608122,37.500387375086284,37.58897,37.615857,37.531954,37.635745,37.506783,37.531954,37.605256,37.605256,37.601636,37.624148,37.658527,37.62669,37.664716,37.707009,37.569899,37.663386,37.568102,37.568102,37.484442,37.503837,37.568102,37.655886,37.655275,37.620986,37.59259,37.618084,37.535062,37.672001,37.672001,37.623483,37.641935,37.500127,37.613063,37.611572,37.56408613175154,37.615093,37.63316206634045,37.671247,37.635673,37.580238,37.484819,37.812291,37.587859891355045,37.637749,37.540856,37.59259,37.640138,37.474534,37.60175328570665,37.66265,37.644944,37.75085205444998,37.681631,37.663099,37.791648,37.7608,37.660269,37.791648,37.727724,37.541404,37.611554,37.611015,37.620698,37.746624,37.558715,37.65614216400081,37.518937,37.691081,37.537757,37.73721,37.520393,37.663836,37.663836,37.663836,37.663836,37.537766,37.593075,37.576861,37.518084,37.594638,37.604565,37.626762,37.626762,37.626789,37.487362,37.63686113491814,37.62183,37.795484,37.59695247788159,37.582134,37.473554,37.473554,37.58544,37.605023,37.729619,37.503998,37.456828,37.748619,37.535421,37.47845,37.583893574774265,37.642069,37.652957,37.633032,37.481469,37.508831,37.601924,37.53644385305253,37.672379,37.718543,37.781021,37.5956,37.755015,37.542428,37.6039,37.675675,37.722891,37.43849565606593,37.715911,37.666387,37.557673,37.506891,37.618587,37.491251,37.64383],\"marker\":{\"color\":\"#636efa\"},\"mode\":\"markers\",\"name\":\"\",\"showlegend\":false,\"subplot\":\"mapbox\",\"type\":\"scattermapbox\"}],                        {\"template\":{\"data\":{\"histogram2dcontour\":[{\"type\":\"histogram2dcontour\",\"colorbar\":{\"outlinewidth\":0,\"ticks\":\"\"},\"colorscale\":[[0.0,\"#0d0887\"],[0.1111111111111111,\"#46039f\"],[0.2222222222222222,\"#7201a8\"],[0.3333333333333333,\"#9c179e\"],[0.4444444444444444,\"#bd3786\"],[0.5555555555555556,\"#d8576b\"],[0.6666666666666666,\"#ed7953\"],[0.7777777777777778,\"#fb9f3a\"],[0.8888888888888888,\"#fdca26\"],[1.0,\"#f0f921\"]]}],\"choropleth\":[{\"type\":\"choropleth\",\"colorbar\":{\"outlinewidth\":0,\"ticks\":\"\"}}],\"histogram2d\":[{\"type\":\"histogram2d\",\"colorbar\":{\"outlinewidth\":0,\"ticks\":\"\"},\"colorscale\":[[0.0,\"#0d0887\"],[0.1111111111111111,\"#46039f\"],[0.2222222222222222,\"#7201a8\"],[0.3333333333333333,\"#9c179e\"],[0.4444444444444444,\"#bd3786\"],[0.5555555555555556,\"#d8576b\"],[0.6666666666666666,\"#ed7953\"],[0.7777777777777778,\"#fb9f3a\"],[0.8888888888888888,\"#fdca26\"],[1.0,\"#f0f921\"]]}],\"heatmap\":[{\"type\":\"heatmap\",\"colorbar\":{\"outlinewidth\":0,\"ticks\":\"\"},\"colorscale\":[[0.0,\"#0d0887\"],[0.1111111111111111,\"#46039f\"],[0.2222222222222222,\"#7201a8\"],[0.3333333333333333,\"#9c179e\"],[0.4444444444444444,\"#bd3786\"],[0.5555555555555556,\"#d8576b\"],[0.6666666666666666,\"#ed7953\"],[0.7777777777777778,\"#fb9f3a\"],[0.8888888888888888,\"#fdca26\"],[1.0,\"#f0f921\"]]}],\"heatmapgl\":[{\"type\":\"heatmapgl\",\"colorbar\":{\"outlinewidth\":0,\"ticks\":\"\"},\"colorscale\":[[0.0,\"#0d0887\"],[0.1111111111111111,\"#46039f\"],[0.2222222222222222,\"#7201a8\"],[0.3333333333333333,\"#9c179e\"],[0.4444444444444444,\"#bd3786\"],[0.5555555555555556,\"#d8576b\"],[0.6666666666666666,\"#ed7953\"],[0.7777777777777778,\"#fb9f3a\"],[0.8888888888888888,\"#fdca26\"],[1.0,\"#f0f921\"]]}],\"contourcarpet\":[{\"type\":\"contourcarpet\",\"colorbar\":{\"outlinewidth\":0,\"ticks\":\"\"}}],\"contour\":[{\"type\":\"contour\",\"colorbar\":{\"outlinewidth\":0,\"ticks\":\"\"},\"colorscale\":[[0.0,\"#0d0887\"],[0.1111111111111111,\"#46039f\"],[0.2222222222222222,\"#7201a8\"],[0.3333333333333333,\"#9c179e\"],[0.4444444444444444,\"#bd3786\"],[0.5555555555555556,\"#d8576b\"],[0.6666666666666666,\"#ed7953\"],[0.7777777777777778,\"#fb9f3a\"],[0.8888888888888888,\"#fdca26\"],[1.0,\"#f0f921\"]]}],\"surface\":[{\"type\":\"surface\",\"colorbar\":{\"outlinewidth\":0,\"ticks\":\"\"},\"colorscale\":[[0.0,\"#0d0887\"],[0.1111111111111111,\"#46039f\"],[0.2222222222222222,\"#7201a8\"],[0.3333333333333333,\"#9c179e\"],[0.4444444444444444,\"#bd3786\"],[0.5555555555555556,\"#d8576b\"],[0.6666666666666666,\"#ed7953\"],[0.7777777777777778,\"#fb9f3a\"],[0.8888888888888888,\"#fdca26\"],[1.0,\"#f0f921\"]]}],\"mesh3d\":[{\"type\":\"mesh3d\",\"colorbar\":{\"outlinewidth\":0,\"ticks\":\"\"}}],\"scatter\":[{\"fillpattern\":{\"fillmode\":\"overlay\",\"size\":10,\"solidity\":0.2},\"type\":\"scatter\"}],\"parcoords\":[{\"type\":\"parcoords\",\"line\":{\"colorbar\":{\"outlinewidth\":0,\"ticks\":\"\"}}}],\"scatterpolargl\":[{\"type\":\"scatterpolargl\",\"marker\":{\"colorbar\":{\"outlinewidth\":0,\"ticks\":\"\"}}}],\"bar\":[{\"error_x\":{\"color\":\"#2a3f5f\"},\"error_y\":{\"color\":\"#2a3f5f\"},\"marker\":{\"line\":{\"color\":\"#E5ECF6\",\"width\":0.5},\"pattern\":{\"fillmode\":\"overlay\",\"size\":10,\"solidity\":0.2}},\"type\":\"bar\"}],\"scattergeo\":[{\"type\":\"scattergeo\",\"marker\":{\"colorbar\":{\"outlinewidth\":0,\"ticks\":\"\"}}}],\"scatterpolar\":[{\"type\":\"scatterpolar\",\"marker\":{\"colorbar\":{\"outlinewidth\":0,\"ticks\":\"\"}}}],\"histogram\":[{\"marker\":{\"pattern\":{\"fillmode\":\"overlay\",\"size\":10,\"solidity\":0.2}},\"type\":\"histogram\"}],\"scattergl\":[{\"type\":\"scattergl\",\"marker\":{\"colorbar\":{\"outlinewidth\":0,\"ticks\":\"\"}}}],\"scatter3d\":[{\"type\":\"scatter3d\",\"line\":{\"colorbar\":{\"outlinewidth\":0,\"ticks\":\"\"}},\"marker\":{\"colorbar\":{\"outlinewidth\":0,\"ticks\":\"\"}}}],\"scattermapbox\":[{\"type\":\"scattermapbox\",\"marker\":{\"colorbar\":{\"outlinewidth\":0,\"ticks\":\"\"}}}],\"scatterternary\":[{\"type\":\"scatterternary\",\"marker\":{\"colorbar\":{\"outlinewidth\":0,\"ticks\":\"\"}}}],\"scattercarpet\":[{\"type\":\"scattercarpet\",\"marker\":{\"colorbar\":{\"outlinewidth\":0,\"ticks\":\"\"}}}],\"carpet\":[{\"aaxis\":{\"endlinecolor\":\"#2a3f5f\",\"gridcolor\":\"white\",\"linecolor\":\"white\",\"minorgridcolor\":\"white\",\"startlinecolor\":\"#2a3f5f\"},\"baxis\":{\"endlinecolor\":\"#2a3f5f\",\"gridcolor\":\"white\",\"linecolor\":\"white\",\"minorgridcolor\":\"white\",\"startlinecolor\":\"#2a3f5f\"},\"type\":\"carpet\"}],\"table\":[{\"cells\":{\"fill\":{\"color\":\"#EBF0F8\"},\"line\":{\"color\":\"white\"}},\"header\":{\"fill\":{\"color\":\"#C8D4E3\"},\"line\":{\"color\":\"white\"}},\"type\":\"table\"}],\"barpolar\":[{\"marker\":{\"line\":{\"color\":\"#E5ECF6\",\"width\":0.5},\"pattern\":{\"fillmode\":\"overlay\",\"size\":10,\"solidity\":0.2}},\"type\":\"barpolar\"}],\"pie\":[{\"automargin\":true,\"type\":\"pie\"}]},\"layout\":{\"autotypenumbers\":\"strict\",\"colorway\":[\"#636efa\",\"#EF553B\",\"#00cc96\",\"#ab63fa\",\"#FFA15A\",\"#19d3f3\",\"#FF6692\",\"#B6E880\",\"#FF97FF\",\"#FECB52\"],\"font\":{\"color\":\"#2a3f5f\"},\"hovermode\":\"closest\",\"hoverlabel\":{\"align\":\"left\"},\"paper_bgcolor\":\"white\",\"plot_bgcolor\":\"#E5ECF6\",\"polar\":{\"bgcolor\":\"#E5ECF6\",\"angularaxis\":{\"gridcolor\":\"white\",\"linecolor\":\"white\",\"ticks\":\"\"},\"radialaxis\":{\"gridcolor\":\"white\",\"linecolor\":\"white\",\"ticks\":\"\"}},\"ternary\":{\"bgcolor\":\"#E5ECF6\",\"aaxis\":{\"gridcolor\":\"white\",\"linecolor\":\"white\",\"ticks\":\"\"},\"baxis\":{\"gridcolor\":\"white\",\"linecolor\":\"white\",\"ticks\":\"\"},\"caxis\":{\"gridcolor\":\"white\",\"linecolor\":\"white\",\"ticks\":\"\"}},\"coloraxis\":{\"colorbar\":{\"outlinewidth\":0,\"ticks\":\"\"}},\"colorscale\":{\"sequential\":[[0.0,\"#0d0887\"],[0.1111111111111111,\"#46039f\"],[0.2222222222222222,\"#7201a8\"],[0.3333333333333333,\"#9c179e\"],[0.4444444444444444,\"#bd3786\"],[0.5555555555555556,\"#d8576b\"],[0.6666666666666666,\"#ed7953\"],[0.7777777777777778,\"#fb9f3a\"],[0.8888888888888888,\"#fdca26\"],[1.0,\"#f0f921\"]],\"sequentialminus\":[[0.0,\"#0d0887\"],[0.1111111111111111,\"#46039f\"],[0.2222222222222222,\"#7201a8\"],[0.3333333333333333,\"#9c179e\"],[0.4444444444444444,\"#bd3786\"],[0.5555555555555556,\"#d8576b\"],[0.6666666666666666,\"#ed7953\"],[0.7777777777777778,\"#fb9f3a\"],[0.8888888888888888,\"#fdca26\"],[1.0,\"#f0f921\"]],\"diverging\":[[0,\"#8e0152\"],[0.1,\"#c51b7d\"],[0.2,\"#de77ae\"],[0.3,\"#f1b6da\"],[0.4,\"#fde0ef\"],[0.5,\"#f7f7f7\"],[0.6,\"#e6f5d0\"],[0.7,\"#b8e186\"],[0.8,\"#7fbc41\"],[0.9,\"#4d9221\"],[1,\"#276419\"]]},\"xaxis\":{\"gridcolor\":\"white\",\"linecolor\":\"white\",\"ticks\":\"\",\"title\":{\"standoff\":15},\"zerolinecolor\":\"white\",\"automargin\":true,\"zerolinewidth\":2},\"yaxis\":{\"gridcolor\":\"white\",\"linecolor\":\"white\",\"ticks\":\"\",\"title\":{\"standoff\":15},\"zerolinecolor\":\"white\",\"automargin\":true,\"zerolinewidth\":2},\"scene\":{\"xaxis\":{\"backgroundcolor\":\"#E5ECF6\",\"gridcolor\":\"white\",\"linecolor\":\"white\",\"showbackground\":true,\"ticks\":\"\",\"zerolinecolor\":\"white\",\"gridwidth\":2},\"yaxis\":{\"backgroundcolor\":\"#E5ECF6\",\"gridcolor\":\"white\",\"linecolor\":\"white\",\"showbackground\":true,\"ticks\":\"\",\"zerolinecolor\":\"white\",\"gridwidth\":2},\"zaxis\":{\"backgroundcolor\":\"#E5ECF6\",\"gridcolor\":\"white\",\"linecolor\":\"white\",\"showbackground\":true,\"ticks\":\"\",\"zerolinecolor\":\"white\",\"gridwidth\":2}},\"shapedefaults\":{\"line\":{\"color\":\"#2a3f5f\"}},\"annotationdefaults\":{\"arrowcolor\":\"#2a3f5f\",\"arrowhead\":0,\"arrowwidth\":1},\"geo\":{\"bgcolor\":\"white\",\"landcolor\":\"#E5ECF6\",\"subunitcolor\":\"white\",\"showland\":true,\"showlakes\":true,\"lakecolor\":\"white\"},\"title\":{\"x\":0.05},\"mapbox\":{\"style\":\"light\"}}},\"mapbox\":{\"domain\":{\"x\":[0.0,1.0],\"y\":[0.0,1.0]},\"center\":{\"lat\":55.7496166453754,\"lon\":37.61253228441349},\"zoom\":10,\"style\":\"open-street-map\"},\"legend\":{\"tracegroupgap\":0},\"margin\":{\"t\":0,\"r\":0,\"l\":0,\"b\":0},\"height\":600},                        {\"responsive\": true}                    ).then(function(){\n",
              "                            \n",
              "var gd = document.getElementById('20301e46-6935-4add-9855-3cdd71f2af31');\n",
              "var x = new MutationObserver(function (mutations, observer) {{\n",
              "        var display = window.getComputedStyle(gd).display;\n",
              "        if (!display || display === 'none') {{\n",
              "            console.log([gd, 'removed!']);\n",
              "            Plotly.purge(gd);\n",
              "            observer.disconnect();\n",
              "        }}\n",
              "}});\n",
              "\n",
              "// Listen for the removal of the full notebook cells\n",
              "var notebookContainer = gd.closest('#notebook-container');\n",
              "if (notebookContainer) {{\n",
              "    x.observe(notebookContainer, {childList: true});\n",
              "}}\n",
              "\n",
              "// Listen for the clearing of the current output cell\n",
              "var outputEl = gd.closest('.output');\n",
              "if (outputEl) {{\n",
              "    x.observe(outputEl, {childList: true});\n",
              "}}\n",
              "\n",
              "                        })                };                            </script>        </div>\n",
              "</body>\n",
              "</html>"
            ]
          },
          "metadata": {}
        }
      ]
    },
    {
      "cell_type": "markdown",
      "source": [
        "(2 балла) **Сделайте выводы о проделанной работе:**"
      ],
      "metadata": {
        "id": "u-p3Llc361PN"
      }
    },
    {
      "cell_type": "markdown",
      "source": [
        ">*Подсказки для маленьких: Что вы можете сказать про районы Москвы? Что вы можете сказать про зарплаты? Что вы можете сказать про спрос?*"
      ],
      "metadata": {
        "id": "G1c3d-qALobz"
      }
    },
    {
      "cell_type": "markdown",
      "source": [
        "  Конечно, виден больший спрос в центре Москвы. Это связано с очевидными причинами: большая часть нежилой инфраструктуры сконцентрирована в нем. Даже несмотря на странный выбор профессий (для того, чтобы избавиться от других, неподходящих по названию мест работы), можно заметить более высокие зарплаты в дорогих районах Москвы"
      ],
      "metadata": {
        "id": "gkPpbtBuVqwc"
      }
    },
    {
      "cell_type": "markdown",
      "source": [
        "## Задание 2. Анализ данных - 20 баллов"
      ],
      "metadata": {
        "id": "wVcCTF_Zz58q"
      }
    },
    {
      "cell_type": "markdown",
      "source": [
        "Вам предстоит проанализировать датасет, содержащий информацию об бриллианта, их стоимости и остальных характеристиках."
      ],
      "metadata": {
        "id": "lii5YFuucxR2"
      }
    },
    {
      "cell_type": "markdown",
      "source": [
        "\n",
        "\n",
        "Поясним значения хранящиеся в колонках:\n",
        "*   `cut` - огранка бриллианта (относится к одной из примерно 10 наиболее распространенных)\n",
        "*   `color` - цвет бриллианта, прозрачные бриллианты имеют градацию `D-Z`, \"более высокие\" буквы - более желтоватые, но часто имеют лучшие значения, поскольку цвет трудно определить один раз в кольце\n",
        "*   `clarity` - чистота бриллианта, наличие включений (внутренних дефектов), чем меньше и мельче, тем лучше\n",
        "*   `carat_weight` - масса бриллианта (слабо связана с размером бриллианта, т.к. огранка и качество огранки, как правило, играют большую роль)\n",
        "*   `cut_quality` - качество ограники по системе оценки GIA Cut\n",
        "*   `lab` - лаборатория оценивания\n",
        "*   `meas_length` - длина бриллианта\n",
        "*   `meas_width` - ширина бриллианта\n",
        "*   `meas_depth` - глубина бриллианта\n",
        "*   `total_sales_price` - цена бриллианта в долларах.\n",
        "*    **и прочие колонки**"
      ],
      "metadata": {
        "id": "CvEO3-NI0Gez"
      }
    },
    {
      "cell_type": "markdown",
      "source": [
        "Скачаем данные:"
      ],
      "metadata": {
        "id": "7mK1QntN6ZXh"
      }
    },
    {
      "cell_type": "code",
      "source": [
        "!gdown 1uIWeZFz3ElB5p1brBVEwJBHTbjXNPdfU"
      ],
      "metadata": {
        "id": "LnCK3gCoebjw",
        "colab": {
          "base_uri": "https://localhost:8080/"
        },
        "outputId": "36a2825f-07a1-420c-b41c-b657ad5aaccd"
      },
      "execution_count": null,
      "outputs": [
        {
          "output_type": "stream",
          "name": "stdout",
          "text": [
            "Downloading...\n",
            "From: https://drive.google.com/uc?id=1uIWeZFz3ElB5p1brBVEwJBHTbjXNPdfU\n",
            "To: /content/diamonds.csv\n",
            "100% 35.4M/35.4M [00:00<00:00, 117MB/s]\n"
          ]
        }
      ]
    },
    {
      "cell_type": "markdown",
      "source": [
        "Создадим DataFrame:"
      ],
      "metadata": {
        "id": "wfSqVYoIfi3-"
      }
    },
    {
      "cell_type": "code",
      "source": [
        "diamonds = pd.read_csv(\"diamonds.csv\")"
      ],
      "metadata": {
        "id": "cDgRJzRp6Ow4"
      },
      "execution_count": null,
      "outputs": []
    },
    {
      "cell_type": "markdown",
      "source": [
        "(0.5 балла) Выведете первые 5 строк датасета:"
      ],
      "metadata": {
        "id": "vlw_3lXG6bhv"
      }
    },
    {
      "cell_type": "code",
      "source": [
        "diamonds.loc[:5]"
      ],
      "metadata": {
        "id": "gHA-AnSE6fth",
        "colab": {
          "base_uri": "https://localhost:8080/",
          "height": 452
        },
        "outputId": "9a477a62-a0fa-44e8-8074-55c9d3dfcab2"
      },
      "execution_count": null,
      "outputs": [
        {
          "output_type": "execute_result",
          "data": {
            "text/plain": [
              "   Unnamed: 0    cut color clarity  carat_weight cut_quality  lab   symmetry  \\\n",
              "0           0  Round     E    VVS2          0.09   Excellent  IGI  Very Good   \n",
              "1           1  Round     E    VVS2          0.09   Very Good  IGI  Very Good   \n",
              "2           2  Round     E    VVS2          0.09   Excellent  IGI  Very Good   \n",
              "3           3  Round     E    VVS2          0.09   Excellent  IGI  Very Good   \n",
              "4           4  Round     E    VVS2          0.09   Very Good  IGI  Very Good   \n",
              "5           5  Round     E    VVS2          0.09   Very Good  IGI  Very Good   \n",
              "\n",
              "      polish eye_clean  ... meas_depth girdle_min  girdle_max  fluor_color  \\\n",
              "0  Very Good   unknown  ...       1.79          M           M      unknown   \n",
              "1  Very Good   unknown  ...       1.78        STK         STK      unknown   \n",
              "2  Very Good   unknown  ...       1.77         TN           M      unknown   \n",
              "3  Very Good   unknown  ...       1.78          M         STK      unknown   \n",
              "4  Excellent   unknown  ...       1.82        STK         STK      unknown   \n",
              "5  Very Good   unknown  ...       1.81         TN           M      unknown   \n",
              "\n",
              "   fluor_intensity  fancy_color_dominant_color  fancy_color_secondary_color  \\\n",
              "0             None                     unknown                      unknown   \n",
              "1             None                     unknown                      unknown   \n",
              "2             None                     unknown                      unknown   \n",
              "3             None                     unknown                      unknown   \n",
              "4             None                     unknown                      unknown   \n",
              "5             None                     unknown                      unknown   \n",
              "\n",
              "  fancy_color_overtone fancy_color_intensity total_sales_price  \n",
              "0              unknown               unknown               200  \n",
              "1              unknown               unknown               200  \n",
              "2              unknown               unknown               200  \n",
              "3              unknown               unknown               200  \n",
              "4              unknown               unknown               200  \n",
              "5              unknown               unknown               200  \n",
              "\n",
              "[6 rows x 26 columns]"
            ],
            "text/html": [
              "\n",
              "  <div id=\"df-b50f3f42-7e6d-4cff-a836-31bd7d250877\">\n",
              "    <div class=\"colab-df-container\">\n",
              "      <div>\n",
              "<style scoped>\n",
              "    .dataframe tbody tr th:only-of-type {\n",
              "        vertical-align: middle;\n",
              "    }\n",
              "\n",
              "    .dataframe tbody tr th {\n",
              "        vertical-align: top;\n",
              "    }\n",
              "\n",
              "    .dataframe thead th {\n",
              "        text-align: right;\n",
              "    }\n",
              "</style>\n",
              "<table border=\"1\" class=\"dataframe\">\n",
              "  <thead>\n",
              "    <tr style=\"text-align: right;\">\n",
              "      <th></th>\n",
              "      <th>Unnamed: 0</th>\n",
              "      <th>cut</th>\n",
              "      <th>color</th>\n",
              "      <th>clarity</th>\n",
              "      <th>carat_weight</th>\n",
              "      <th>cut_quality</th>\n",
              "      <th>lab</th>\n",
              "      <th>symmetry</th>\n",
              "      <th>polish</th>\n",
              "      <th>eye_clean</th>\n",
              "      <th>...</th>\n",
              "      <th>meas_depth</th>\n",
              "      <th>girdle_min</th>\n",
              "      <th>girdle_max</th>\n",
              "      <th>fluor_color</th>\n",
              "      <th>fluor_intensity</th>\n",
              "      <th>fancy_color_dominant_color</th>\n",
              "      <th>fancy_color_secondary_color</th>\n",
              "      <th>fancy_color_overtone</th>\n",
              "      <th>fancy_color_intensity</th>\n",
              "      <th>total_sales_price</th>\n",
              "    </tr>\n",
              "  </thead>\n",
              "  <tbody>\n",
              "    <tr>\n",
              "      <th>0</th>\n",
              "      <td>0</td>\n",
              "      <td>Round</td>\n",
              "      <td>E</td>\n",
              "      <td>VVS2</td>\n",
              "      <td>0.09</td>\n",
              "      <td>Excellent</td>\n",
              "      <td>IGI</td>\n",
              "      <td>Very Good</td>\n",
              "      <td>Very Good</td>\n",
              "      <td>unknown</td>\n",
              "      <td>...</td>\n",
              "      <td>1.79</td>\n",
              "      <td>M</td>\n",
              "      <td>M</td>\n",
              "      <td>unknown</td>\n",
              "      <td>None</td>\n",
              "      <td>unknown</td>\n",
              "      <td>unknown</td>\n",
              "      <td>unknown</td>\n",
              "      <td>unknown</td>\n",
              "      <td>200</td>\n",
              "    </tr>\n",
              "    <tr>\n",
              "      <th>1</th>\n",
              "      <td>1</td>\n",
              "      <td>Round</td>\n",
              "      <td>E</td>\n",
              "      <td>VVS2</td>\n",
              "      <td>0.09</td>\n",
              "      <td>Very Good</td>\n",
              "      <td>IGI</td>\n",
              "      <td>Very Good</td>\n",
              "      <td>Very Good</td>\n",
              "      <td>unknown</td>\n",
              "      <td>...</td>\n",
              "      <td>1.78</td>\n",
              "      <td>STK</td>\n",
              "      <td>STK</td>\n",
              "      <td>unknown</td>\n",
              "      <td>None</td>\n",
              "      <td>unknown</td>\n",
              "      <td>unknown</td>\n",
              "      <td>unknown</td>\n",
              "      <td>unknown</td>\n",
              "      <td>200</td>\n",
              "    </tr>\n",
              "    <tr>\n",
              "      <th>2</th>\n",
              "      <td>2</td>\n",
              "      <td>Round</td>\n",
              "      <td>E</td>\n",
              "      <td>VVS2</td>\n",
              "      <td>0.09</td>\n",
              "      <td>Excellent</td>\n",
              "      <td>IGI</td>\n",
              "      <td>Very Good</td>\n",
              "      <td>Very Good</td>\n",
              "      <td>unknown</td>\n",
              "      <td>...</td>\n",
              "      <td>1.77</td>\n",
              "      <td>TN</td>\n",
              "      <td>M</td>\n",
              "      <td>unknown</td>\n",
              "      <td>None</td>\n",
              "      <td>unknown</td>\n",
              "      <td>unknown</td>\n",
              "      <td>unknown</td>\n",
              "      <td>unknown</td>\n",
              "      <td>200</td>\n",
              "    </tr>\n",
              "    <tr>\n",
              "      <th>3</th>\n",
              "      <td>3</td>\n",
              "      <td>Round</td>\n",
              "      <td>E</td>\n",
              "      <td>VVS2</td>\n",
              "      <td>0.09</td>\n",
              "      <td>Excellent</td>\n",
              "      <td>IGI</td>\n",
              "      <td>Very Good</td>\n",
              "      <td>Very Good</td>\n",
              "      <td>unknown</td>\n",
              "      <td>...</td>\n",
              "      <td>1.78</td>\n",
              "      <td>M</td>\n",
              "      <td>STK</td>\n",
              "      <td>unknown</td>\n",
              "      <td>None</td>\n",
              "      <td>unknown</td>\n",
              "      <td>unknown</td>\n",
              "      <td>unknown</td>\n",
              "      <td>unknown</td>\n",
              "      <td>200</td>\n",
              "    </tr>\n",
              "    <tr>\n",
              "      <th>4</th>\n",
              "      <td>4</td>\n",
              "      <td>Round</td>\n",
              "      <td>E</td>\n",
              "      <td>VVS2</td>\n",
              "      <td>0.09</td>\n",
              "      <td>Very Good</td>\n",
              "      <td>IGI</td>\n",
              "      <td>Very Good</td>\n",
              "      <td>Excellent</td>\n",
              "      <td>unknown</td>\n",
              "      <td>...</td>\n",
              "      <td>1.82</td>\n",
              "      <td>STK</td>\n",
              "      <td>STK</td>\n",
              "      <td>unknown</td>\n",
              "      <td>None</td>\n",
              "      <td>unknown</td>\n",
              "      <td>unknown</td>\n",
              "      <td>unknown</td>\n",
              "      <td>unknown</td>\n",
              "      <td>200</td>\n",
              "    </tr>\n",
              "    <tr>\n",
              "      <th>5</th>\n",
              "      <td>5</td>\n",
              "      <td>Round</td>\n",
              "      <td>E</td>\n",
              "      <td>VVS2</td>\n",
              "      <td>0.09</td>\n",
              "      <td>Very Good</td>\n",
              "      <td>IGI</td>\n",
              "      <td>Very Good</td>\n",
              "      <td>Very Good</td>\n",
              "      <td>unknown</td>\n",
              "      <td>...</td>\n",
              "      <td>1.81</td>\n",
              "      <td>TN</td>\n",
              "      <td>M</td>\n",
              "      <td>unknown</td>\n",
              "      <td>None</td>\n",
              "      <td>unknown</td>\n",
              "      <td>unknown</td>\n",
              "      <td>unknown</td>\n",
              "      <td>unknown</td>\n",
              "      <td>200</td>\n",
              "    </tr>\n",
              "  </tbody>\n",
              "</table>\n",
              "<p>6 rows × 26 columns</p>\n",
              "</div>\n",
              "      <button class=\"colab-df-convert\" onclick=\"convertToInteractive('df-b50f3f42-7e6d-4cff-a836-31bd7d250877')\"\n",
              "              title=\"Convert this dataframe to an interactive table.\"\n",
              "              style=\"display:none;\">\n",
              "        \n",
              "  <svg xmlns=\"http://www.w3.org/2000/svg\" height=\"24px\"viewBox=\"0 0 24 24\"\n",
              "       width=\"24px\">\n",
              "    <path d=\"M0 0h24v24H0V0z\" fill=\"none\"/>\n",
              "    <path d=\"M18.56 5.44l.94 2.06.94-2.06 2.06-.94-2.06-.94-.94-2.06-.94 2.06-2.06.94zm-11 1L8.5 8.5l.94-2.06 2.06-.94-2.06-.94L8.5 2.5l-.94 2.06-2.06.94zm10 10l.94 2.06.94-2.06 2.06-.94-2.06-.94-.94-2.06-.94 2.06-2.06.94z\"/><path d=\"M17.41 7.96l-1.37-1.37c-.4-.4-.92-.59-1.43-.59-.52 0-1.04.2-1.43.59L10.3 9.45l-7.72 7.72c-.78.78-.78 2.05 0 2.83L4 21.41c.39.39.9.59 1.41.59.51 0 1.02-.2 1.41-.59l7.78-7.78 2.81-2.81c.8-.78.8-2.07 0-2.86zM5.41 20L4 18.59l7.72-7.72 1.47 1.35L5.41 20z\"/>\n",
              "  </svg>\n",
              "      </button>\n",
              "      \n",
              "  <style>\n",
              "    .colab-df-container {\n",
              "      display:flex;\n",
              "      flex-wrap:wrap;\n",
              "      gap: 12px;\n",
              "    }\n",
              "\n",
              "    .colab-df-convert {\n",
              "      background-color: #E8F0FE;\n",
              "      border: none;\n",
              "      border-radius: 50%;\n",
              "      cursor: pointer;\n",
              "      display: none;\n",
              "      fill: #1967D2;\n",
              "      height: 32px;\n",
              "      padding: 0 0 0 0;\n",
              "      width: 32px;\n",
              "    }\n",
              "\n",
              "    .colab-df-convert:hover {\n",
              "      background-color: #E2EBFA;\n",
              "      box-shadow: 0px 1px 2px rgba(60, 64, 67, 0.3), 0px 1px 3px 1px rgba(60, 64, 67, 0.15);\n",
              "      fill: #174EA6;\n",
              "    }\n",
              "\n",
              "    [theme=dark] .colab-df-convert {\n",
              "      background-color: #3B4455;\n",
              "      fill: #D2E3FC;\n",
              "    }\n",
              "\n",
              "    [theme=dark] .colab-df-convert:hover {\n",
              "      background-color: #434B5C;\n",
              "      box-shadow: 0px 1px 3px 1px rgba(0, 0, 0, 0.15);\n",
              "      filter: drop-shadow(0px 1px 2px rgba(0, 0, 0, 0.3));\n",
              "      fill: #FFFFFF;\n",
              "    }\n",
              "  </style>\n",
              "\n",
              "      <script>\n",
              "        const buttonEl =\n",
              "          document.querySelector('#df-b50f3f42-7e6d-4cff-a836-31bd7d250877 button.colab-df-convert');\n",
              "        buttonEl.style.display =\n",
              "          google.colab.kernel.accessAllowed ? 'block' : 'none';\n",
              "\n",
              "        async function convertToInteractive(key) {\n",
              "          const element = document.querySelector('#df-b50f3f42-7e6d-4cff-a836-31bd7d250877');\n",
              "          const dataTable =\n",
              "            await google.colab.kernel.invokeFunction('convertToInteractive',\n",
              "                                                     [key], {});\n",
              "          if (!dataTable) return;\n",
              "\n",
              "          const docLinkHtml = 'Like what you see? Visit the ' +\n",
              "            '<a target=\"_blank\" href=https://colab.research.google.com/notebooks/data_table.ipynb>data table notebook</a>'\n",
              "            + ' to learn more about interactive tables.';\n",
              "          element.innerHTML = '';\n",
              "          dataTable['output_type'] = 'display_data';\n",
              "          await google.colab.output.renderOutput(dataTable, element);\n",
              "          const docLink = document.createElement('div');\n",
              "          docLink.innerHTML = docLinkHtml;\n",
              "          element.appendChild(docLink);\n",
              "        }\n",
              "      </script>\n",
              "    </div>\n",
              "  </div>\n",
              "  "
            ]
          },
          "metadata": {},
          "execution_count": 5
        }
      ]
    },
    {
      "cell_type": "markdown",
      "source": [
        "(0.5 балла) Найдите количество бриллиантов всего в данном датасете:"
      ],
      "metadata": {
        "id": "gat7bnPQ6fCE"
      }
    },
    {
      "cell_type": "code",
      "source": [
        "print(len(diamonds))"
      ],
      "metadata": {
        "id": "-9x6z3-J7C-v",
        "colab": {
          "base_uri": "https://localhost:8080/"
        },
        "outputId": "f8f39559-5ea7-4ac0-930f-6296b96c7526"
      },
      "execution_count": null,
      "outputs": [
        {
          "output_type": "stream",
          "name": "stdout",
          "text": [
            "219703\n"
          ]
        }
      ]
    },
    {
      "cell_type": "markdown",
      "source": [
        "(0.5 балла) Выведите максимальную и минимальную цену бриллианта в формате `номер - цена`:"
      ],
      "metadata": {
        "id": "fYQuIdtL7DFp"
      }
    },
    {
      "cell_type": "code",
      "source": [
        "max_price = 0\n",
        "max_index = 0\n",
        "min_price = 1000000000000\n",
        "min_index = 0\n",
        "\n",
        "for i, price in enumerate(diamonds['total_sales_price']):\n",
        "  if price < min_price:\n",
        "    min_price = price\n",
        "    min_index = i\n",
        "  if price > max_price:\n",
        "    max_price = price\n",
        "    max_index = i\n",
        "\n",
        "print(max_index, max_price)\n",
        "print(min_index, min_price)"
      ],
      "metadata": {
        "id": "D_7sjzjP7SEj",
        "colab": {
          "base_uri": "https://localhost:8080/"
        },
        "outputId": "88ff9853-0089-4e18-af09-60b06a76b302"
      },
      "execution_count": null,
      "outputs": [
        {
          "output_type": "stream",
          "name": "stdout",
          "text": [
            "219702 1449881\n",
            "0 200\n"
          ]
        }
      ]
    },
    {
      "cell_type": "markdown",
      "source": [
        "(1 балл) Посчитайте количество пропусков (пропуском считается значение `unknown` или `None`):"
      ],
      "metadata": {
        "id": "E2mf4IIO7SOg"
      }
    },
    {
      "cell_type": "code",
      "source": [
        "cnt = 0\n",
        "for index, row in diamonds.iterrows():\n",
        "  for item in row:\n",
        "    if item == 'unknown' or item == None:\n",
        "      cnt+=1\n",
        "print(cnt)"
      ],
      "metadata": {
        "id": "BuJZ0UoN7qAU",
        "colab": {
          "base_uri": "https://localhost:8080/"
        },
        "outputId": "c7a63f22-56c8-46d6-e5ea-69ad34d05723"
      },
      "execution_count": null,
      "outputs": [
        {
          "output_type": "stream",
          "name": "stdout",
          "text": [
            "1746027\n"
          ]
        }
      ]
    },
    {
      "cell_type": "markdown",
      "source": [
        "(1 балл) Найдите в каких столбцах присутствуют пропуски:"
      ],
      "metadata": {
        "id": "d5LWUc_fh0vb"
      }
    },
    {
      "cell_type": "code",
      "source": [
        "columns_with_spaces = []\n",
        "for index, column in diamonds.items():\n",
        "  for item in column:\n",
        "    if item == 'unknown' or item == None:\n",
        "      columns_with_spaces += [index]\n",
        "      break\n",
        "print(columns_with_spaces)"
      ],
      "metadata": {
        "id": "IsU49Fouh5vy",
        "colab": {
          "base_uri": "https://localhost:8080/"
        },
        "outputId": "2ecf6c4d-f0d7-4b46-c173-c4d2798d7bc0"
      },
      "execution_count": null,
      "outputs": [
        {
          "output_type": "stream",
          "name": "stdout",
          "text": [
            "['color', 'cut_quality', 'eye_clean', 'culet_size', 'culet_condition', 'girdle_min', 'girdle_max', 'fluor_color', 'fluor_intensity', 'fancy_color_dominant_color', 'fancy_color_secondary_color', 'fancy_color_overtone', 'fancy_color_intensity']\n"
          ]
        }
      ]
    },
    {
      "cell_type": "markdown",
      "source": [
        "В нашем датасете присутствуют колонки, которые начинаются с `fancy_color_` или `fluor_`. Большинство значений в этих колонках - `unknown` или `None`, поэтому мы считаем их малоинформативными. "
      ],
      "metadata": {
        "id": "UznNZpJ47qGX"
      }
    },
    {
      "cell_type": "code",
      "source": [],
      "metadata": {
        "id": "4CxQjpTIzA71"
      },
      "execution_count": null,
      "outputs": []
    },
    {
      "cell_type": "markdown",
      "source": [
        "Ваша задача:"
      ],
      "metadata": {
        "id": "Rkk6Hr2Ui87X"
      }
    },
    {
      "cell_type": "markdown",
      "source": [
        "1. (0.5 балла) найти количество таких колонок, которые начинаются с `fancy_color_` или `fluor_`:"
      ],
      "metadata": {
        "id": "YYBDAgSSi-JU"
      }
    },
    {
      "cell_type": "code",
      "source": [
        "rare_column = []\n",
        "for index, column in diamonds.items():\n",
        "  if index[:12] == \"fancy_color_\" or index[:6] == 'fluor_':\n",
        "    rare_column += [index]\n",
        "print(len(rare_column))"
      ],
      "metadata": {
        "id": "nbTUkk4T8-wO",
        "colab": {
          "base_uri": "https://localhost:8080/"
        },
        "outputId": "f7e918f4-47fb-4efe-dd78-2ccc9e0eaed3"
      },
      "execution_count": null,
      "outputs": [
        {
          "output_type": "stream",
          "name": "stdout",
          "text": [
            "6\n"
          ]
        }
      ]
    },
    {
      "cell_type": "markdown",
      "source": [
        "2. (0.5 балла) найти количество информативных (не `None` или `unknown`) значений в этих колонках: "
      ],
      "metadata": {
        "id": "imop6nNujA6z"
      }
    },
    {
      "cell_type": "code",
      "source": [
        "cnt_info = 0\n",
        "for index in rare_column:\n",
        "  for item in diamonds[index]:\n",
        "    if item != 'unknown' and item != None:\n",
        "      cnt_info+=1\n",
        "print(cnt_info)"
      ],
      "metadata": {
        "id": "jtJcBwAVjPHU",
        "colab": {
          "base_uri": "https://localhost:8080/"
        },
        "outputId": "98d61bf5-f2b6-4278-efe8-6e061b04a422"
      },
      "execution_count": null,
      "outputs": [
        {
          "output_type": "stream",
          "name": "stdout",
          "text": [
            "256727\n"
          ]
        }
      ]
    },
    {
      "cell_type": "markdown",
      "source": [
        "3. (0.5 балла) удалить данные колонки из датасета, сохранив изменения (в дальнейшем работаем измененным датасетом):"
      ],
      "metadata": {
        "id": "wFbuTnkbjPeq"
      }
    },
    {
      "cell_type": "code",
      "source": [
        "diamonds.drop(columns=rare_column, axis=1, inplace=True)\n",
        "diamonds"
      ],
      "metadata": {
        "id": "qSZ5cmKWjutz",
        "colab": {
          "base_uri": "https://localhost:8080/",
          "height": 626
        },
        "outputId": "d7ddc42c-c637-4c25-c55f-2e54b2f8faa5"
      },
      "execution_count": null,
      "outputs": [
        {
          "output_type": "execute_result",
          "data": {
            "text/plain": [
              "        Unnamed: 0       cut    color clarity  carat_weight cut_quality  lab  \\\n",
              "0                0     Round        E    VVS2          0.09   Excellent  IGI   \n",
              "1                1     Round        E    VVS2          0.09   Very Good  IGI   \n",
              "2                2     Round        E    VVS2          0.09   Excellent  IGI   \n",
              "3                3     Round        E    VVS2          0.09   Excellent  IGI   \n",
              "4                4     Round        E    VVS2          0.09   Very Good  IGI   \n",
              "...            ...       ...      ...     ...           ...         ...  ...   \n",
              "219698      219699     Round        E     VS1         10.65   Excellent  GIA   \n",
              "219699      219700   Radiant  unknown     VS2          5.17     unknown  GIA   \n",
              "219700      219701     Round        E     VS1         18.07   Excellent  GIA   \n",
              "219701      219702  Princess  unknown     SI2          0.90     unknown  GIA   \n",
              "219702      219703      Pear  unknown    VVS2         10.03     unknown  GIA   \n",
              "\n",
              "         symmetry     polish eye_clean culet_size culet_condition  \\\n",
              "0       Very Good  Very Good   unknown          N         unknown   \n",
              "1       Very Good  Very Good   unknown          N         unknown   \n",
              "2       Very Good  Very Good   unknown    unknown         unknown   \n",
              "3       Very Good  Very Good   unknown    unknown         unknown   \n",
              "4       Very Good  Excellent   unknown          N         unknown   \n",
              "...           ...        ...       ...        ...             ...   \n",
              "219698  Excellent  Excellent   unknown          N         unknown   \n",
              "219699  Very Good  Very Good   unknown    unknown         unknown   \n",
              "219700  Excellent  Excellent   unknown          N         unknown   \n",
              "219701       Good       Good   unknown          N         unknown   \n",
              "219702  Very Good  Excellent   unknown    unknown         unknown   \n",
              "\n",
              "        depth_percent  table_percent  meas_length  meas_width  meas_depth  \\\n",
              "0                62.7           59.0         2.85        2.87        1.79   \n",
              "1                61.9           59.0         2.84        2.89        1.78   \n",
              "2                61.1           59.0         2.88        2.90        1.77   \n",
              "3                62.0           59.0         2.86        2.88        1.78   \n",
              "4                64.9           58.5         2.79        2.83        1.82   \n",
              "...               ...            ...          ...         ...         ...   \n",
              "219698           61.3           58.0        14.06       14.18        8.66   \n",
              "219699           64.8           65.0        11.55        8.81        5.71   \n",
              "219700           60.2           59.0        17.06       17.10       10.20   \n",
              "219701           70.8           72.0         5.22        4.90        3.47   \n",
              "219702           66.7           65.0        15.61       11.09        7.39   \n",
              "\n",
              "       girdle_min girdle_max  total_sales_price  \n",
              "0               M          M                200  \n",
              "1             STK        STK                200  \n",
              "2              TN          M                200  \n",
              "3               M        STK                200  \n",
              "4             STK        STK                200  \n",
              "...           ...        ...                ...  \n",
              "219698          M        STK            1210692  \n",
              "219699         TK        XTK            1292500  \n",
              "219700         TN          M            1315496  \n",
              "219701        XTN        VTK            1350000  \n",
              "219702    unknown    unknown            1449881  \n",
              "\n",
              "[219703 rows x 20 columns]"
            ],
            "text/html": [
              "\n",
              "  <div id=\"df-eea0e0ec-209b-4c82-a400-ab43365c2815\">\n",
              "    <div class=\"colab-df-container\">\n",
              "      <div>\n",
              "<style scoped>\n",
              "    .dataframe tbody tr th:only-of-type {\n",
              "        vertical-align: middle;\n",
              "    }\n",
              "\n",
              "    .dataframe tbody tr th {\n",
              "        vertical-align: top;\n",
              "    }\n",
              "\n",
              "    .dataframe thead th {\n",
              "        text-align: right;\n",
              "    }\n",
              "</style>\n",
              "<table border=\"1\" class=\"dataframe\">\n",
              "  <thead>\n",
              "    <tr style=\"text-align: right;\">\n",
              "      <th></th>\n",
              "      <th>Unnamed: 0</th>\n",
              "      <th>cut</th>\n",
              "      <th>color</th>\n",
              "      <th>clarity</th>\n",
              "      <th>carat_weight</th>\n",
              "      <th>cut_quality</th>\n",
              "      <th>lab</th>\n",
              "      <th>symmetry</th>\n",
              "      <th>polish</th>\n",
              "      <th>eye_clean</th>\n",
              "      <th>culet_size</th>\n",
              "      <th>culet_condition</th>\n",
              "      <th>depth_percent</th>\n",
              "      <th>table_percent</th>\n",
              "      <th>meas_length</th>\n",
              "      <th>meas_width</th>\n",
              "      <th>meas_depth</th>\n",
              "      <th>girdle_min</th>\n",
              "      <th>girdle_max</th>\n",
              "      <th>total_sales_price</th>\n",
              "    </tr>\n",
              "  </thead>\n",
              "  <tbody>\n",
              "    <tr>\n",
              "      <th>0</th>\n",
              "      <td>0</td>\n",
              "      <td>Round</td>\n",
              "      <td>E</td>\n",
              "      <td>VVS2</td>\n",
              "      <td>0.09</td>\n",
              "      <td>Excellent</td>\n",
              "      <td>IGI</td>\n",
              "      <td>Very Good</td>\n",
              "      <td>Very Good</td>\n",
              "      <td>unknown</td>\n",
              "      <td>N</td>\n",
              "      <td>unknown</td>\n",
              "      <td>62.7</td>\n",
              "      <td>59.0</td>\n",
              "      <td>2.85</td>\n",
              "      <td>2.87</td>\n",
              "      <td>1.79</td>\n",
              "      <td>M</td>\n",
              "      <td>M</td>\n",
              "      <td>200</td>\n",
              "    </tr>\n",
              "    <tr>\n",
              "      <th>1</th>\n",
              "      <td>1</td>\n",
              "      <td>Round</td>\n",
              "      <td>E</td>\n",
              "      <td>VVS2</td>\n",
              "      <td>0.09</td>\n",
              "      <td>Very Good</td>\n",
              "      <td>IGI</td>\n",
              "      <td>Very Good</td>\n",
              "      <td>Very Good</td>\n",
              "      <td>unknown</td>\n",
              "      <td>N</td>\n",
              "      <td>unknown</td>\n",
              "      <td>61.9</td>\n",
              "      <td>59.0</td>\n",
              "      <td>2.84</td>\n",
              "      <td>2.89</td>\n",
              "      <td>1.78</td>\n",
              "      <td>STK</td>\n",
              "      <td>STK</td>\n",
              "      <td>200</td>\n",
              "    </tr>\n",
              "    <tr>\n",
              "      <th>2</th>\n",
              "      <td>2</td>\n",
              "      <td>Round</td>\n",
              "      <td>E</td>\n",
              "      <td>VVS2</td>\n",
              "      <td>0.09</td>\n",
              "      <td>Excellent</td>\n",
              "      <td>IGI</td>\n",
              "      <td>Very Good</td>\n",
              "      <td>Very Good</td>\n",
              "      <td>unknown</td>\n",
              "      <td>unknown</td>\n",
              "      <td>unknown</td>\n",
              "      <td>61.1</td>\n",
              "      <td>59.0</td>\n",
              "      <td>2.88</td>\n",
              "      <td>2.90</td>\n",
              "      <td>1.77</td>\n",
              "      <td>TN</td>\n",
              "      <td>M</td>\n",
              "      <td>200</td>\n",
              "    </tr>\n",
              "    <tr>\n",
              "      <th>3</th>\n",
              "      <td>3</td>\n",
              "      <td>Round</td>\n",
              "      <td>E</td>\n",
              "      <td>VVS2</td>\n",
              "      <td>0.09</td>\n",
              "      <td>Excellent</td>\n",
              "      <td>IGI</td>\n",
              "      <td>Very Good</td>\n",
              "      <td>Very Good</td>\n",
              "      <td>unknown</td>\n",
              "      <td>unknown</td>\n",
              "      <td>unknown</td>\n",
              "      <td>62.0</td>\n",
              "      <td>59.0</td>\n",
              "      <td>2.86</td>\n",
              "      <td>2.88</td>\n",
              "      <td>1.78</td>\n",
              "      <td>M</td>\n",
              "      <td>STK</td>\n",
              "      <td>200</td>\n",
              "    </tr>\n",
              "    <tr>\n",
              "      <th>4</th>\n",
              "      <td>4</td>\n",
              "      <td>Round</td>\n",
              "      <td>E</td>\n",
              "      <td>VVS2</td>\n",
              "      <td>0.09</td>\n",
              "      <td>Very Good</td>\n",
              "      <td>IGI</td>\n",
              "      <td>Very Good</td>\n",
              "      <td>Excellent</td>\n",
              "      <td>unknown</td>\n",
              "      <td>N</td>\n",
              "      <td>unknown</td>\n",
              "      <td>64.9</td>\n",
              "      <td>58.5</td>\n",
              "      <td>2.79</td>\n",
              "      <td>2.83</td>\n",
              "      <td>1.82</td>\n",
              "      <td>STK</td>\n",
              "      <td>STK</td>\n",
              "      <td>200</td>\n",
              "    </tr>\n",
              "    <tr>\n",
              "      <th>...</th>\n",
              "      <td>...</td>\n",
              "      <td>...</td>\n",
              "      <td>...</td>\n",
              "      <td>...</td>\n",
              "      <td>...</td>\n",
              "      <td>...</td>\n",
              "      <td>...</td>\n",
              "      <td>...</td>\n",
              "      <td>...</td>\n",
              "      <td>...</td>\n",
              "      <td>...</td>\n",
              "      <td>...</td>\n",
              "      <td>...</td>\n",
              "      <td>...</td>\n",
              "      <td>...</td>\n",
              "      <td>...</td>\n",
              "      <td>...</td>\n",
              "      <td>...</td>\n",
              "      <td>...</td>\n",
              "      <td>...</td>\n",
              "    </tr>\n",
              "    <tr>\n",
              "      <th>219698</th>\n",
              "      <td>219699</td>\n",
              "      <td>Round</td>\n",
              "      <td>E</td>\n",
              "      <td>VS1</td>\n",
              "      <td>10.65</td>\n",
              "      <td>Excellent</td>\n",
              "      <td>GIA</td>\n",
              "      <td>Excellent</td>\n",
              "      <td>Excellent</td>\n",
              "      <td>unknown</td>\n",
              "      <td>N</td>\n",
              "      <td>unknown</td>\n",
              "      <td>61.3</td>\n",
              "      <td>58.0</td>\n",
              "      <td>14.06</td>\n",
              "      <td>14.18</td>\n",
              "      <td>8.66</td>\n",
              "      <td>M</td>\n",
              "      <td>STK</td>\n",
              "      <td>1210692</td>\n",
              "    </tr>\n",
              "    <tr>\n",
              "      <th>219699</th>\n",
              "      <td>219700</td>\n",
              "      <td>Radiant</td>\n",
              "      <td>unknown</td>\n",
              "      <td>VS2</td>\n",
              "      <td>5.17</td>\n",
              "      <td>unknown</td>\n",
              "      <td>GIA</td>\n",
              "      <td>Very Good</td>\n",
              "      <td>Very Good</td>\n",
              "      <td>unknown</td>\n",
              "      <td>unknown</td>\n",
              "      <td>unknown</td>\n",
              "      <td>64.8</td>\n",
              "      <td>65.0</td>\n",
              "      <td>11.55</td>\n",
              "      <td>8.81</td>\n",
              "      <td>5.71</td>\n",
              "      <td>TK</td>\n",
              "      <td>XTK</td>\n",
              "      <td>1292500</td>\n",
              "    </tr>\n",
              "    <tr>\n",
              "      <th>219700</th>\n",
              "      <td>219701</td>\n",
              "      <td>Round</td>\n",
              "      <td>E</td>\n",
              "      <td>VS1</td>\n",
              "      <td>18.07</td>\n",
              "      <td>Excellent</td>\n",
              "      <td>GIA</td>\n",
              "      <td>Excellent</td>\n",
              "      <td>Excellent</td>\n",
              "      <td>unknown</td>\n",
              "      <td>N</td>\n",
              "      <td>unknown</td>\n",
              "      <td>60.2</td>\n",
              "      <td>59.0</td>\n",
              "      <td>17.06</td>\n",
              "      <td>17.10</td>\n",
              "      <td>10.20</td>\n",
              "      <td>TN</td>\n",
              "      <td>M</td>\n",
              "      <td>1315496</td>\n",
              "    </tr>\n",
              "    <tr>\n",
              "      <th>219701</th>\n",
              "      <td>219702</td>\n",
              "      <td>Princess</td>\n",
              "      <td>unknown</td>\n",
              "      <td>SI2</td>\n",
              "      <td>0.90</td>\n",
              "      <td>unknown</td>\n",
              "      <td>GIA</td>\n",
              "      <td>Good</td>\n",
              "      <td>Good</td>\n",
              "      <td>unknown</td>\n",
              "      <td>N</td>\n",
              "      <td>unknown</td>\n",
              "      <td>70.8</td>\n",
              "      <td>72.0</td>\n",
              "      <td>5.22</td>\n",
              "      <td>4.90</td>\n",
              "      <td>3.47</td>\n",
              "      <td>XTN</td>\n",
              "      <td>VTK</td>\n",
              "      <td>1350000</td>\n",
              "    </tr>\n",
              "    <tr>\n",
              "      <th>219702</th>\n",
              "      <td>219703</td>\n",
              "      <td>Pear</td>\n",
              "      <td>unknown</td>\n",
              "      <td>VVS2</td>\n",
              "      <td>10.03</td>\n",
              "      <td>unknown</td>\n",
              "      <td>GIA</td>\n",
              "      <td>Very Good</td>\n",
              "      <td>Excellent</td>\n",
              "      <td>unknown</td>\n",
              "      <td>unknown</td>\n",
              "      <td>unknown</td>\n",
              "      <td>66.7</td>\n",
              "      <td>65.0</td>\n",
              "      <td>15.61</td>\n",
              "      <td>11.09</td>\n",
              "      <td>7.39</td>\n",
              "      <td>unknown</td>\n",
              "      <td>unknown</td>\n",
              "      <td>1449881</td>\n",
              "    </tr>\n",
              "  </tbody>\n",
              "</table>\n",
              "<p>219703 rows × 20 columns</p>\n",
              "</div>\n",
              "      <button class=\"colab-df-convert\" onclick=\"convertToInteractive('df-eea0e0ec-209b-4c82-a400-ab43365c2815')\"\n",
              "              title=\"Convert this dataframe to an interactive table.\"\n",
              "              style=\"display:none;\">\n",
              "        \n",
              "  <svg xmlns=\"http://www.w3.org/2000/svg\" height=\"24px\"viewBox=\"0 0 24 24\"\n",
              "       width=\"24px\">\n",
              "    <path d=\"M0 0h24v24H0V0z\" fill=\"none\"/>\n",
              "    <path d=\"M18.56 5.44l.94 2.06.94-2.06 2.06-.94-2.06-.94-.94-2.06-.94 2.06-2.06.94zm-11 1L8.5 8.5l.94-2.06 2.06-.94-2.06-.94L8.5 2.5l-.94 2.06-2.06.94zm10 10l.94 2.06.94-2.06 2.06-.94-2.06-.94-.94-2.06-.94 2.06-2.06.94z\"/><path d=\"M17.41 7.96l-1.37-1.37c-.4-.4-.92-.59-1.43-.59-.52 0-1.04.2-1.43.59L10.3 9.45l-7.72 7.72c-.78.78-.78 2.05 0 2.83L4 21.41c.39.39.9.59 1.41.59.51 0 1.02-.2 1.41-.59l7.78-7.78 2.81-2.81c.8-.78.8-2.07 0-2.86zM5.41 20L4 18.59l7.72-7.72 1.47 1.35L5.41 20z\"/>\n",
              "  </svg>\n",
              "      </button>\n",
              "      \n",
              "  <style>\n",
              "    .colab-df-container {\n",
              "      display:flex;\n",
              "      flex-wrap:wrap;\n",
              "      gap: 12px;\n",
              "    }\n",
              "\n",
              "    .colab-df-convert {\n",
              "      background-color: #E8F0FE;\n",
              "      border: none;\n",
              "      border-radius: 50%;\n",
              "      cursor: pointer;\n",
              "      display: none;\n",
              "      fill: #1967D2;\n",
              "      height: 32px;\n",
              "      padding: 0 0 0 0;\n",
              "      width: 32px;\n",
              "    }\n",
              "\n",
              "    .colab-df-convert:hover {\n",
              "      background-color: #E2EBFA;\n",
              "      box-shadow: 0px 1px 2px rgba(60, 64, 67, 0.3), 0px 1px 3px 1px rgba(60, 64, 67, 0.15);\n",
              "      fill: #174EA6;\n",
              "    }\n",
              "\n",
              "    [theme=dark] .colab-df-convert {\n",
              "      background-color: #3B4455;\n",
              "      fill: #D2E3FC;\n",
              "    }\n",
              "\n",
              "    [theme=dark] .colab-df-convert:hover {\n",
              "      background-color: #434B5C;\n",
              "      box-shadow: 0px 1px 3px 1px rgba(0, 0, 0, 0.15);\n",
              "      filter: drop-shadow(0px 1px 2px rgba(0, 0, 0, 0.3));\n",
              "      fill: #FFFFFF;\n",
              "    }\n",
              "  </style>\n",
              "\n",
              "      <script>\n",
              "        const buttonEl =\n",
              "          document.querySelector('#df-eea0e0ec-209b-4c82-a400-ab43365c2815 button.colab-df-convert');\n",
              "        buttonEl.style.display =\n",
              "          google.colab.kernel.accessAllowed ? 'block' : 'none';\n",
              "\n",
              "        async function convertToInteractive(key) {\n",
              "          const element = document.querySelector('#df-eea0e0ec-209b-4c82-a400-ab43365c2815');\n",
              "          const dataTable =\n",
              "            await google.colab.kernel.invokeFunction('convertToInteractive',\n",
              "                                                     [key], {});\n",
              "          if (!dataTable) return;\n",
              "\n",
              "          const docLinkHtml = 'Like what you see? Visit the ' +\n",
              "            '<a target=\"_blank\" href=https://colab.research.google.com/notebooks/data_table.ipynb>data table notebook</a>'\n",
              "            + ' to learn more about interactive tables.';\n",
              "          element.innerHTML = '';\n",
              "          dataTable['output_type'] = 'display_data';\n",
              "          await google.colab.output.renderOutput(dataTable, element);\n",
              "          const docLink = document.createElement('div');\n",
              "          docLink.innerHTML = docLinkHtml;\n",
              "          element.appendChild(docLink);\n",
              "        }\n",
              "      </script>\n",
              "    </div>\n",
              "  </div>\n",
              "  "
            ]
          },
          "metadata": {},
          "execution_count": 6
        }
      ]
    },
    {
      "cell_type": "markdown",
      "source": [
        "(1 балл) Проделайте тоже самое для колонок, начинающихся с `culet_`:"
      ],
      "metadata": {
        "id": "JID3q4vr8-2h"
      }
    },
    {
      "cell_type": "code",
      "source": [
        "culet_column = []\n",
        "for index, column in diamonds.items():\n",
        "  if index[:6] == 'culet_':\n",
        "    culet_column += [index]\n",
        "diamonds.drop(columns=culet_column, axis=1, inplace=True)\n",
        "diamonds"
      ],
      "metadata": {
        "id": "Wfsvzyad-T6P",
        "colab": {
          "base_uri": "https://localhost:8080/",
          "height": 626
        },
        "outputId": "cbe88e31-297a-4677-f6ef-1bef24bcbf6d"
      },
      "execution_count": null,
      "outputs": [
        {
          "output_type": "execute_result",
          "data": {
            "text/plain": [
              "        Unnamed: 0       cut    color clarity  carat_weight cut_quality  lab  \\\n",
              "0                0     Round        E    VVS2          0.09   Excellent  IGI   \n",
              "1                1     Round        E    VVS2          0.09   Very Good  IGI   \n",
              "2                2     Round        E    VVS2          0.09   Excellent  IGI   \n",
              "3                3     Round        E    VVS2          0.09   Excellent  IGI   \n",
              "4                4     Round        E    VVS2          0.09   Very Good  IGI   \n",
              "...            ...       ...      ...     ...           ...         ...  ...   \n",
              "219698      219699     Round        E     VS1         10.65   Excellent  GIA   \n",
              "219699      219700   Radiant  unknown     VS2          5.17     unknown  GIA   \n",
              "219700      219701     Round        E     VS1         18.07   Excellent  GIA   \n",
              "219701      219702  Princess  unknown     SI2          0.90     unknown  GIA   \n",
              "219702      219703      Pear  unknown    VVS2         10.03     unknown  GIA   \n",
              "\n",
              "         symmetry     polish eye_clean  depth_percent  table_percent  \\\n",
              "0       Very Good  Very Good   unknown           62.7           59.0   \n",
              "1       Very Good  Very Good   unknown           61.9           59.0   \n",
              "2       Very Good  Very Good   unknown           61.1           59.0   \n",
              "3       Very Good  Very Good   unknown           62.0           59.0   \n",
              "4       Very Good  Excellent   unknown           64.9           58.5   \n",
              "...           ...        ...       ...            ...            ...   \n",
              "219698  Excellent  Excellent   unknown           61.3           58.0   \n",
              "219699  Very Good  Very Good   unknown           64.8           65.0   \n",
              "219700  Excellent  Excellent   unknown           60.2           59.0   \n",
              "219701       Good       Good   unknown           70.8           72.0   \n",
              "219702  Very Good  Excellent   unknown           66.7           65.0   \n",
              "\n",
              "        meas_length  meas_width  meas_depth girdle_min girdle_max  \\\n",
              "0              2.85        2.87        1.79          M          M   \n",
              "1              2.84        2.89        1.78        STK        STK   \n",
              "2              2.88        2.90        1.77         TN          M   \n",
              "3              2.86        2.88        1.78          M        STK   \n",
              "4              2.79        2.83        1.82        STK        STK   \n",
              "...             ...         ...         ...        ...        ...   \n",
              "219698        14.06       14.18        8.66          M        STK   \n",
              "219699        11.55        8.81        5.71         TK        XTK   \n",
              "219700        17.06       17.10       10.20         TN          M   \n",
              "219701         5.22        4.90        3.47        XTN        VTK   \n",
              "219702        15.61       11.09        7.39    unknown    unknown   \n",
              "\n",
              "        total_sales_price  \n",
              "0                     200  \n",
              "1                     200  \n",
              "2                     200  \n",
              "3                     200  \n",
              "4                     200  \n",
              "...                   ...  \n",
              "219698            1210692  \n",
              "219699            1292500  \n",
              "219700            1315496  \n",
              "219701            1350000  \n",
              "219702            1449881  \n",
              "\n",
              "[219703 rows x 18 columns]"
            ],
            "text/html": [
              "\n",
              "  <div id=\"df-9d728f63-91a3-4d15-bf44-04d99a325c16\">\n",
              "    <div class=\"colab-df-container\">\n",
              "      <div>\n",
              "<style scoped>\n",
              "    .dataframe tbody tr th:only-of-type {\n",
              "        vertical-align: middle;\n",
              "    }\n",
              "\n",
              "    .dataframe tbody tr th {\n",
              "        vertical-align: top;\n",
              "    }\n",
              "\n",
              "    .dataframe thead th {\n",
              "        text-align: right;\n",
              "    }\n",
              "</style>\n",
              "<table border=\"1\" class=\"dataframe\">\n",
              "  <thead>\n",
              "    <tr style=\"text-align: right;\">\n",
              "      <th></th>\n",
              "      <th>Unnamed: 0</th>\n",
              "      <th>cut</th>\n",
              "      <th>color</th>\n",
              "      <th>clarity</th>\n",
              "      <th>carat_weight</th>\n",
              "      <th>cut_quality</th>\n",
              "      <th>lab</th>\n",
              "      <th>symmetry</th>\n",
              "      <th>polish</th>\n",
              "      <th>eye_clean</th>\n",
              "      <th>depth_percent</th>\n",
              "      <th>table_percent</th>\n",
              "      <th>meas_length</th>\n",
              "      <th>meas_width</th>\n",
              "      <th>meas_depth</th>\n",
              "      <th>girdle_min</th>\n",
              "      <th>girdle_max</th>\n",
              "      <th>total_sales_price</th>\n",
              "    </tr>\n",
              "  </thead>\n",
              "  <tbody>\n",
              "    <tr>\n",
              "      <th>0</th>\n",
              "      <td>0</td>\n",
              "      <td>Round</td>\n",
              "      <td>E</td>\n",
              "      <td>VVS2</td>\n",
              "      <td>0.09</td>\n",
              "      <td>Excellent</td>\n",
              "      <td>IGI</td>\n",
              "      <td>Very Good</td>\n",
              "      <td>Very Good</td>\n",
              "      <td>unknown</td>\n",
              "      <td>62.7</td>\n",
              "      <td>59.0</td>\n",
              "      <td>2.85</td>\n",
              "      <td>2.87</td>\n",
              "      <td>1.79</td>\n",
              "      <td>M</td>\n",
              "      <td>M</td>\n",
              "      <td>200</td>\n",
              "    </tr>\n",
              "    <tr>\n",
              "      <th>1</th>\n",
              "      <td>1</td>\n",
              "      <td>Round</td>\n",
              "      <td>E</td>\n",
              "      <td>VVS2</td>\n",
              "      <td>0.09</td>\n",
              "      <td>Very Good</td>\n",
              "      <td>IGI</td>\n",
              "      <td>Very Good</td>\n",
              "      <td>Very Good</td>\n",
              "      <td>unknown</td>\n",
              "      <td>61.9</td>\n",
              "      <td>59.0</td>\n",
              "      <td>2.84</td>\n",
              "      <td>2.89</td>\n",
              "      <td>1.78</td>\n",
              "      <td>STK</td>\n",
              "      <td>STK</td>\n",
              "      <td>200</td>\n",
              "    </tr>\n",
              "    <tr>\n",
              "      <th>2</th>\n",
              "      <td>2</td>\n",
              "      <td>Round</td>\n",
              "      <td>E</td>\n",
              "      <td>VVS2</td>\n",
              "      <td>0.09</td>\n",
              "      <td>Excellent</td>\n",
              "      <td>IGI</td>\n",
              "      <td>Very Good</td>\n",
              "      <td>Very Good</td>\n",
              "      <td>unknown</td>\n",
              "      <td>61.1</td>\n",
              "      <td>59.0</td>\n",
              "      <td>2.88</td>\n",
              "      <td>2.90</td>\n",
              "      <td>1.77</td>\n",
              "      <td>TN</td>\n",
              "      <td>M</td>\n",
              "      <td>200</td>\n",
              "    </tr>\n",
              "    <tr>\n",
              "      <th>3</th>\n",
              "      <td>3</td>\n",
              "      <td>Round</td>\n",
              "      <td>E</td>\n",
              "      <td>VVS2</td>\n",
              "      <td>0.09</td>\n",
              "      <td>Excellent</td>\n",
              "      <td>IGI</td>\n",
              "      <td>Very Good</td>\n",
              "      <td>Very Good</td>\n",
              "      <td>unknown</td>\n",
              "      <td>62.0</td>\n",
              "      <td>59.0</td>\n",
              "      <td>2.86</td>\n",
              "      <td>2.88</td>\n",
              "      <td>1.78</td>\n",
              "      <td>M</td>\n",
              "      <td>STK</td>\n",
              "      <td>200</td>\n",
              "    </tr>\n",
              "    <tr>\n",
              "      <th>4</th>\n",
              "      <td>4</td>\n",
              "      <td>Round</td>\n",
              "      <td>E</td>\n",
              "      <td>VVS2</td>\n",
              "      <td>0.09</td>\n",
              "      <td>Very Good</td>\n",
              "      <td>IGI</td>\n",
              "      <td>Very Good</td>\n",
              "      <td>Excellent</td>\n",
              "      <td>unknown</td>\n",
              "      <td>64.9</td>\n",
              "      <td>58.5</td>\n",
              "      <td>2.79</td>\n",
              "      <td>2.83</td>\n",
              "      <td>1.82</td>\n",
              "      <td>STK</td>\n",
              "      <td>STK</td>\n",
              "      <td>200</td>\n",
              "    </tr>\n",
              "    <tr>\n",
              "      <th>...</th>\n",
              "      <td>...</td>\n",
              "      <td>...</td>\n",
              "      <td>...</td>\n",
              "      <td>...</td>\n",
              "      <td>...</td>\n",
              "      <td>...</td>\n",
              "      <td>...</td>\n",
              "      <td>...</td>\n",
              "      <td>...</td>\n",
              "      <td>...</td>\n",
              "      <td>...</td>\n",
              "      <td>...</td>\n",
              "      <td>...</td>\n",
              "      <td>...</td>\n",
              "      <td>...</td>\n",
              "      <td>...</td>\n",
              "      <td>...</td>\n",
              "      <td>...</td>\n",
              "    </tr>\n",
              "    <tr>\n",
              "      <th>219698</th>\n",
              "      <td>219699</td>\n",
              "      <td>Round</td>\n",
              "      <td>E</td>\n",
              "      <td>VS1</td>\n",
              "      <td>10.65</td>\n",
              "      <td>Excellent</td>\n",
              "      <td>GIA</td>\n",
              "      <td>Excellent</td>\n",
              "      <td>Excellent</td>\n",
              "      <td>unknown</td>\n",
              "      <td>61.3</td>\n",
              "      <td>58.0</td>\n",
              "      <td>14.06</td>\n",
              "      <td>14.18</td>\n",
              "      <td>8.66</td>\n",
              "      <td>M</td>\n",
              "      <td>STK</td>\n",
              "      <td>1210692</td>\n",
              "    </tr>\n",
              "    <tr>\n",
              "      <th>219699</th>\n",
              "      <td>219700</td>\n",
              "      <td>Radiant</td>\n",
              "      <td>unknown</td>\n",
              "      <td>VS2</td>\n",
              "      <td>5.17</td>\n",
              "      <td>unknown</td>\n",
              "      <td>GIA</td>\n",
              "      <td>Very Good</td>\n",
              "      <td>Very Good</td>\n",
              "      <td>unknown</td>\n",
              "      <td>64.8</td>\n",
              "      <td>65.0</td>\n",
              "      <td>11.55</td>\n",
              "      <td>8.81</td>\n",
              "      <td>5.71</td>\n",
              "      <td>TK</td>\n",
              "      <td>XTK</td>\n",
              "      <td>1292500</td>\n",
              "    </tr>\n",
              "    <tr>\n",
              "      <th>219700</th>\n",
              "      <td>219701</td>\n",
              "      <td>Round</td>\n",
              "      <td>E</td>\n",
              "      <td>VS1</td>\n",
              "      <td>18.07</td>\n",
              "      <td>Excellent</td>\n",
              "      <td>GIA</td>\n",
              "      <td>Excellent</td>\n",
              "      <td>Excellent</td>\n",
              "      <td>unknown</td>\n",
              "      <td>60.2</td>\n",
              "      <td>59.0</td>\n",
              "      <td>17.06</td>\n",
              "      <td>17.10</td>\n",
              "      <td>10.20</td>\n",
              "      <td>TN</td>\n",
              "      <td>M</td>\n",
              "      <td>1315496</td>\n",
              "    </tr>\n",
              "    <tr>\n",
              "      <th>219701</th>\n",
              "      <td>219702</td>\n",
              "      <td>Princess</td>\n",
              "      <td>unknown</td>\n",
              "      <td>SI2</td>\n",
              "      <td>0.90</td>\n",
              "      <td>unknown</td>\n",
              "      <td>GIA</td>\n",
              "      <td>Good</td>\n",
              "      <td>Good</td>\n",
              "      <td>unknown</td>\n",
              "      <td>70.8</td>\n",
              "      <td>72.0</td>\n",
              "      <td>5.22</td>\n",
              "      <td>4.90</td>\n",
              "      <td>3.47</td>\n",
              "      <td>XTN</td>\n",
              "      <td>VTK</td>\n",
              "      <td>1350000</td>\n",
              "    </tr>\n",
              "    <tr>\n",
              "      <th>219702</th>\n",
              "      <td>219703</td>\n",
              "      <td>Pear</td>\n",
              "      <td>unknown</td>\n",
              "      <td>VVS2</td>\n",
              "      <td>10.03</td>\n",
              "      <td>unknown</td>\n",
              "      <td>GIA</td>\n",
              "      <td>Very Good</td>\n",
              "      <td>Excellent</td>\n",
              "      <td>unknown</td>\n",
              "      <td>66.7</td>\n",
              "      <td>65.0</td>\n",
              "      <td>15.61</td>\n",
              "      <td>11.09</td>\n",
              "      <td>7.39</td>\n",
              "      <td>unknown</td>\n",
              "      <td>unknown</td>\n",
              "      <td>1449881</td>\n",
              "    </tr>\n",
              "  </tbody>\n",
              "</table>\n",
              "<p>219703 rows × 18 columns</p>\n",
              "</div>\n",
              "      <button class=\"colab-df-convert\" onclick=\"convertToInteractive('df-9d728f63-91a3-4d15-bf44-04d99a325c16')\"\n",
              "              title=\"Convert this dataframe to an interactive table.\"\n",
              "              style=\"display:none;\">\n",
              "        \n",
              "  <svg xmlns=\"http://www.w3.org/2000/svg\" height=\"24px\"viewBox=\"0 0 24 24\"\n",
              "       width=\"24px\">\n",
              "    <path d=\"M0 0h24v24H0V0z\" fill=\"none\"/>\n",
              "    <path d=\"M18.56 5.44l.94 2.06.94-2.06 2.06-.94-2.06-.94-.94-2.06-.94 2.06-2.06.94zm-11 1L8.5 8.5l.94-2.06 2.06-.94-2.06-.94L8.5 2.5l-.94 2.06-2.06.94zm10 10l.94 2.06.94-2.06 2.06-.94-2.06-.94-.94-2.06-.94 2.06-2.06.94z\"/><path d=\"M17.41 7.96l-1.37-1.37c-.4-.4-.92-.59-1.43-.59-.52 0-1.04.2-1.43.59L10.3 9.45l-7.72 7.72c-.78.78-.78 2.05 0 2.83L4 21.41c.39.39.9.59 1.41.59.51 0 1.02-.2 1.41-.59l7.78-7.78 2.81-2.81c.8-.78.8-2.07 0-2.86zM5.41 20L4 18.59l7.72-7.72 1.47 1.35L5.41 20z\"/>\n",
              "  </svg>\n",
              "      </button>\n",
              "      \n",
              "  <style>\n",
              "    .colab-df-container {\n",
              "      display:flex;\n",
              "      flex-wrap:wrap;\n",
              "      gap: 12px;\n",
              "    }\n",
              "\n",
              "    .colab-df-convert {\n",
              "      background-color: #E8F0FE;\n",
              "      border: none;\n",
              "      border-radius: 50%;\n",
              "      cursor: pointer;\n",
              "      display: none;\n",
              "      fill: #1967D2;\n",
              "      height: 32px;\n",
              "      padding: 0 0 0 0;\n",
              "      width: 32px;\n",
              "    }\n",
              "\n",
              "    .colab-df-convert:hover {\n",
              "      background-color: #E2EBFA;\n",
              "      box-shadow: 0px 1px 2px rgba(60, 64, 67, 0.3), 0px 1px 3px 1px rgba(60, 64, 67, 0.15);\n",
              "      fill: #174EA6;\n",
              "    }\n",
              "\n",
              "    [theme=dark] .colab-df-convert {\n",
              "      background-color: #3B4455;\n",
              "      fill: #D2E3FC;\n",
              "    }\n",
              "\n",
              "    [theme=dark] .colab-df-convert:hover {\n",
              "      background-color: #434B5C;\n",
              "      box-shadow: 0px 1px 3px 1px rgba(0, 0, 0, 0.15);\n",
              "      filter: drop-shadow(0px 1px 2px rgba(0, 0, 0, 0.3));\n",
              "      fill: #FFFFFF;\n",
              "    }\n",
              "  </style>\n",
              "\n",
              "      <script>\n",
              "        const buttonEl =\n",
              "          document.querySelector('#df-9d728f63-91a3-4d15-bf44-04d99a325c16 button.colab-df-convert');\n",
              "        buttonEl.style.display =\n",
              "          google.colab.kernel.accessAllowed ? 'block' : 'none';\n",
              "\n",
              "        async function convertToInteractive(key) {\n",
              "          const element = document.querySelector('#df-9d728f63-91a3-4d15-bf44-04d99a325c16');\n",
              "          const dataTable =\n",
              "            await google.colab.kernel.invokeFunction('convertToInteractive',\n",
              "                                                     [key], {});\n",
              "          if (!dataTable) return;\n",
              "\n",
              "          const docLinkHtml = 'Like what you see? Visit the ' +\n",
              "            '<a target=\"_blank\" href=https://colab.research.google.com/notebooks/data_table.ipynb>data table notebook</a>'\n",
              "            + ' to learn more about interactive tables.';\n",
              "          element.innerHTML = '';\n",
              "          dataTable['output_type'] = 'display_data';\n",
              "          await google.colab.output.renderOutput(dataTable, element);\n",
              "          const docLink = document.createElement('div');\n",
              "          docLink.innerHTML = docLinkHtml;\n",
              "          element.appendChild(docLink);\n",
              "        }\n",
              "      </script>\n",
              "    </div>\n",
              "  </div>\n",
              "  "
            ]
          },
          "metadata": {},
          "execution_count": 7
        }
      ]
    },
    {
      "cell_type": "markdown",
      "source": [
        "(1 балл) Посчитайте сколько бы стоил (в тысячах долларов) сейф, в котором хранились бы все бриллианты из датасета:"
      ],
      "metadata": {
        "id": "7_qYv5Xm-UCz"
      }
    },
    {
      "cell_type": "code",
      "source": [
        "total_price = 0\n",
        "for item in diamonds['total_sales_price']:\n",
        "  if item != 'unknown' and item != None:\n",
        "    total_price += item\n",
        "print(str(total_price//1000)+\" тыс. долларов\")"
      ],
      "metadata": {
        "id": "g2wVyz5U-cx7",
        "colab": {
          "base_uri": "https://localhost:8080/"
        },
        "outputId": "70234c53-66d2-4b9a-b83c-ae5eed70b759"
      },
      "execution_count": null,
      "outputs": [
        {
          "output_type": "stream",
          "name": "stdout",
          "text": [
            "1517721 тыс. долларов\n"
          ]
        }
      ]
    },
    {
      "cell_type": "markdown",
      "source": [
        "Немного необоснованных манипуляций."
      ],
      "metadata": {
        "id": "GVwspHrUkRFv"
      }
    },
    {
      "cell_type": "markdown",
      "source": [
        "(1 балл) Выберите из датасета строки с четными индексами и выведете значения (не меняя нумерацию индексов):"
      ],
      "metadata": {
        "id": "0j5Yr0mFxxfu"
      }
    },
    {
      "cell_type": "code",
      "source": [
        "diamonds.loc[::2]"
      ],
      "metadata": {
        "id": "dW2GOROfx6yd",
        "colab": {
          "base_uri": "https://localhost:8080/",
          "height": 609
        },
        "outputId": "dc5deb8b-f073-4cdc-84a2-a6e4e9ca69cf"
      },
      "execution_count": null,
      "outputs": [
        {
          "output_type": "execute_result",
          "data": {
            "text/plain": [
              "        Unnamed: 0    cut    color clarity  carat_weight cut_quality  lab  \\\n",
              "0                0  Round        E    VVS2          0.09   Excellent  IGI   \n",
              "2                2  Round        E    VVS2          0.09   Excellent  IGI   \n",
              "4                4  Round        E    VVS2          0.09   Very Good  IGI   \n",
              "6                6  Round        E    VVS2          0.09   Very Good  IGI   \n",
              "8                8  Round        E    VVS2          0.09   Very Good  IGI   \n",
              "...            ...    ...      ...     ...           ...         ...  ...   \n",
              "219694      219695  Round        D      IF         12.52   Excellent  HRD   \n",
              "219696      219697   Oval        H     VS2         18.88     unknown  GIA   \n",
              "219698      219699  Round        E     VS1         10.65   Excellent  GIA   \n",
              "219700      219701  Round        E     VS1         18.07   Excellent  GIA   \n",
              "219702      219703   Pear  unknown    VVS2         10.03     unknown  GIA   \n",
              "\n",
              "         symmetry     polish eye_clean  depth_percent  table_percent  \\\n",
              "0       Very Good  Very Good   unknown           62.7           59.0   \n",
              "2       Very Good  Very Good   unknown           61.1           59.0   \n",
              "4       Very Good  Excellent   unknown           64.9           58.5   \n",
              "6       Very Good  Very Good   unknown           64.0           57.0   \n",
              "8       Very Good  Very Good   unknown           63.5           59.5   \n",
              "...           ...        ...       ...            ...            ...   \n",
              "219694  Excellent  Excellent   unknown           62.1           58.0   \n",
              "219696  Excellent  Excellent   unknown           57.1           55.0   \n",
              "219698  Excellent  Excellent   unknown           61.3           58.0   \n",
              "219700  Excellent  Excellent   unknown           60.2           59.0   \n",
              "219702  Very Good  Excellent   unknown           66.7           65.0   \n",
              "\n",
              "        meas_length  meas_width  meas_depth girdle_min girdle_max  \\\n",
              "0              2.85        2.87        1.79          M          M   \n",
              "2              2.88        2.90        1.77         TN          M   \n",
              "4              2.79        2.83        1.82        STK        STK   \n",
              "6              2.85        2.88        1.84        STK        STK   \n",
              "8              2.89        2.92        1.85        STK         TK   \n",
              "...             ...         ...         ...        ...        ...   \n",
              "219694        14.84       14.91        9.24    unknown    unknown   \n",
              "219696        21.34       15.23        8.69         TN        STK   \n",
              "219698        14.06       14.18        8.66          M        STK   \n",
              "219700        17.06       17.10       10.20         TN          M   \n",
              "219702        15.61       11.09        7.39    unknown    unknown   \n",
              "\n",
              "        total_sales_price  \n",
              "0                     200  \n",
              "2                     200  \n",
              "4                     200  \n",
              "6                     200  \n",
              "8                     200  \n",
              "...                   ...  \n",
              "219694            1121792  \n",
              "219696            1132347  \n",
              "219698            1210692  \n",
              "219700            1315496  \n",
              "219702            1449881  \n",
              "\n",
              "[109852 rows x 18 columns]"
            ],
            "text/html": [
              "\n",
              "  <div id=\"df-d83b9079-0f0f-4142-a711-77c9dbf74847\">\n",
              "    <div class=\"colab-df-container\">\n",
              "      <div>\n",
              "<style scoped>\n",
              "    .dataframe tbody tr th:only-of-type {\n",
              "        vertical-align: middle;\n",
              "    }\n",
              "\n",
              "    .dataframe tbody tr th {\n",
              "        vertical-align: top;\n",
              "    }\n",
              "\n",
              "    .dataframe thead th {\n",
              "        text-align: right;\n",
              "    }\n",
              "</style>\n",
              "<table border=\"1\" class=\"dataframe\">\n",
              "  <thead>\n",
              "    <tr style=\"text-align: right;\">\n",
              "      <th></th>\n",
              "      <th>Unnamed: 0</th>\n",
              "      <th>cut</th>\n",
              "      <th>color</th>\n",
              "      <th>clarity</th>\n",
              "      <th>carat_weight</th>\n",
              "      <th>cut_quality</th>\n",
              "      <th>lab</th>\n",
              "      <th>symmetry</th>\n",
              "      <th>polish</th>\n",
              "      <th>eye_clean</th>\n",
              "      <th>depth_percent</th>\n",
              "      <th>table_percent</th>\n",
              "      <th>meas_length</th>\n",
              "      <th>meas_width</th>\n",
              "      <th>meas_depth</th>\n",
              "      <th>girdle_min</th>\n",
              "      <th>girdle_max</th>\n",
              "      <th>total_sales_price</th>\n",
              "    </tr>\n",
              "  </thead>\n",
              "  <tbody>\n",
              "    <tr>\n",
              "      <th>0</th>\n",
              "      <td>0</td>\n",
              "      <td>Round</td>\n",
              "      <td>E</td>\n",
              "      <td>VVS2</td>\n",
              "      <td>0.09</td>\n",
              "      <td>Excellent</td>\n",
              "      <td>IGI</td>\n",
              "      <td>Very Good</td>\n",
              "      <td>Very Good</td>\n",
              "      <td>unknown</td>\n",
              "      <td>62.7</td>\n",
              "      <td>59.0</td>\n",
              "      <td>2.85</td>\n",
              "      <td>2.87</td>\n",
              "      <td>1.79</td>\n",
              "      <td>M</td>\n",
              "      <td>M</td>\n",
              "      <td>200</td>\n",
              "    </tr>\n",
              "    <tr>\n",
              "      <th>2</th>\n",
              "      <td>2</td>\n",
              "      <td>Round</td>\n",
              "      <td>E</td>\n",
              "      <td>VVS2</td>\n",
              "      <td>0.09</td>\n",
              "      <td>Excellent</td>\n",
              "      <td>IGI</td>\n",
              "      <td>Very Good</td>\n",
              "      <td>Very Good</td>\n",
              "      <td>unknown</td>\n",
              "      <td>61.1</td>\n",
              "      <td>59.0</td>\n",
              "      <td>2.88</td>\n",
              "      <td>2.90</td>\n",
              "      <td>1.77</td>\n",
              "      <td>TN</td>\n",
              "      <td>M</td>\n",
              "      <td>200</td>\n",
              "    </tr>\n",
              "    <tr>\n",
              "      <th>4</th>\n",
              "      <td>4</td>\n",
              "      <td>Round</td>\n",
              "      <td>E</td>\n",
              "      <td>VVS2</td>\n",
              "      <td>0.09</td>\n",
              "      <td>Very Good</td>\n",
              "      <td>IGI</td>\n",
              "      <td>Very Good</td>\n",
              "      <td>Excellent</td>\n",
              "      <td>unknown</td>\n",
              "      <td>64.9</td>\n",
              "      <td>58.5</td>\n",
              "      <td>2.79</td>\n",
              "      <td>2.83</td>\n",
              "      <td>1.82</td>\n",
              "      <td>STK</td>\n",
              "      <td>STK</td>\n",
              "      <td>200</td>\n",
              "    </tr>\n",
              "    <tr>\n",
              "      <th>6</th>\n",
              "      <td>6</td>\n",
              "      <td>Round</td>\n",
              "      <td>E</td>\n",
              "      <td>VVS2</td>\n",
              "      <td>0.09</td>\n",
              "      <td>Very Good</td>\n",
              "      <td>IGI</td>\n",
              "      <td>Very Good</td>\n",
              "      <td>Very Good</td>\n",
              "      <td>unknown</td>\n",
              "      <td>64.0</td>\n",
              "      <td>57.0</td>\n",
              "      <td>2.85</td>\n",
              "      <td>2.88</td>\n",
              "      <td>1.84</td>\n",
              "      <td>STK</td>\n",
              "      <td>STK</td>\n",
              "      <td>200</td>\n",
              "    </tr>\n",
              "    <tr>\n",
              "      <th>8</th>\n",
              "      <td>8</td>\n",
              "      <td>Round</td>\n",
              "      <td>E</td>\n",
              "      <td>VVS2</td>\n",
              "      <td>0.09</td>\n",
              "      <td>Very Good</td>\n",
              "      <td>IGI</td>\n",
              "      <td>Very Good</td>\n",
              "      <td>Very Good</td>\n",
              "      <td>unknown</td>\n",
              "      <td>63.5</td>\n",
              "      <td>59.5</td>\n",
              "      <td>2.89</td>\n",
              "      <td>2.92</td>\n",
              "      <td>1.85</td>\n",
              "      <td>STK</td>\n",
              "      <td>TK</td>\n",
              "      <td>200</td>\n",
              "    </tr>\n",
              "    <tr>\n",
              "      <th>...</th>\n",
              "      <td>...</td>\n",
              "      <td>...</td>\n",
              "      <td>...</td>\n",
              "      <td>...</td>\n",
              "      <td>...</td>\n",
              "      <td>...</td>\n",
              "      <td>...</td>\n",
              "      <td>...</td>\n",
              "      <td>...</td>\n",
              "      <td>...</td>\n",
              "      <td>...</td>\n",
              "      <td>...</td>\n",
              "      <td>...</td>\n",
              "      <td>...</td>\n",
              "      <td>...</td>\n",
              "      <td>...</td>\n",
              "      <td>...</td>\n",
              "      <td>...</td>\n",
              "    </tr>\n",
              "    <tr>\n",
              "      <th>219694</th>\n",
              "      <td>219695</td>\n",
              "      <td>Round</td>\n",
              "      <td>D</td>\n",
              "      <td>IF</td>\n",
              "      <td>12.52</td>\n",
              "      <td>Excellent</td>\n",
              "      <td>HRD</td>\n",
              "      <td>Excellent</td>\n",
              "      <td>Excellent</td>\n",
              "      <td>unknown</td>\n",
              "      <td>62.1</td>\n",
              "      <td>58.0</td>\n",
              "      <td>14.84</td>\n",
              "      <td>14.91</td>\n",
              "      <td>9.24</td>\n",
              "      <td>unknown</td>\n",
              "      <td>unknown</td>\n",
              "      <td>1121792</td>\n",
              "    </tr>\n",
              "    <tr>\n",
              "      <th>219696</th>\n",
              "      <td>219697</td>\n",
              "      <td>Oval</td>\n",
              "      <td>H</td>\n",
              "      <td>VS2</td>\n",
              "      <td>18.88</td>\n",
              "      <td>unknown</td>\n",
              "      <td>GIA</td>\n",
              "      <td>Excellent</td>\n",
              "      <td>Excellent</td>\n",
              "      <td>unknown</td>\n",
              "      <td>57.1</td>\n",
              "      <td>55.0</td>\n",
              "      <td>21.34</td>\n",
              "      <td>15.23</td>\n",
              "      <td>8.69</td>\n",
              "      <td>TN</td>\n",
              "      <td>STK</td>\n",
              "      <td>1132347</td>\n",
              "    </tr>\n",
              "    <tr>\n",
              "      <th>219698</th>\n",
              "      <td>219699</td>\n",
              "      <td>Round</td>\n",
              "      <td>E</td>\n",
              "      <td>VS1</td>\n",
              "      <td>10.65</td>\n",
              "      <td>Excellent</td>\n",
              "      <td>GIA</td>\n",
              "      <td>Excellent</td>\n",
              "      <td>Excellent</td>\n",
              "      <td>unknown</td>\n",
              "      <td>61.3</td>\n",
              "      <td>58.0</td>\n",
              "      <td>14.06</td>\n",
              "      <td>14.18</td>\n",
              "      <td>8.66</td>\n",
              "      <td>M</td>\n",
              "      <td>STK</td>\n",
              "      <td>1210692</td>\n",
              "    </tr>\n",
              "    <tr>\n",
              "      <th>219700</th>\n",
              "      <td>219701</td>\n",
              "      <td>Round</td>\n",
              "      <td>E</td>\n",
              "      <td>VS1</td>\n",
              "      <td>18.07</td>\n",
              "      <td>Excellent</td>\n",
              "      <td>GIA</td>\n",
              "      <td>Excellent</td>\n",
              "      <td>Excellent</td>\n",
              "      <td>unknown</td>\n",
              "      <td>60.2</td>\n",
              "      <td>59.0</td>\n",
              "      <td>17.06</td>\n",
              "      <td>17.10</td>\n",
              "      <td>10.20</td>\n",
              "      <td>TN</td>\n",
              "      <td>M</td>\n",
              "      <td>1315496</td>\n",
              "    </tr>\n",
              "    <tr>\n",
              "      <th>219702</th>\n",
              "      <td>219703</td>\n",
              "      <td>Pear</td>\n",
              "      <td>unknown</td>\n",
              "      <td>VVS2</td>\n",
              "      <td>10.03</td>\n",
              "      <td>unknown</td>\n",
              "      <td>GIA</td>\n",
              "      <td>Very Good</td>\n",
              "      <td>Excellent</td>\n",
              "      <td>unknown</td>\n",
              "      <td>66.7</td>\n",
              "      <td>65.0</td>\n",
              "      <td>15.61</td>\n",
              "      <td>11.09</td>\n",
              "      <td>7.39</td>\n",
              "      <td>unknown</td>\n",
              "      <td>unknown</td>\n",
              "      <td>1449881</td>\n",
              "    </tr>\n",
              "  </tbody>\n",
              "</table>\n",
              "<p>109852 rows × 18 columns</p>\n",
              "</div>\n",
              "      <button class=\"colab-df-convert\" onclick=\"convertToInteractive('df-d83b9079-0f0f-4142-a711-77c9dbf74847')\"\n",
              "              title=\"Convert this dataframe to an interactive table.\"\n",
              "              style=\"display:none;\">\n",
              "        \n",
              "  <svg xmlns=\"http://www.w3.org/2000/svg\" height=\"24px\"viewBox=\"0 0 24 24\"\n",
              "       width=\"24px\">\n",
              "    <path d=\"M0 0h24v24H0V0z\" fill=\"none\"/>\n",
              "    <path d=\"M18.56 5.44l.94 2.06.94-2.06 2.06-.94-2.06-.94-.94-2.06-.94 2.06-2.06.94zm-11 1L8.5 8.5l.94-2.06 2.06-.94-2.06-.94L8.5 2.5l-.94 2.06-2.06.94zm10 10l.94 2.06.94-2.06 2.06-.94-2.06-.94-.94-2.06-.94 2.06-2.06.94z\"/><path d=\"M17.41 7.96l-1.37-1.37c-.4-.4-.92-.59-1.43-.59-.52 0-1.04.2-1.43.59L10.3 9.45l-7.72 7.72c-.78.78-.78 2.05 0 2.83L4 21.41c.39.39.9.59 1.41.59.51 0 1.02-.2 1.41-.59l7.78-7.78 2.81-2.81c.8-.78.8-2.07 0-2.86zM5.41 20L4 18.59l7.72-7.72 1.47 1.35L5.41 20z\"/>\n",
              "  </svg>\n",
              "      </button>\n",
              "      \n",
              "  <style>\n",
              "    .colab-df-container {\n",
              "      display:flex;\n",
              "      flex-wrap:wrap;\n",
              "      gap: 12px;\n",
              "    }\n",
              "\n",
              "    .colab-df-convert {\n",
              "      background-color: #E8F0FE;\n",
              "      border: none;\n",
              "      border-radius: 50%;\n",
              "      cursor: pointer;\n",
              "      display: none;\n",
              "      fill: #1967D2;\n",
              "      height: 32px;\n",
              "      padding: 0 0 0 0;\n",
              "      width: 32px;\n",
              "    }\n",
              "\n",
              "    .colab-df-convert:hover {\n",
              "      background-color: #E2EBFA;\n",
              "      box-shadow: 0px 1px 2px rgba(60, 64, 67, 0.3), 0px 1px 3px 1px rgba(60, 64, 67, 0.15);\n",
              "      fill: #174EA6;\n",
              "    }\n",
              "\n",
              "    [theme=dark] .colab-df-convert {\n",
              "      background-color: #3B4455;\n",
              "      fill: #D2E3FC;\n",
              "    }\n",
              "\n",
              "    [theme=dark] .colab-df-convert:hover {\n",
              "      background-color: #434B5C;\n",
              "      box-shadow: 0px 1px 3px 1px rgba(0, 0, 0, 0.15);\n",
              "      filter: drop-shadow(0px 1px 2px rgba(0, 0, 0, 0.3));\n",
              "      fill: #FFFFFF;\n",
              "    }\n",
              "  </style>\n",
              "\n",
              "      <script>\n",
              "        const buttonEl =\n",
              "          document.querySelector('#df-d83b9079-0f0f-4142-a711-77c9dbf74847 button.colab-df-convert');\n",
              "        buttonEl.style.display =\n",
              "          google.colab.kernel.accessAllowed ? 'block' : 'none';\n",
              "\n",
              "        async function convertToInteractive(key) {\n",
              "          const element = document.querySelector('#df-d83b9079-0f0f-4142-a711-77c9dbf74847');\n",
              "          const dataTable =\n",
              "            await google.colab.kernel.invokeFunction('convertToInteractive',\n",
              "                                                     [key], {});\n",
              "          if (!dataTable) return;\n",
              "\n",
              "          const docLinkHtml = 'Like what you see? Visit the ' +\n",
              "            '<a target=\"_blank\" href=https://colab.research.google.com/notebooks/data_table.ipynb>data table notebook</a>'\n",
              "            + ' to learn more about interactive tables.';\n",
              "          element.innerHTML = '';\n",
              "          dataTable['output_type'] = 'display_data';\n",
              "          await google.colab.output.renderOutput(dataTable, element);\n",
              "          const docLink = document.createElement('div');\n",
              "          docLink.innerHTML = docLinkHtml;\n",
              "          element.appendChild(docLink);\n",
              "        }\n",
              "      </script>\n",
              "    </div>\n",
              "  </div>\n",
              "  "
            ]
          },
          "metadata": {},
          "execution_count": 15
        }
      ]
    },
    {
      "cell_type": "markdown",
      "source": [
        "(0.5 балла) А теперь с индексами, кратными 6:"
      ],
      "metadata": {
        "id": "mNXqS4oox7TF"
      }
    },
    {
      "cell_type": "code",
      "source": [
        "diamonds.loc[::6]"
      ],
      "metadata": {
        "id": "hy8LyzXix_SB",
        "colab": {
          "base_uri": "https://localhost:8080/",
          "height": 591
        },
        "outputId": "0a7cc61c-ee6d-4edc-f731-b9c54b50a264"
      },
      "execution_count": null,
      "outputs": [
        {
          "output_type": "execute_result",
          "data": {
            "text/plain": [
              "        Unnamed: 0      cut    color clarity  carat_weight cut_quality  lab  \\\n",
              "0                0    Round        E    VVS2          0.09   Excellent  IGI   \n",
              "6                6    Round        E    VVS2          0.09   Very Good  IGI   \n",
              "12              12    Round        E    VVS2          0.09   Very Good  IGI   \n",
              "18              18    Round        E    VVS2          0.09   Excellent  IGI   \n",
              "24              24    Round        L      I1          0.34   Excellent  IGI   \n",
              "...            ...      ...      ...     ...           ...         ...  ...   \n",
              "219678      219679    Round        G     VS1         10.23   Excellent  GIA   \n",
              "219684      219685  Radiant  unknown      I1          0.89     unknown  GIA   \n",
              "219690      219691    Round        D    VVS2         10.10   Excellent  GIA   \n",
              "219696      219697     Oval        H     VS2         18.88     unknown  GIA   \n",
              "219702      219703     Pear  unknown    VVS2         10.03     unknown  GIA   \n",
              "\n",
              "         symmetry     polish eye_clean  depth_percent  table_percent  \\\n",
              "0       Very Good  Very Good   unknown           62.7           59.0   \n",
              "6       Very Good  Very Good   unknown           64.0           57.0   \n",
              "12      Very Good  Very Good   unknown           61.8           58.5   \n",
              "18      Very Good  Very Good   unknown           61.0           60.0   \n",
              "24      Excellent  Excellent   unknown            0.0            0.0   \n",
              "...           ...        ...       ...            ...            ...   \n",
              "219678  Excellent  Excellent   unknown           62.7           55.0   \n",
              "219684       Good       Good   unknown           63.8           57.0   \n",
              "219690  Excellent  Excellent   unknown           59.4           59.0   \n",
              "219696  Excellent  Excellent   unknown           57.1           55.0   \n",
              "219702  Very Good  Excellent   unknown           66.7           65.0   \n",
              "\n",
              "        meas_length  meas_width  meas_depth girdle_min girdle_max  \\\n",
              "0              2.85        2.87        1.79          M          M   \n",
              "6              2.85        2.88        1.84        STK        STK   \n",
              "12             2.85        2.89        1.77        STK         TK   \n",
              "18             2.91        2.92        1.78          M          M   \n",
              "24             0.00        0.00        0.00    unknown    unknown   \n",
              "...             ...         ...         ...        ...        ...   \n",
              "219678        13.82       13.92        8.69         TN          M   \n",
              "219684         6.44        4.96        3.16         TK        VTK   \n",
              "219690        14.07       14.15        8.39          M        STK   \n",
              "219696        21.34       15.23        8.69         TN        STK   \n",
              "219702        15.61       11.09        7.39    unknown    unknown   \n",
              "\n",
              "        total_sales_price  \n",
              "0                     200  \n",
              "6                     200  \n",
              "12                    200  \n",
              "18                    200  \n",
              "24                    204  \n",
              "...                   ...  \n",
              "219678             859320  \n",
              "219684             982560  \n",
              "219690            1040739  \n",
              "219696            1132347  \n",
              "219702            1449881  \n",
              "\n",
              "[36618 rows x 18 columns]"
            ],
            "text/html": [
              "\n",
              "  <div id=\"df-19dc0ac5-ec91-4f2d-a989-d079a68749e0\">\n",
              "    <div class=\"colab-df-container\">\n",
              "      <div>\n",
              "<style scoped>\n",
              "    .dataframe tbody tr th:only-of-type {\n",
              "        vertical-align: middle;\n",
              "    }\n",
              "\n",
              "    .dataframe tbody tr th {\n",
              "        vertical-align: top;\n",
              "    }\n",
              "\n",
              "    .dataframe thead th {\n",
              "        text-align: right;\n",
              "    }\n",
              "</style>\n",
              "<table border=\"1\" class=\"dataframe\">\n",
              "  <thead>\n",
              "    <tr style=\"text-align: right;\">\n",
              "      <th></th>\n",
              "      <th>Unnamed: 0</th>\n",
              "      <th>cut</th>\n",
              "      <th>color</th>\n",
              "      <th>clarity</th>\n",
              "      <th>carat_weight</th>\n",
              "      <th>cut_quality</th>\n",
              "      <th>lab</th>\n",
              "      <th>symmetry</th>\n",
              "      <th>polish</th>\n",
              "      <th>eye_clean</th>\n",
              "      <th>depth_percent</th>\n",
              "      <th>table_percent</th>\n",
              "      <th>meas_length</th>\n",
              "      <th>meas_width</th>\n",
              "      <th>meas_depth</th>\n",
              "      <th>girdle_min</th>\n",
              "      <th>girdle_max</th>\n",
              "      <th>total_sales_price</th>\n",
              "    </tr>\n",
              "  </thead>\n",
              "  <tbody>\n",
              "    <tr>\n",
              "      <th>0</th>\n",
              "      <td>0</td>\n",
              "      <td>Round</td>\n",
              "      <td>E</td>\n",
              "      <td>VVS2</td>\n",
              "      <td>0.09</td>\n",
              "      <td>Excellent</td>\n",
              "      <td>IGI</td>\n",
              "      <td>Very Good</td>\n",
              "      <td>Very Good</td>\n",
              "      <td>unknown</td>\n",
              "      <td>62.7</td>\n",
              "      <td>59.0</td>\n",
              "      <td>2.85</td>\n",
              "      <td>2.87</td>\n",
              "      <td>1.79</td>\n",
              "      <td>M</td>\n",
              "      <td>M</td>\n",
              "      <td>200</td>\n",
              "    </tr>\n",
              "    <tr>\n",
              "      <th>6</th>\n",
              "      <td>6</td>\n",
              "      <td>Round</td>\n",
              "      <td>E</td>\n",
              "      <td>VVS2</td>\n",
              "      <td>0.09</td>\n",
              "      <td>Very Good</td>\n",
              "      <td>IGI</td>\n",
              "      <td>Very Good</td>\n",
              "      <td>Very Good</td>\n",
              "      <td>unknown</td>\n",
              "      <td>64.0</td>\n",
              "      <td>57.0</td>\n",
              "      <td>2.85</td>\n",
              "      <td>2.88</td>\n",
              "      <td>1.84</td>\n",
              "      <td>STK</td>\n",
              "      <td>STK</td>\n",
              "      <td>200</td>\n",
              "    </tr>\n",
              "    <tr>\n",
              "      <th>12</th>\n",
              "      <td>12</td>\n",
              "      <td>Round</td>\n",
              "      <td>E</td>\n",
              "      <td>VVS2</td>\n",
              "      <td>0.09</td>\n",
              "      <td>Very Good</td>\n",
              "      <td>IGI</td>\n",
              "      <td>Very Good</td>\n",
              "      <td>Very Good</td>\n",
              "      <td>unknown</td>\n",
              "      <td>61.8</td>\n",
              "      <td>58.5</td>\n",
              "      <td>2.85</td>\n",
              "      <td>2.89</td>\n",
              "      <td>1.77</td>\n",
              "      <td>STK</td>\n",
              "      <td>TK</td>\n",
              "      <td>200</td>\n",
              "    </tr>\n",
              "    <tr>\n",
              "      <th>18</th>\n",
              "      <td>18</td>\n",
              "      <td>Round</td>\n",
              "      <td>E</td>\n",
              "      <td>VVS2</td>\n",
              "      <td>0.09</td>\n",
              "      <td>Excellent</td>\n",
              "      <td>IGI</td>\n",
              "      <td>Very Good</td>\n",
              "      <td>Very Good</td>\n",
              "      <td>unknown</td>\n",
              "      <td>61.0</td>\n",
              "      <td>60.0</td>\n",
              "      <td>2.91</td>\n",
              "      <td>2.92</td>\n",
              "      <td>1.78</td>\n",
              "      <td>M</td>\n",
              "      <td>M</td>\n",
              "      <td>200</td>\n",
              "    </tr>\n",
              "    <tr>\n",
              "      <th>24</th>\n",
              "      <td>24</td>\n",
              "      <td>Round</td>\n",
              "      <td>L</td>\n",
              "      <td>I1</td>\n",
              "      <td>0.34</td>\n",
              "      <td>Excellent</td>\n",
              "      <td>IGI</td>\n",
              "      <td>Excellent</td>\n",
              "      <td>Excellent</td>\n",
              "      <td>unknown</td>\n",
              "      <td>0.0</td>\n",
              "      <td>0.0</td>\n",
              "      <td>0.00</td>\n",
              "      <td>0.00</td>\n",
              "      <td>0.00</td>\n",
              "      <td>unknown</td>\n",
              "      <td>unknown</td>\n",
              "      <td>204</td>\n",
              "    </tr>\n",
              "    <tr>\n",
              "      <th>...</th>\n",
              "      <td>...</td>\n",
              "      <td>...</td>\n",
              "      <td>...</td>\n",
              "      <td>...</td>\n",
              "      <td>...</td>\n",
              "      <td>...</td>\n",
              "      <td>...</td>\n",
              "      <td>...</td>\n",
              "      <td>...</td>\n",
              "      <td>...</td>\n",
              "      <td>...</td>\n",
              "      <td>...</td>\n",
              "      <td>...</td>\n",
              "      <td>...</td>\n",
              "      <td>...</td>\n",
              "      <td>...</td>\n",
              "      <td>...</td>\n",
              "      <td>...</td>\n",
              "    </tr>\n",
              "    <tr>\n",
              "      <th>219678</th>\n",
              "      <td>219679</td>\n",
              "      <td>Round</td>\n",
              "      <td>G</td>\n",
              "      <td>VS1</td>\n",
              "      <td>10.23</td>\n",
              "      <td>Excellent</td>\n",
              "      <td>GIA</td>\n",
              "      <td>Excellent</td>\n",
              "      <td>Excellent</td>\n",
              "      <td>unknown</td>\n",
              "      <td>62.7</td>\n",
              "      <td>55.0</td>\n",
              "      <td>13.82</td>\n",
              "      <td>13.92</td>\n",
              "      <td>8.69</td>\n",
              "      <td>TN</td>\n",
              "      <td>M</td>\n",
              "      <td>859320</td>\n",
              "    </tr>\n",
              "    <tr>\n",
              "      <th>219684</th>\n",
              "      <td>219685</td>\n",
              "      <td>Radiant</td>\n",
              "      <td>unknown</td>\n",
              "      <td>I1</td>\n",
              "      <td>0.89</td>\n",
              "      <td>unknown</td>\n",
              "      <td>GIA</td>\n",
              "      <td>Good</td>\n",
              "      <td>Good</td>\n",
              "      <td>unknown</td>\n",
              "      <td>63.8</td>\n",
              "      <td>57.0</td>\n",
              "      <td>6.44</td>\n",
              "      <td>4.96</td>\n",
              "      <td>3.16</td>\n",
              "      <td>TK</td>\n",
              "      <td>VTK</td>\n",
              "      <td>982560</td>\n",
              "    </tr>\n",
              "    <tr>\n",
              "      <th>219690</th>\n",
              "      <td>219691</td>\n",
              "      <td>Round</td>\n",
              "      <td>D</td>\n",
              "      <td>VVS2</td>\n",
              "      <td>10.10</td>\n",
              "      <td>Excellent</td>\n",
              "      <td>GIA</td>\n",
              "      <td>Excellent</td>\n",
              "      <td>Excellent</td>\n",
              "      <td>unknown</td>\n",
              "      <td>59.4</td>\n",
              "      <td>59.0</td>\n",
              "      <td>14.07</td>\n",
              "      <td>14.15</td>\n",
              "      <td>8.39</td>\n",
              "      <td>M</td>\n",
              "      <td>STK</td>\n",
              "      <td>1040739</td>\n",
              "    </tr>\n",
              "    <tr>\n",
              "      <th>219696</th>\n",
              "      <td>219697</td>\n",
              "      <td>Oval</td>\n",
              "      <td>H</td>\n",
              "      <td>VS2</td>\n",
              "      <td>18.88</td>\n",
              "      <td>unknown</td>\n",
              "      <td>GIA</td>\n",
              "      <td>Excellent</td>\n",
              "      <td>Excellent</td>\n",
              "      <td>unknown</td>\n",
              "      <td>57.1</td>\n",
              "      <td>55.0</td>\n",
              "      <td>21.34</td>\n",
              "      <td>15.23</td>\n",
              "      <td>8.69</td>\n",
              "      <td>TN</td>\n",
              "      <td>STK</td>\n",
              "      <td>1132347</td>\n",
              "    </tr>\n",
              "    <tr>\n",
              "      <th>219702</th>\n",
              "      <td>219703</td>\n",
              "      <td>Pear</td>\n",
              "      <td>unknown</td>\n",
              "      <td>VVS2</td>\n",
              "      <td>10.03</td>\n",
              "      <td>unknown</td>\n",
              "      <td>GIA</td>\n",
              "      <td>Very Good</td>\n",
              "      <td>Excellent</td>\n",
              "      <td>unknown</td>\n",
              "      <td>66.7</td>\n",
              "      <td>65.0</td>\n",
              "      <td>15.61</td>\n",
              "      <td>11.09</td>\n",
              "      <td>7.39</td>\n",
              "      <td>unknown</td>\n",
              "      <td>unknown</td>\n",
              "      <td>1449881</td>\n",
              "    </tr>\n",
              "  </tbody>\n",
              "</table>\n",
              "<p>36618 rows × 18 columns</p>\n",
              "</div>\n",
              "      <button class=\"colab-df-convert\" onclick=\"convertToInteractive('df-19dc0ac5-ec91-4f2d-a989-d079a68749e0')\"\n",
              "              title=\"Convert this dataframe to an interactive table.\"\n",
              "              style=\"display:none;\">\n",
              "        \n",
              "  <svg xmlns=\"http://www.w3.org/2000/svg\" height=\"24px\"viewBox=\"0 0 24 24\"\n",
              "       width=\"24px\">\n",
              "    <path d=\"M0 0h24v24H0V0z\" fill=\"none\"/>\n",
              "    <path d=\"M18.56 5.44l.94 2.06.94-2.06 2.06-.94-2.06-.94-.94-2.06-.94 2.06-2.06.94zm-11 1L8.5 8.5l.94-2.06 2.06-.94-2.06-.94L8.5 2.5l-.94 2.06-2.06.94zm10 10l.94 2.06.94-2.06 2.06-.94-2.06-.94-.94-2.06-.94 2.06-2.06.94z\"/><path d=\"M17.41 7.96l-1.37-1.37c-.4-.4-.92-.59-1.43-.59-.52 0-1.04.2-1.43.59L10.3 9.45l-7.72 7.72c-.78.78-.78 2.05 0 2.83L4 21.41c.39.39.9.59 1.41.59.51 0 1.02-.2 1.41-.59l7.78-7.78 2.81-2.81c.8-.78.8-2.07 0-2.86zM5.41 20L4 18.59l7.72-7.72 1.47 1.35L5.41 20z\"/>\n",
              "  </svg>\n",
              "      </button>\n",
              "      \n",
              "  <style>\n",
              "    .colab-df-container {\n",
              "      display:flex;\n",
              "      flex-wrap:wrap;\n",
              "      gap: 12px;\n",
              "    }\n",
              "\n",
              "    .colab-df-convert {\n",
              "      background-color: #E8F0FE;\n",
              "      border: none;\n",
              "      border-radius: 50%;\n",
              "      cursor: pointer;\n",
              "      display: none;\n",
              "      fill: #1967D2;\n",
              "      height: 32px;\n",
              "      padding: 0 0 0 0;\n",
              "      width: 32px;\n",
              "    }\n",
              "\n",
              "    .colab-df-convert:hover {\n",
              "      background-color: #E2EBFA;\n",
              "      box-shadow: 0px 1px 2px rgba(60, 64, 67, 0.3), 0px 1px 3px 1px rgba(60, 64, 67, 0.15);\n",
              "      fill: #174EA6;\n",
              "    }\n",
              "\n",
              "    [theme=dark] .colab-df-convert {\n",
              "      background-color: #3B4455;\n",
              "      fill: #D2E3FC;\n",
              "    }\n",
              "\n",
              "    [theme=dark] .colab-df-convert:hover {\n",
              "      background-color: #434B5C;\n",
              "      box-shadow: 0px 1px 3px 1px rgba(0, 0, 0, 0.15);\n",
              "      filter: drop-shadow(0px 1px 2px rgba(0, 0, 0, 0.3));\n",
              "      fill: #FFFFFF;\n",
              "    }\n",
              "  </style>\n",
              "\n",
              "      <script>\n",
              "        const buttonEl =\n",
              "          document.querySelector('#df-19dc0ac5-ec91-4f2d-a989-d079a68749e0 button.colab-df-convert');\n",
              "        buttonEl.style.display =\n",
              "          google.colab.kernel.accessAllowed ? 'block' : 'none';\n",
              "\n",
              "        async function convertToInteractive(key) {\n",
              "          const element = document.querySelector('#df-19dc0ac5-ec91-4f2d-a989-d079a68749e0');\n",
              "          const dataTable =\n",
              "            await google.colab.kernel.invokeFunction('convertToInteractive',\n",
              "                                                     [key], {});\n",
              "          if (!dataTable) return;\n",
              "\n",
              "          const docLinkHtml = 'Like what you see? Visit the ' +\n",
              "            '<a target=\"_blank\" href=https://colab.research.google.com/notebooks/data_table.ipynb>data table notebook</a>'\n",
              "            + ' to learn more about interactive tables.';\n",
              "          element.innerHTML = '';\n",
              "          dataTable['output_type'] = 'display_data';\n",
              "          await google.colab.output.renderOutput(dataTable, element);\n",
              "          const docLink = document.createElement('div');\n",
              "          docLink.innerHTML = docLinkHtml;\n",
              "          element.appendChild(docLink);\n",
              "        }\n",
              "      </script>\n",
              "    </div>\n",
              "  </div>\n",
              "  "
            ]
          },
          "metadata": {},
          "execution_count": 16
        }
      ]
    },
    {
      "cell_type": "markdown",
      "source": [
        "(1 балл) Выберете из датасета только категорильные признаки и выведете датасет:"
      ],
      "metadata": {
        "id": "u94LL979x_bV"
      }
    },
    {
      "cell_type": "code",
      "source": [
        "column_categorial = []\n",
        "for index, column in diamonds.items():\n",
        "  if not isinstance(column[2], np.float64) and not isinstance(column[2], np.int64):\n",
        "    column_categorial += [index]\n",
        "\n",
        "diamonds.loc[:, column_categorial]"
      ],
      "metadata": {
        "id": "2_LBNDWXyOOl",
        "colab": {
          "base_uri": "https://localhost:8080/",
          "height": 423
        },
        "outputId": "32e70aa3-6191-4ede-c06b-dc6a23990c1d"
      },
      "execution_count": null,
      "outputs": [
        {
          "output_type": "execute_result",
          "data": {
            "text/plain": [
              "             cut    color clarity cut_quality  lab   symmetry     polish  \\\n",
              "0          Round        E    VVS2   Excellent  IGI  Very Good  Very Good   \n",
              "1          Round        E    VVS2   Very Good  IGI  Very Good  Very Good   \n",
              "2          Round        E    VVS2   Excellent  IGI  Very Good  Very Good   \n",
              "3          Round        E    VVS2   Excellent  IGI  Very Good  Very Good   \n",
              "4          Round        E    VVS2   Very Good  IGI  Very Good  Excellent   \n",
              "...          ...      ...     ...         ...  ...        ...        ...   \n",
              "219698     Round        E     VS1   Excellent  GIA  Excellent  Excellent   \n",
              "219699   Radiant  unknown     VS2     unknown  GIA  Very Good  Very Good   \n",
              "219700     Round        E     VS1   Excellent  GIA  Excellent  Excellent   \n",
              "219701  Princess  unknown     SI2     unknown  GIA       Good       Good   \n",
              "219702      Pear  unknown    VVS2     unknown  GIA  Very Good  Excellent   \n",
              "\n",
              "       eye_clean girdle_min girdle_max  \n",
              "0        unknown          M          M  \n",
              "1        unknown        STK        STK  \n",
              "2        unknown         TN          M  \n",
              "3        unknown          M        STK  \n",
              "4        unknown        STK        STK  \n",
              "...          ...        ...        ...  \n",
              "219698   unknown          M        STK  \n",
              "219699   unknown         TK        XTK  \n",
              "219700   unknown         TN          M  \n",
              "219701   unknown        XTN        VTK  \n",
              "219702   unknown    unknown    unknown  \n",
              "\n",
              "[219703 rows x 10 columns]"
            ],
            "text/html": [
              "\n",
              "  <div id=\"df-fa136dd7-aa50-4343-879d-4d52b45adf1d\">\n",
              "    <div class=\"colab-df-container\">\n",
              "      <div>\n",
              "<style scoped>\n",
              "    .dataframe tbody tr th:only-of-type {\n",
              "        vertical-align: middle;\n",
              "    }\n",
              "\n",
              "    .dataframe tbody tr th {\n",
              "        vertical-align: top;\n",
              "    }\n",
              "\n",
              "    .dataframe thead th {\n",
              "        text-align: right;\n",
              "    }\n",
              "</style>\n",
              "<table border=\"1\" class=\"dataframe\">\n",
              "  <thead>\n",
              "    <tr style=\"text-align: right;\">\n",
              "      <th></th>\n",
              "      <th>cut</th>\n",
              "      <th>color</th>\n",
              "      <th>clarity</th>\n",
              "      <th>cut_quality</th>\n",
              "      <th>lab</th>\n",
              "      <th>symmetry</th>\n",
              "      <th>polish</th>\n",
              "      <th>eye_clean</th>\n",
              "      <th>girdle_min</th>\n",
              "      <th>girdle_max</th>\n",
              "    </tr>\n",
              "  </thead>\n",
              "  <tbody>\n",
              "    <tr>\n",
              "      <th>0</th>\n",
              "      <td>Round</td>\n",
              "      <td>E</td>\n",
              "      <td>VVS2</td>\n",
              "      <td>Excellent</td>\n",
              "      <td>IGI</td>\n",
              "      <td>Very Good</td>\n",
              "      <td>Very Good</td>\n",
              "      <td>unknown</td>\n",
              "      <td>M</td>\n",
              "      <td>M</td>\n",
              "    </tr>\n",
              "    <tr>\n",
              "      <th>1</th>\n",
              "      <td>Round</td>\n",
              "      <td>E</td>\n",
              "      <td>VVS2</td>\n",
              "      <td>Very Good</td>\n",
              "      <td>IGI</td>\n",
              "      <td>Very Good</td>\n",
              "      <td>Very Good</td>\n",
              "      <td>unknown</td>\n",
              "      <td>STK</td>\n",
              "      <td>STK</td>\n",
              "    </tr>\n",
              "    <tr>\n",
              "      <th>2</th>\n",
              "      <td>Round</td>\n",
              "      <td>E</td>\n",
              "      <td>VVS2</td>\n",
              "      <td>Excellent</td>\n",
              "      <td>IGI</td>\n",
              "      <td>Very Good</td>\n",
              "      <td>Very Good</td>\n",
              "      <td>unknown</td>\n",
              "      <td>TN</td>\n",
              "      <td>M</td>\n",
              "    </tr>\n",
              "    <tr>\n",
              "      <th>3</th>\n",
              "      <td>Round</td>\n",
              "      <td>E</td>\n",
              "      <td>VVS2</td>\n",
              "      <td>Excellent</td>\n",
              "      <td>IGI</td>\n",
              "      <td>Very Good</td>\n",
              "      <td>Very Good</td>\n",
              "      <td>unknown</td>\n",
              "      <td>M</td>\n",
              "      <td>STK</td>\n",
              "    </tr>\n",
              "    <tr>\n",
              "      <th>4</th>\n",
              "      <td>Round</td>\n",
              "      <td>E</td>\n",
              "      <td>VVS2</td>\n",
              "      <td>Very Good</td>\n",
              "      <td>IGI</td>\n",
              "      <td>Very Good</td>\n",
              "      <td>Excellent</td>\n",
              "      <td>unknown</td>\n",
              "      <td>STK</td>\n",
              "      <td>STK</td>\n",
              "    </tr>\n",
              "    <tr>\n",
              "      <th>...</th>\n",
              "      <td>...</td>\n",
              "      <td>...</td>\n",
              "      <td>...</td>\n",
              "      <td>...</td>\n",
              "      <td>...</td>\n",
              "      <td>...</td>\n",
              "      <td>...</td>\n",
              "      <td>...</td>\n",
              "      <td>...</td>\n",
              "      <td>...</td>\n",
              "    </tr>\n",
              "    <tr>\n",
              "      <th>219698</th>\n",
              "      <td>Round</td>\n",
              "      <td>E</td>\n",
              "      <td>VS1</td>\n",
              "      <td>Excellent</td>\n",
              "      <td>GIA</td>\n",
              "      <td>Excellent</td>\n",
              "      <td>Excellent</td>\n",
              "      <td>unknown</td>\n",
              "      <td>M</td>\n",
              "      <td>STK</td>\n",
              "    </tr>\n",
              "    <tr>\n",
              "      <th>219699</th>\n",
              "      <td>Radiant</td>\n",
              "      <td>unknown</td>\n",
              "      <td>VS2</td>\n",
              "      <td>unknown</td>\n",
              "      <td>GIA</td>\n",
              "      <td>Very Good</td>\n",
              "      <td>Very Good</td>\n",
              "      <td>unknown</td>\n",
              "      <td>TK</td>\n",
              "      <td>XTK</td>\n",
              "    </tr>\n",
              "    <tr>\n",
              "      <th>219700</th>\n",
              "      <td>Round</td>\n",
              "      <td>E</td>\n",
              "      <td>VS1</td>\n",
              "      <td>Excellent</td>\n",
              "      <td>GIA</td>\n",
              "      <td>Excellent</td>\n",
              "      <td>Excellent</td>\n",
              "      <td>unknown</td>\n",
              "      <td>TN</td>\n",
              "      <td>M</td>\n",
              "    </tr>\n",
              "    <tr>\n",
              "      <th>219701</th>\n",
              "      <td>Princess</td>\n",
              "      <td>unknown</td>\n",
              "      <td>SI2</td>\n",
              "      <td>unknown</td>\n",
              "      <td>GIA</td>\n",
              "      <td>Good</td>\n",
              "      <td>Good</td>\n",
              "      <td>unknown</td>\n",
              "      <td>XTN</td>\n",
              "      <td>VTK</td>\n",
              "    </tr>\n",
              "    <tr>\n",
              "      <th>219702</th>\n",
              "      <td>Pear</td>\n",
              "      <td>unknown</td>\n",
              "      <td>VVS2</td>\n",
              "      <td>unknown</td>\n",
              "      <td>GIA</td>\n",
              "      <td>Very Good</td>\n",
              "      <td>Excellent</td>\n",
              "      <td>unknown</td>\n",
              "      <td>unknown</td>\n",
              "      <td>unknown</td>\n",
              "    </tr>\n",
              "  </tbody>\n",
              "</table>\n",
              "<p>219703 rows × 10 columns</p>\n",
              "</div>\n",
              "      <button class=\"colab-df-convert\" onclick=\"convertToInteractive('df-fa136dd7-aa50-4343-879d-4d52b45adf1d')\"\n",
              "              title=\"Convert this dataframe to an interactive table.\"\n",
              "              style=\"display:none;\">\n",
              "        \n",
              "  <svg xmlns=\"http://www.w3.org/2000/svg\" height=\"24px\"viewBox=\"0 0 24 24\"\n",
              "       width=\"24px\">\n",
              "    <path d=\"M0 0h24v24H0V0z\" fill=\"none\"/>\n",
              "    <path d=\"M18.56 5.44l.94 2.06.94-2.06 2.06-.94-2.06-.94-.94-2.06-.94 2.06-2.06.94zm-11 1L8.5 8.5l.94-2.06 2.06-.94-2.06-.94L8.5 2.5l-.94 2.06-2.06.94zm10 10l.94 2.06.94-2.06 2.06-.94-2.06-.94-.94-2.06-.94 2.06-2.06.94z\"/><path d=\"M17.41 7.96l-1.37-1.37c-.4-.4-.92-.59-1.43-.59-.52 0-1.04.2-1.43.59L10.3 9.45l-7.72 7.72c-.78.78-.78 2.05 0 2.83L4 21.41c.39.39.9.59 1.41.59.51 0 1.02-.2 1.41-.59l7.78-7.78 2.81-2.81c.8-.78.8-2.07 0-2.86zM5.41 20L4 18.59l7.72-7.72 1.47 1.35L5.41 20z\"/>\n",
              "  </svg>\n",
              "      </button>\n",
              "      \n",
              "  <style>\n",
              "    .colab-df-container {\n",
              "      display:flex;\n",
              "      flex-wrap:wrap;\n",
              "      gap: 12px;\n",
              "    }\n",
              "\n",
              "    .colab-df-convert {\n",
              "      background-color: #E8F0FE;\n",
              "      border: none;\n",
              "      border-radius: 50%;\n",
              "      cursor: pointer;\n",
              "      display: none;\n",
              "      fill: #1967D2;\n",
              "      height: 32px;\n",
              "      padding: 0 0 0 0;\n",
              "      width: 32px;\n",
              "    }\n",
              "\n",
              "    .colab-df-convert:hover {\n",
              "      background-color: #E2EBFA;\n",
              "      box-shadow: 0px 1px 2px rgba(60, 64, 67, 0.3), 0px 1px 3px 1px rgba(60, 64, 67, 0.15);\n",
              "      fill: #174EA6;\n",
              "    }\n",
              "\n",
              "    [theme=dark] .colab-df-convert {\n",
              "      background-color: #3B4455;\n",
              "      fill: #D2E3FC;\n",
              "    }\n",
              "\n",
              "    [theme=dark] .colab-df-convert:hover {\n",
              "      background-color: #434B5C;\n",
              "      box-shadow: 0px 1px 3px 1px rgba(0, 0, 0, 0.15);\n",
              "      filter: drop-shadow(0px 1px 2px rgba(0, 0, 0, 0.3));\n",
              "      fill: #FFFFFF;\n",
              "    }\n",
              "  </style>\n",
              "\n",
              "      <script>\n",
              "        const buttonEl =\n",
              "          document.querySelector('#df-fa136dd7-aa50-4343-879d-4d52b45adf1d button.colab-df-convert');\n",
              "        buttonEl.style.display =\n",
              "          google.colab.kernel.accessAllowed ? 'block' : 'none';\n",
              "\n",
              "        async function convertToInteractive(key) {\n",
              "          const element = document.querySelector('#df-fa136dd7-aa50-4343-879d-4d52b45adf1d');\n",
              "          const dataTable =\n",
              "            await google.colab.kernel.invokeFunction('convertToInteractive',\n",
              "                                                     [key], {});\n",
              "          if (!dataTable) return;\n",
              "\n",
              "          const docLinkHtml = 'Like what you see? Visit the ' +\n",
              "            '<a target=\"_blank\" href=https://colab.research.google.com/notebooks/data_table.ipynb>data table notebook</a>'\n",
              "            + ' to learn more about interactive tables.';\n",
              "          element.innerHTML = '';\n",
              "          dataTable['output_type'] = 'display_data';\n",
              "          await google.colab.output.renderOutput(dataTable, element);\n",
              "          const docLink = document.createElement('div');\n",
              "          docLink.innerHTML = docLinkHtml;\n",
              "          element.appendChild(docLink);\n",
              "        }\n",
              "      </script>\n",
              "    </div>\n",
              "  </div>\n",
              "  "
            ]
          },
          "metadata": {},
          "execution_count": 17
        }
      ]
    },
    {
      "cell_type": "markdown",
      "source": [
        ">**Примечание**\n",
        ">\n",
        ">Данный датасет можно использовать для задания 3 (с использованием `sklearn`)"
      ],
      "metadata": {
        "id": "QANg8ziJkHGM"
      }
    },
    {
      "cell_type": "markdown",
      "source": [
        "(0.5 балла) Выберете столбец с данными о цене бриллиантов и домножите его на тот столбец, только транспонированный, и выведите полученную матрицу:"
      ],
      "metadata": {
        "id": "mV9jLhspyOgz"
      }
    },
    {
      "cell_type": "code",
      "source": [],
      "metadata": {
        "id": "LawjtnoIymFu"
      },
      "execution_count": null,
      "outputs": []
    },
    {
      "cell_type": "markdown",
      "source": [
        "### Построение графиков"
      ],
      "metadata": {
        "id": "Pz02uapbkbGk"
      }
    },
    {
      "cell_type": "markdown",
      "source": [
        "**Требования к графику:**\n",
        "\n",
        "1.   График должен быть подписан\n",
        "2.   Оси должны быть подписаны\n",
        "3.   Должна быть легенда графика\n",
        "4.   График должен быть информативным (желательно без сильных выбросов)\n",
        "\n",
        "**Все надписи на русском языке!**"
      ],
      "metadata": {
        "id": "_zhww-rd-c5c"
      }
    },
    {
      "cell_type": "markdown",
      "source": [
        ">**Примечание**\n",
        ">\n",
        ">График необходимо строить для очищенных данных - в них не должно быть пропусков по осям, по которым строите график. При этом **не перезатирайте** имеющийся датафрейм!"
      ],
      "metadata": {
        "id": "mfebCvk0k2mo"
      }
    },
    {
      "cell_type": "markdown",
      "source": [
        "(2 балла) Постройте график `цвет бриллианта - стоимость`:"
      ],
      "metadata": {
        "id": "4R9Rwxdq-l21"
      }
    },
    {
      "cell_type": "code",
      "source": [
        "x_label = 'Цвет бриллианта'\n",
        "y_label = 'Стоимость'\n",
        "title_ax = 'Зависимость стоимости от цвета'\n",
        "\n",
        "\n",
        "values = {}\n",
        "x_values = []\n",
        "y_values = []\n",
        "colors = ['#E03200','#F76600','#D17C00','#EBA800', '#F5CE00', '#DBD200','#A7F500', '#4BEB15', '#13D133', '#16F78F']\n",
        "for index, row in diamonds.iterrows():\n",
        "  if row['color'] != None and row['color'] != 'unknown':\n",
        "    if values.get(row['color']) == None:\n",
        "      values[row['color']] = {'cnt' : 1, 'price' : row['total_sales_price']}\n",
        "    else:\n",
        "      values[row['color']]['price'] += row['total_sales_price']\n",
        "      values[row['color']]['cnt'] += 1\n",
        "\n",
        "for key in values.keys():\n",
        "  values[key]['price'] /= values[key]['cnt']\n",
        "  x_values += [key]\n",
        "  y_values += [values[key]['price']]\n",
        "\n",
        "fig, ax = plt.subplots()\n",
        "\n",
        "plt.title(title_ax)\n",
        "plt.xlabel(x_label)\n",
        "plt.ylabel(y_label)\n",
        "for i in range(len(x_values)):\n",
        "  ax.scatter(x_values[i], y_values[i], c=colors[i], label=x_values[i])\n",
        "ax.legend()\n",
        "plt.show()\n"
      ],
      "metadata": {
        "id": "Fo6I0j5o-vQh",
        "colab": {
          "base_uri": "https://localhost:8080/",
          "height": 472
        },
        "outputId": "495cfd46-a992-483c-aa85-5d10bdc26a23"
      },
      "execution_count": null,
      "outputs": [
        {
          "output_type": "display_data",
          "data": {
            "text/plain": [
              "<Figure size 640x480 with 1 Axes>"
            ],
            "image/png": "[encoded data removed]"
          },
          "metadata": {}
        }
      ]
    },
    {
      "cell_type": "markdown",
      "source": [
        "(2 балла) Постройте график `лабараторная оценка - кол-во бриллиантов`:"
      ],
      "metadata": {
        "id": "W_UgFji5-vWx"
      }
    },
    {
      "cell_type": "code",
      "source": [
        "x_label = 'Лабораторная оценка'\n",
        "y_label = 'Количество бриллантов'\n",
        "title_ax = 'Зависимость лабораторная оценка от количество бриллантов'\n",
        "\n",
        "\n",
        "values = {}\n",
        "x_values = []\n",
        "y_values = []\n",
        "colors = ['#E03200','#F76600','#D17C00','#EBA800', '#F5CE00', '#DBD200','#A7F500', '#4BEB15', '#13D133', '#16F78F']\n",
        "for index, row in diamonds.iterrows():\n",
        "  if row['lab'] != None and row['lab'] != 'unknown':\n",
        "    if values.get(row['lab']) == None:\n",
        "      values[row['lab']] = {'cnt' : 1, 'price' : row['total_sales_price']}\n",
        "    else:\n",
        "      values[row['lab']]['price'] += row['total_sales_price']\n",
        "      values[row['lab']]['cnt'] += 1\n",
        "\n",
        "for key in values.keys():\n",
        "  x_values += [key]\n",
        "  y_values += [values[key]['cnt']]\n",
        "\n",
        "fig, ax = plt.subplots()\n",
        "\n",
        "plt.title(title_ax)\n",
        "plt.xlabel(x_label)\n",
        "plt.ylabel(y_label)\n",
        "for i in range(len(x_values)):\n",
        "  ax.bar(x_values[i], y_values[i], color=colors[i], label=x_values[i])\n",
        "ax.legend()\n",
        "plt.show()\n"
      ],
      "metadata": {
        "id": "nyT8-TRb_c24",
        "colab": {
          "base_uri": "https://localhost:8080/",
          "height": 472
        },
        "outputId": "12b0bc89-07d8-4181-f854-2f3a75aea3f9"
      },
      "execution_count": null,
      "outputs": [
        {
          "output_type": "display_data",
          "data": {
            "text/plain": [
              "<Figure size 640x480 with 1 Axes>"
            ],
            "image/png": "[encoded data removed]"
          },
          "metadata": {}
        }
      ]
    },
    {
      "cell_type": "markdown",
      "source": [
        "(2 балла) Постройте график `вес бриллианта - стоимость`:"
      ],
      "metadata": {
        "id": "AgsMclnJ_c9H"
      }
    },
    {
      "cell_type": "code",
      "source": [
        "x_label = 'Вес бриллианта'\n",
        "y_label = 'Стоимость'\n",
        "title_ax = 'Зависимость стоимости от веса'\n",
        "\n",
        "\n",
        "values = []\n",
        "x_values = {}\n",
        "y_values = {}\n",
        "colors = ['#E03200','#F76600','#D17C00','#EBA800', '#F5CE00', '#DBD200','#A7F500', '#4BEB15', '#13D133', '#16F78F']\n",
        "for index, row in diamonds.iterrows():\n",
        "  if row['carat_weight'] != None and row['carat_weight'] != 'unknown' and row['color'] != None and row['color']!='unknown':\n",
        "    values += [[row['carat_weight'], row['total_sales_price'], row['color']]]\n",
        "\n",
        "for key in values:\n",
        "  if x_values.get(key[2]) == None:\n",
        "    x_values[key[2]] = [key[0]]\n",
        "    y_values[key[2]] = [key[1]]\n",
        "  else:\n",
        "    x_values[key[2]] += [key[0]]\n",
        "    y_values[key[2]] += [key[1]]\n",
        "\n",
        "fig, ax = plt.subplots()\n",
        "\n",
        "plt.title(title_ax)\n",
        "plt.xlabel(x_label)\n",
        "plt.ylabel(y_label)\n",
        "cnt = 0\n",
        "for key in x_values:\n",
        "  ax.scatter(x_values[key], y_values[key], c=colors[cnt], label=key, alpha=0.5)\n",
        "  cnt+=1\n",
        "  cnt%=10\n",
        "ax.legend()\n",
        "plt.show()"
      ],
      "metadata": {
        "id": "tn-x3pwmANQe",
        "colab": {
          "base_uri": "https://localhost:8080/",
          "height": 472
        },
        "outputId": "1475e441-3092-4cbd-f5c7-bdadb4a06bd0"
      },
      "execution_count": null,
      "outputs": [
        {
          "output_type": "display_data",
          "data": {
            "text/plain": [
              "<Figure size 640x480 with 1 Axes>"
            ],
            "image/png": "[encoded data removed]"
          },
          "metadata": {}
        }
      ]
    },
    {
      "cell_type": "markdown",
      "source": [
        "(2 балла) Постройте график `система оценки GIA Cut - кол-во бриллиантов`:"
      ],
      "metadata": {
        "id": "0LVC1KfEAwuw"
      }
    },
    {
      "cell_type": "code",
      "source": [
        "x_label = 'Лабораторная оценка'\n",
        "y_label = 'Количество бриллантов'\n",
        "title_ax = 'Зависимость количеств бриллантов от лабораторной оценки'\n",
        "\n",
        "\n",
        "values = {}\n",
        "x_values = []\n",
        "y_values = []\n",
        "colors = ['#E03200','#F76600','#D17C00','#EBA800', '#F5CE00', '#DBD200','#A7F500', '#4BEB15', '#13D133', '#16F78F']\n",
        "for index, row in diamonds.iterrows():\n",
        "  if row['cut_quality'] != None and row['cut_quality'] != 'unknown':\n",
        "    if values.get(row['cut_quality']) == None:\n",
        "      values[row['cut_quality']] = {'cnt' : 1, 'price' : row['total_sales_price']}\n",
        "    else:\n",
        "      values[row['cut_quality']]['price'] += row['total_sales_price']\n",
        "      values[row['cut_quality']]['cnt'] += 1\n",
        "\n",
        "for key in values.keys():\n",
        "  x_values += [key]\n",
        "  y_values += [values[key]['cnt']]\n",
        "\n",
        "fig, ax = plt.subplots()\n",
        "\n",
        "plt.title(title_ax)\n",
        "plt.xlabel(x_label)\n",
        "plt.ylabel(y_label)\n",
        "for i in range(len(x_values)):\n",
        "  ax.bar(x_values[i], y_values[i], color=colors[i], label=x_values[i])\n",
        "ax.legend()\n",
        "plt.show()\n"
      ],
      "metadata": {
        "id": "IeuLooSIA232",
        "colab": {
          "base_uri": "https://localhost:8080/",
          "height": 472
        },
        "outputId": "ed272b95-6cf4-445d-9aba-71fe724405f4"
      },
      "execution_count": null,
      "outputs": [
        {
          "output_type": "display_data",
          "data": {
            "text/plain": [
              "<Figure size 640x480 with 1 Axes>"
            ],
            "image/png": "[encoded data removed]"
          },
          "metadata": {}
        }
      ]
    },
    {
      "cell_type": "markdown",
      "source": [
        "(2 балла) **Сделайте выводы по построенным графикам:**"
      ],
      "metadata": {
        "id": "DRaaNLidFDhL"
      }
    },
    {
      "cell_type": "markdown",
      "source": [
        ">*Подсказка для маленьких: Что вы можете сказать о графиках полученных выше для данного датасета?*"
      ],
      "metadata": {
        "id": "GSuWCfdGLtn0"
      }
    },
    {
      "cell_type": "markdown",
      "source": [
        "По данным графикам можно сделать несколько выводов. Во-первых, большая часть датасета содержит бриллианты качества Excellent, на которые в основном дает сертификат лаборатория института GIA. Во-вторых, большой разницы по цене, в зависимости от цвета, нет, но первенство держат бриллианты цвета \"L\". В-третьих, можно увидеть, что почти все бриллианты весят меньше 10 карат, примерно половина - меньше 5 карат, причем зависимость стоимости от веса нелинейна, а более похожа на квадратичную, что объясняет редкость бриллиантов большого веса"
      ],
      "metadata": {
        "id": "iNdjR_X9lSt1"
      }
    },
    {
      "cell_type": "markdown",
      "source": [
        "## Задание 3. Модель - 30 баллов"
      ],
      "metadata": {
        "id": "JKYRkX_rBxxu"
      }
    },
    {
      "cell_type": "markdown",
      "source": [
        "В данном задании вам предстоит построить классифицирующую модель размер алмаза и его стоимости, а затем оценить полученную модель."
      ],
      "metadata": {
        "id": "EJO9SwpII_uJ"
      }
    },
    {
      "cell_type": "markdown",
      "source": [
        ">**Примечание**\n",
        ">\n",
        ">Данная модель не претендует на самый верный индикатор стоимости алмаза, ведь мы не учитываем ничего больше чем стоимость алмаза. Исключительно для образовательных целей :)"
      ],
      "metadata": {
        "id": "_8sA1qlRllrk"
      }
    },
    {
      "cell_type": "markdown",
      "source": [
        "Для построения модели нам понадобится 4 столбца, а именно: \n",
        "- `meas_length`\n",
        "- `meas_width`\n",
        "- `meas_depth`\n",
        "- `total_sales_price`\n",
        "\n",
        "От остальных столбцов можно избавиться."
      ],
      "metadata": {
        "id": "e78rVEGFJrVN"
      }
    },
    {
      "cell_type": "markdown",
      "source": [
        "(1 балл) Создайте новый датасет и выведите его первые 10 строк: "
      ],
      "metadata": {
        "id": "HhpeXcR1l-Ag"
      }
    },
    {
      "cell_type": "code",
      "source": [
        "classified_diamonds = diamonds.loc[:, ['meas_length', 'meas_width', 'meas_depth', 'total_sales_price']]\n",
        "classified_diamonds.loc[:10]"
      ],
      "metadata": {
        "id": "K87VXeCxKFrU",
        "colab": {
          "base_uri": "https://localhost:8080/",
          "height": 394
        },
        "outputId": "1cca5adb-98fc-4598-a0e2-7e90c4beec74"
      },
      "execution_count": null,
      "outputs": [
        {
          "output_type": "execute_result",
          "data": {
            "text/plain": [
              "    meas_length  meas_width  meas_depth  total_sales_price\n",
              "0          2.85        2.87        1.79                200\n",
              "1          2.84        2.89        1.78                200\n",
              "2          2.88        2.90        1.77                200\n",
              "3          2.86        2.88        1.78                200\n",
              "4          2.79        2.83        1.82                200\n",
              "5          2.95        2.99        1.81                200\n",
              "6          2.85        2.88        1.84                200\n",
              "7          2.86        2.89        1.78                200\n",
              "8          2.89        2.92        1.85                200\n",
              "9          2.83        2.87        1.80                200\n",
              "10         2.82        2.85        1.77                200"
            ],
            "text/html": [
              "\n",
              "  <div id=\"df-cbe551be-e744-47ec-b299-1235b6f2ea0f\">\n",
              "    <div class=\"colab-df-container\">\n",
              "      <div>\n",
              "<style scoped>\n",
              "    .dataframe tbody tr th:only-of-type {\n",
              "        vertical-align: middle;\n",
              "    }\n",
              "\n",
              "    .dataframe tbody tr th {\n",
              "        vertical-align: top;\n",
              "    }\n",
              "\n",
              "    .dataframe thead th {\n",
              "        text-align: right;\n",
              "    }\n",
              "</style>\n",
              "<table border=\"1\" class=\"dataframe\">\n",
              "  <thead>\n",
              "    <tr style=\"text-align: right;\">\n",
              "      <th></th>\n",
              "      <th>meas_length</th>\n",
              "      <th>meas_width</th>\n",
              "      <th>meas_depth</th>\n",
              "      <th>total_sales_price</th>\n",
              "    </tr>\n",
              "  </thead>\n",
              "  <tbody>\n",
              "    <tr>\n",
              "      <th>0</th>\n",
              "      <td>2.85</td>\n",
              "      <td>2.87</td>\n",
              "      <td>1.79</td>\n",
              "      <td>200</td>\n",
              "    </tr>\n",
              "    <tr>\n",
              "      <th>1</th>\n",
              "      <td>2.84</td>\n",
              "      <td>2.89</td>\n",
              "      <td>1.78</td>\n",
              "      <td>200</td>\n",
              "    </tr>\n",
              "    <tr>\n",
              "      <th>2</th>\n",
              "      <td>2.88</td>\n",
              "      <td>2.90</td>\n",
              "      <td>1.77</td>\n",
              "      <td>200</td>\n",
              "    </tr>\n",
              "    <tr>\n",
              "      <th>3</th>\n",
              "      <td>2.86</td>\n",
              "      <td>2.88</td>\n",
              "      <td>1.78</td>\n",
              "      <td>200</td>\n",
              "    </tr>\n",
              "    <tr>\n",
              "      <th>4</th>\n",
              "      <td>2.79</td>\n",
              "      <td>2.83</td>\n",
              "      <td>1.82</td>\n",
              "      <td>200</td>\n",
              "    </tr>\n",
              "    <tr>\n",
              "      <th>5</th>\n",
              "      <td>2.95</td>\n",
              "      <td>2.99</td>\n",
              "      <td>1.81</td>\n",
              "      <td>200</td>\n",
              "    </tr>\n",
              "    <tr>\n",
              "      <th>6</th>\n",
              "      <td>2.85</td>\n",
              "      <td>2.88</td>\n",
              "      <td>1.84</td>\n",
              "      <td>200</td>\n",
              "    </tr>\n",
              "    <tr>\n",
              "      <th>7</th>\n",
              "      <td>2.86</td>\n",
              "      <td>2.89</td>\n",
              "      <td>1.78</td>\n",
              "      <td>200</td>\n",
              "    </tr>\n",
              "    <tr>\n",
              "      <th>8</th>\n",
              "      <td>2.89</td>\n",
              "      <td>2.92</td>\n",
              "      <td>1.85</td>\n",
              "      <td>200</td>\n",
              "    </tr>\n",
              "    <tr>\n",
              "      <th>9</th>\n",
              "      <td>2.83</td>\n",
              "      <td>2.87</td>\n",
              "      <td>1.80</td>\n",
              "      <td>200</td>\n",
              "    </tr>\n",
              "    <tr>\n",
              "      <th>10</th>\n",
              "      <td>2.82</td>\n",
              "      <td>2.85</td>\n",
              "      <td>1.77</td>\n",
              "      <td>200</td>\n",
              "    </tr>\n",
              "  </tbody>\n",
              "</table>\n",
              "</div>\n",
              "      <button class=\"colab-df-convert\" onclick=\"convertToInteractive('df-cbe551be-e744-47ec-b299-1235b6f2ea0f')\"\n",
              "              title=\"Convert this dataframe to an interactive table.\"\n",
              "              style=\"display:none;\">\n",
              "        \n",
              "  <svg xmlns=\"http://www.w3.org/2000/svg\" height=\"24px\"viewBox=\"0 0 24 24\"\n",
              "       width=\"24px\">\n",
              "    <path d=\"M0 0h24v24H0V0z\" fill=\"none\"/>\n",
              "    <path d=\"M18.56 5.44l.94 2.06.94-2.06 2.06-.94-2.06-.94-.94-2.06-.94 2.06-2.06.94zm-11 1L8.5 8.5l.94-2.06 2.06-.94-2.06-.94L8.5 2.5l-.94 2.06-2.06.94zm10 10l.94 2.06.94-2.06 2.06-.94-2.06-.94-.94-2.06-.94 2.06-2.06.94z\"/><path d=\"M17.41 7.96l-1.37-1.37c-.4-.4-.92-.59-1.43-.59-.52 0-1.04.2-1.43.59L10.3 9.45l-7.72 7.72c-.78.78-.78 2.05 0 2.83L4 21.41c.39.39.9.59 1.41.59.51 0 1.02-.2 1.41-.59l7.78-7.78 2.81-2.81c.8-.78.8-2.07 0-2.86zM5.41 20L4 18.59l7.72-7.72 1.47 1.35L5.41 20z\"/>\n",
              "  </svg>\n",
              "      </button>\n",
              "      \n",
              "  <style>\n",
              "    .colab-df-container {\n",
              "      display:flex;\n",
              "      flex-wrap:wrap;\n",
              "      gap: 12px;\n",
              "    }\n",
              "\n",
              "    .colab-df-convert {\n",
              "      background-color: #E8F0FE;\n",
              "      border: none;\n",
              "      border-radius: 50%;\n",
              "      cursor: pointer;\n",
              "      display: none;\n",
              "      fill: #1967D2;\n",
              "      height: 32px;\n",
              "      padding: 0 0 0 0;\n",
              "      width: 32px;\n",
              "    }\n",
              "\n",
              "    .colab-df-convert:hover {\n",
              "      background-color: #E2EBFA;\n",
              "      box-shadow: 0px 1px 2px rgba(60, 64, 67, 0.3), 0px 1px 3px 1px rgba(60, 64, 67, 0.15);\n",
              "      fill: #174EA6;\n",
              "    }\n",
              "\n",
              "    [theme=dark] .colab-df-convert {\n",
              "      background-color: #3B4455;\n",
              "      fill: #D2E3FC;\n",
              "    }\n",
              "\n",
              "    [theme=dark] .colab-df-convert:hover {\n",
              "      background-color: #434B5C;\n",
              "      box-shadow: 0px 1px 3px 1px rgba(0, 0, 0, 0.15);\n",
              "      filter: drop-shadow(0px 1px 2px rgba(0, 0, 0, 0.3));\n",
              "      fill: #FFFFFF;\n",
              "    }\n",
              "  </style>\n",
              "\n",
              "      <script>\n",
              "        const buttonEl =\n",
              "          document.querySelector('#df-cbe551be-e744-47ec-b299-1235b6f2ea0f button.colab-df-convert');\n",
              "        buttonEl.style.display =\n",
              "          google.colab.kernel.accessAllowed ? 'block' : 'none';\n",
              "\n",
              "        async function convertToInteractive(key) {\n",
              "          const element = document.querySelector('#df-cbe551be-e744-47ec-b299-1235b6f2ea0f');\n",
              "          const dataTable =\n",
              "            await google.colab.kernel.invokeFunction('convertToInteractive',\n",
              "                                                     [key], {});\n",
              "          if (!dataTable) return;\n",
              "\n",
              "          const docLinkHtml = 'Like what you see? Visit the ' +\n",
              "            '<a target=\"_blank\" href=https://colab.research.google.com/notebooks/data_table.ipynb>data table notebook</a>'\n",
              "            + ' to learn more about interactive tables.';\n",
              "          element.innerHTML = '';\n",
              "          dataTable['output_type'] = 'display_data';\n",
              "          await google.colab.output.renderOutput(dataTable, element);\n",
              "          const docLink = document.createElement('div');\n",
              "          docLink.innerHTML = docLinkHtml;\n",
              "          element.appendChild(docLink);\n",
              "        }\n",
              "      </script>\n",
              "    </div>\n",
              "  </div>\n",
              "  "
            ]
          },
          "metadata": {},
          "execution_count": 21
        }
      ]
    },
    {
      "cell_type": "markdown",
      "source": [
        "(1 балл) Перемешайте строки в датафрейме случайным образом: "
      ],
      "metadata": {
        "id": "Uex8DVspKFxn"
      }
    },
    {
      "cell_type": "code",
      "source": [
        "classified_diamonds = classified_diamonds.sample(frac=1).reset_index(drop=True)\n",
        "classified_diamonds"
      ],
      "metadata": {
        "id": "5lRYIwGOKOnT",
        "colab": {
          "base_uri": "https://localhost:8080/",
          "height": 423
        },
        "outputId": "d1b0ea84-fe1c-45b3-9894-c6fb3cff9acf"
      },
      "execution_count": null,
      "outputs": [
        {
          "output_type": "execute_result",
          "data": {
            "text/plain": [
              "        meas_length  meas_width  meas_depth  total_sales_price\n",
              "0              4.00        4.03        2.46                958\n",
              "1              5.83        5.85        3.49               6410\n",
              "2              8.01        4.76        2.96               3480\n",
              "3              4.30        4.31        2.70                764\n",
              "4              5.56        5.27        3.70               9459\n",
              "...             ...         ...         ...                ...\n",
              "219698         5.67        5.71        3.57               2982\n",
              "219699         4.30        4.33        2.73                834\n",
              "219700         5.63        5.67        3.50               2058\n",
              "219701         0.00        0.00        0.00               1204\n",
              "219702         4.33        4.34        2.70                808\n",
              "\n",
              "[219703 rows x 4 columns]"
            ],
            "text/html": [
              "\n",
              "  <div id=\"df-372d0c96-9b92-4895-a225-c5f110e8c6bd\">\n",
              "    <div class=\"colab-df-container\">\n",
              "      <div>\n",
              "<style scoped>\n",
              "    .dataframe tbody tr th:only-of-type {\n",
              "        vertical-align: middle;\n",
              "    }\n",
              "\n",
              "    .dataframe tbody tr th {\n",
              "        vertical-align: top;\n",
              "    }\n",
              "\n",
              "    .dataframe thead th {\n",
              "        text-align: right;\n",
              "    }\n",
              "</style>\n",
              "<table border=\"1\" class=\"dataframe\">\n",
              "  <thead>\n",
              "    <tr style=\"text-align: right;\">\n",
              "      <th></th>\n",
              "      <th>meas_length</th>\n",
              "      <th>meas_width</th>\n",
              "      <th>meas_depth</th>\n",
              "      <th>total_sales_price</th>\n",
              "    </tr>\n",
              "  </thead>\n",
              "  <tbody>\n",
              "    <tr>\n",
              "      <th>0</th>\n",
              "      <td>4.00</td>\n",
              "      <td>4.03</td>\n",
              "      <td>2.46</td>\n",
              "      <td>958</td>\n",
              "    </tr>\n",
              "    <tr>\n",
              "      <th>1</th>\n",
              "      <td>5.83</td>\n",
              "      <td>5.85</td>\n",
              "      <td>3.49</td>\n",
              "      <td>6410</td>\n",
              "    </tr>\n",
              "    <tr>\n",
              "      <th>2</th>\n",
              "      <td>8.01</td>\n",
              "      <td>4.76</td>\n",
              "      <td>2.96</td>\n",
              "      <td>3480</td>\n",
              "    </tr>\n",
              "    <tr>\n",
              "      <th>3</th>\n",
              "      <td>4.30</td>\n",
              "      <td>4.31</td>\n",
              "      <td>2.70</td>\n",
              "      <td>764</td>\n",
              "    </tr>\n",
              "    <tr>\n",
              "      <th>4</th>\n",
              "      <td>5.56</td>\n",
              "      <td>5.27</td>\n",
              "      <td>3.70</td>\n",
              "      <td>9459</td>\n",
              "    </tr>\n",
              "    <tr>\n",
              "      <th>...</th>\n",
              "      <td>...</td>\n",
              "      <td>...</td>\n",
              "      <td>...</td>\n",
              "      <td>...</td>\n",
              "    </tr>\n",
              "    <tr>\n",
              "      <th>219698</th>\n",
              "      <td>5.67</td>\n",
              "      <td>5.71</td>\n",
              "      <td>3.57</td>\n",
              "      <td>2982</td>\n",
              "    </tr>\n",
              "    <tr>\n",
              "      <th>219699</th>\n",
              "      <td>4.30</td>\n",
              "      <td>4.33</td>\n",
              "      <td>2.73</td>\n",
              "      <td>834</td>\n",
              "    </tr>\n",
              "    <tr>\n",
              "      <th>219700</th>\n",
              "      <td>5.63</td>\n",
              "      <td>5.67</td>\n",
              "      <td>3.50</td>\n",
              "      <td>2058</td>\n",
              "    </tr>\n",
              "    <tr>\n",
              "      <th>219701</th>\n",
              "      <td>0.00</td>\n",
              "      <td>0.00</td>\n",
              "      <td>0.00</td>\n",
              "      <td>1204</td>\n",
              "    </tr>\n",
              "    <tr>\n",
              "      <th>219702</th>\n",
              "      <td>4.33</td>\n",
              "      <td>4.34</td>\n",
              "      <td>2.70</td>\n",
              "      <td>808</td>\n",
              "    </tr>\n",
              "  </tbody>\n",
              "</table>\n",
              "<p>219703 rows × 4 columns</p>\n",
              "</div>\n",
              "      <button class=\"colab-df-convert\" onclick=\"convertToInteractive('df-372d0c96-9b92-4895-a225-c5f110e8c6bd')\"\n",
              "              title=\"Convert this dataframe to an interactive table.\"\n",
              "              style=\"display:none;\">\n",
              "        \n",
              "  <svg xmlns=\"http://www.w3.org/2000/svg\" height=\"24px\"viewBox=\"0 0 24 24\"\n",
              "       width=\"24px\">\n",
              "    <path d=\"M0 0h24v24H0V0z\" fill=\"none\"/>\n",
              "    <path d=\"M18.56 5.44l.94 2.06.94-2.06 2.06-.94-2.06-.94-.94-2.06-.94 2.06-2.06.94zm-11 1L8.5 8.5l.94-2.06 2.06-.94-2.06-.94L8.5 2.5l-.94 2.06-2.06.94zm10 10l.94 2.06.94-2.06 2.06-.94-2.06-.94-.94-2.06-.94 2.06-2.06.94z\"/><path d=\"M17.41 7.96l-1.37-1.37c-.4-.4-.92-.59-1.43-.59-.52 0-1.04.2-1.43.59L10.3 9.45l-7.72 7.72c-.78.78-.78 2.05 0 2.83L4 21.41c.39.39.9.59 1.41.59.51 0 1.02-.2 1.41-.59l7.78-7.78 2.81-2.81c.8-.78.8-2.07 0-2.86zM5.41 20L4 18.59l7.72-7.72 1.47 1.35L5.41 20z\"/>\n",
              "  </svg>\n",
              "      </button>\n",
              "      \n",
              "  <style>\n",
              "    .colab-df-container {\n",
              "      display:flex;\n",
              "      flex-wrap:wrap;\n",
              "      gap: 12px;\n",
              "    }\n",
              "\n",
              "    .colab-df-convert {\n",
              "      background-color: #E8F0FE;\n",
              "      border: none;\n",
              "      border-radius: 50%;\n",
              "      cursor: pointer;\n",
              "      display: none;\n",
              "      fill: #1967D2;\n",
              "      height: 32px;\n",
              "      padding: 0 0 0 0;\n",
              "      width: 32px;\n",
              "    }\n",
              "\n",
              "    .colab-df-convert:hover {\n",
              "      background-color: #E2EBFA;\n",
              "      box-shadow: 0px 1px 2px rgba(60, 64, 67, 0.3), 0px 1px 3px 1px rgba(60, 64, 67, 0.15);\n",
              "      fill: #174EA6;\n",
              "    }\n",
              "\n",
              "    [theme=dark] .colab-df-convert {\n",
              "      background-color: #3B4455;\n",
              "      fill: #D2E3FC;\n",
              "    }\n",
              "\n",
              "    [theme=dark] .colab-df-convert:hover {\n",
              "      background-color: #434B5C;\n",
              "      box-shadow: 0px 1px 3px 1px rgba(0, 0, 0, 0.15);\n",
              "      filter: drop-shadow(0px 1px 2px rgba(0, 0, 0, 0.3));\n",
              "      fill: #FFFFFF;\n",
              "    }\n",
              "  </style>\n",
              "\n",
              "      <script>\n",
              "        const buttonEl =\n",
              "          document.querySelector('#df-372d0c96-9b92-4895-a225-c5f110e8c6bd button.colab-df-convert');\n",
              "        buttonEl.style.display =\n",
              "          google.colab.kernel.accessAllowed ? 'block' : 'none';\n",
              "\n",
              "        async function convertToInteractive(key) {\n",
              "          const element = document.querySelector('#df-372d0c96-9b92-4895-a225-c5f110e8c6bd');\n",
              "          const dataTable =\n",
              "            await google.colab.kernel.invokeFunction('convertToInteractive',\n",
              "                                                     [key], {});\n",
              "          if (!dataTable) return;\n",
              "\n",
              "          const docLinkHtml = 'Like what you see? Visit the ' +\n",
              "            '<a target=\"_blank\" href=https://colab.research.google.com/notebooks/data_table.ipynb>data table notebook</a>'\n",
              "            + ' to learn more about interactive tables.';\n",
              "          element.innerHTML = '';\n",
              "          dataTable['output_type'] = 'display_data';\n",
              "          await google.colab.output.renderOutput(dataTable, element);\n",
              "          const docLink = document.createElement('div');\n",
              "          docLink.innerHTML = docLinkHtml;\n",
              "          element.appendChild(docLink);\n",
              "        }\n",
              "      </script>\n",
              "    </div>\n",
              "  </div>\n",
              "  "
            ]
          },
          "metadata": {},
          "execution_count": 24
        }
      ]
    },
    {
      "cell_type": "markdown",
      "source": [
        "(1 балл) Сформируем новую колонку - для каждого бриллианта найдем сумму Минковского (p=3) по 3 измерениям бриллианта:"
      ],
      "metadata": {
        "id": "iEHBNONDLl64"
      }
    },
    {
      "cell_type": "code",
      "source": [
        "column = []\n",
        "for index, item in classified_diamonds.iterrows():\n",
        "  column += [(abs(item[0]- item[1])**3 + abs(item[1] - item[2]) ** 3 + abs(item[2] - item[0])**3) ** (1/3)]\n",
        "classified_diamonds['size'] = column"
      ],
      "metadata": {
        "id": "V3CTAQbAMQsR"
      },
      "execution_count": null,
      "outputs": []
    },
    {
      "cell_type": "markdown",
      "source": [
        "(1 балл) Сформируем новый датасет из двух колонок - сумма Минковского и `total_sales_price`: "
      ],
      "metadata": {
        "id": "z5s5_yB8n1Hp"
      }
    },
    {
      "cell_type": "code",
      "source": [
        "diamonds_size = classified_diamonds.loc[:, ['size', 'total_sales_price']]\n",
        "diamonds_size"
      ],
      "metadata": {
        "id": "tXxZnWS7n9q0",
        "colab": {
          "base_uri": "https://localhost:8080/",
          "height": 423
        },
        "outputId": "d4527089-235d-4b5e-85e1-d50a7d57e256"
      },
      "execution_count": null,
      "outputs": [
        {
          "output_type": "execute_result",
          "data": {
            "text/plain": [
              "            size  total_sales_price\n",
              "0       1.959362                958\n",
              "1       2.960868               6410\n",
              "2       5.528205               3480\n",
              "3       2.022193                764\n",
              "4       2.177817               9459\n",
              "...          ...                ...\n",
              "219698  2.671273               2982\n",
              "219699  1.997156                834\n",
              "219700  2.709068               2058\n",
              "219701  0.000000               1204\n",
              "219702  2.059990                808\n",
              "\n",
              "[219703 rows x 2 columns]"
            ],
            "text/html": [
              "\n",
              "  <div id=\"df-c6cd136e-0f3a-4618-b6b2-100bbd1c67d4\">\n",
              "    <div class=\"colab-df-container\">\n",
              "      <div>\n",
              "<style scoped>\n",
              "    .dataframe tbody tr th:only-of-type {\n",
              "        vertical-align: middle;\n",
              "    }\n",
              "\n",
              "    .dataframe tbody tr th {\n",
              "        vertical-align: top;\n",
              "    }\n",
              "\n",
              "    .dataframe thead th {\n",
              "        text-align: right;\n",
              "    }\n",
              "</style>\n",
              "<table border=\"1\" class=\"dataframe\">\n",
              "  <thead>\n",
              "    <tr style=\"text-align: right;\">\n",
              "      <th></th>\n",
              "      <th>size</th>\n",
              "      <th>total_sales_price</th>\n",
              "    </tr>\n",
              "  </thead>\n",
              "  <tbody>\n",
              "    <tr>\n",
              "      <th>0</th>\n",
              "      <td>1.959362</td>\n",
              "      <td>958</td>\n",
              "    </tr>\n",
              "    <tr>\n",
              "      <th>1</th>\n",
              "      <td>2.960868</td>\n",
              "      <td>6410</td>\n",
              "    </tr>\n",
              "    <tr>\n",
              "      <th>2</th>\n",
              "      <td>5.528205</td>\n",
              "      <td>3480</td>\n",
              "    </tr>\n",
              "    <tr>\n",
              "      <th>3</th>\n",
              "      <td>2.022193</td>\n",
              "      <td>764</td>\n",
              "    </tr>\n",
              "    <tr>\n",
              "      <th>4</th>\n",
              "      <td>2.177817</td>\n",
              "      <td>9459</td>\n",
              "    </tr>\n",
              "    <tr>\n",
              "      <th>...</th>\n",
              "      <td>...</td>\n",
              "      <td>...</td>\n",
              "    </tr>\n",
              "    <tr>\n",
              "      <th>219698</th>\n",
              "      <td>2.671273</td>\n",
              "      <td>2982</td>\n",
              "    </tr>\n",
              "    <tr>\n",
              "      <th>219699</th>\n",
              "      <td>1.997156</td>\n",
              "      <td>834</td>\n",
              "    </tr>\n",
              "    <tr>\n",
              "      <th>219700</th>\n",
              "      <td>2.709068</td>\n",
              "      <td>2058</td>\n",
              "    </tr>\n",
              "    <tr>\n",
              "      <th>219701</th>\n",
              "      <td>0.000000</td>\n",
              "      <td>1204</td>\n",
              "    </tr>\n",
              "    <tr>\n",
              "      <th>219702</th>\n",
              "      <td>2.059990</td>\n",
              "      <td>808</td>\n",
              "    </tr>\n",
              "  </tbody>\n",
              "</table>\n",
              "<p>219703 rows × 2 columns</p>\n",
              "</div>\n",
              "      <button class=\"colab-df-convert\" onclick=\"convertToInteractive('df-c6cd136e-0f3a-4618-b6b2-100bbd1c67d4')\"\n",
              "              title=\"Convert this dataframe to an interactive table.\"\n",
              "              style=\"display:none;\">\n",
              "        \n",
              "  <svg xmlns=\"http://www.w3.org/2000/svg\" height=\"24px\"viewBox=\"0 0 24 24\"\n",
              "       width=\"24px\">\n",
              "    <path d=\"M0 0h24v24H0V0z\" fill=\"none\"/>\n",
              "    <path d=\"M18.56 5.44l.94 2.06.94-2.06 2.06-.94-2.06-.94-.94-2.06-.94 2.06-2.06.94zm-11 1L8.5 8.5l.94-2.06 2.06-.94-2.06-.94L8.5 2.5l-.94 2.06-2.06.94zm10 10l.94 2.06.94-2.06 2.06-.94-2.06-.94-.94-2.06-.94 2.06-2.06.94z\"/><path d=\"M17.41 7.96l-1.37-1.37c-.4-.4-.92-.59-1.43-.59-.52 0-1.04.2-1.43.59L10.3 9.45l-7.72 7.72c-.78.78-.78 2.05 0 2.83L4 21.41c.39.39.9.59 1.41.59.51 0 1.02-.2 1.41-.59l7.78-7.78 2.81-2.81c.8-.78.8-2.07 0-2.86zM5.41 20L4 18.59l7.72-7.72 1.47 1.35L5.41 20z\"/>\n",
              "  </svg>\n",
              "      </button>\n",
              "      \n",
              "  <style>\n",
              "    .colab-df-container {\n",
              "      display:flex;\n",
              "      flex-wrap:wrap;\n",
              "      gap: 12px;\n",
              "    }\n",
              "\n",
              "    .colab-df-convert {\n",
              "      background-color: #E8F0FE;\n",
              "      border: none;\n",
              "      border-radius: 50%;\n",
              "      cursor: pointer;\n",
              "      display: none;\n",
              "      fill: #1967D2;\n",
              "      height: 32px;\n",
              "      padding: 0 0 0 0;\n",
              "      width: 32px;\n",
              "    }\n",
              "\n",
              "    .colab-df-convert:hover {\n",
              "      background-color: #E2EBFA;\n",
              "      box-shadow: 0px 1px 2px rgba(60, 64, 67, 0.3), 0px 1px 3px 1px rgba(60, 64, 67, 0.15);\n",
              "      fill: #174EA6;\n",
              "    }\n",
              "\n",
              "    [theme=dark] .colab-df-convert {\n",
              "      background-color: #3B4455;\n",
              "      fill: #D2E3FC;\n",
              "    }\n",
              "\n",
              "    [theme=dark] .colab-df-convert:hover {\n",
              "      background-color: #434B5C;\n",
              "      box-shadow: 0px 1px 3px 1px rgba(0, 0, 0, 0.15);\n",
              "      filter: drop-shadow(0px 1px 2px rgba(0, 0, 0, 0.3));\n",
              "      fill: #FFFFFF;\n",
              "    }\n",
              "  </style>\n",
              "\n",
              "      <script>\n",
              "        const buttonEl =\n",
              "          document.querySelector('#df-c6cd136e-0f3a-4618-b6b2-100bbd1c67d4 button.colab-df-convert');\n",
              "        buttonEl.style.display =\n",
              "          google.colab.kernel.accessAllowed ? 'block' : 'none';\n",
              "\n",
              "        async function convertToInteractive(key) {\n",
              "          const element = document.querySelector('#df-c6cd136e-0f3a-4618-b6b2-100bbd1c67d4');\n",
              "          const dataTable =\n",
              "            await google.colab.kernel.invokeFunction('convertToInteractive',\n",
              "                                                     [key], {});\n",
              "          if (!dataTable) return;\n",
              "\n",
              "          const docLinkHtml = 'Like what you see? Visit the ' +\n",
              "            '<a target=\"_blank\" href=https://colab.research.google.com/notebooks/data_table.ipynb>data table notebook</a>'\n",
              "            + ' to learn more about interactive tables.';\n",
              "          element.innerHTML = '';\n",
              "          dataTable['output_type'] = 'display_data';\n",
              "          await google.colab.output.renderOutput(dataTable, element);\n",
              "          const docLink = document.createElement('div');\n",
              "          docLink.innerHTML = docLinkHtml;\n",
              "          element.appendChild(docLink);\n",
              "        }\n",
              "      </script>\n",
              "    </div>\n",
              "  </div>\n",
              "  "
            ]
          },
          "metadata": {},
          "execution_count": 33
        }
      ]
    },
    {
      "cell_type": "markdown",
      "source": [
        "(1 балл) Разделите вашу выборку на две части в соотношении 8:2 - одна выборка будет для тренировка, а другая для тестов вашей модели:"
      ],
      "metadata": {
        "id": "aXCp0GmUKOvM"
      }
    },
    {
      "cell_type": "code",
      "source": [
        "diamonds_shaffled = classified_diamonds.sample(frac=1).reset_index(drop=True)\n",
        "diamonds_train = diamonds_shaffled.loc[:len(diamonds_shaffled)//10*8]\n",
        "diamonds_test = diamonds_shaffled.loc[len(diamonds_shaffled)//10*8:len(diamonds)]"
      ],
      "metadata": {
        "id": "rxwHhdnFK3Lz"
      },
      "execution_count": null,
      "outputs": []
    },
    {
      "cell_type": "markdown",
      "source": [
        "(2 балла) Постройте график зависимости стоимости от вашего нового параметра размера для тренинг-выборки:"
      ],
      "metadata": {
        "id": "lhuRoIMRK3S3"
      }
    },
    {
      "cell_type": "code",
      "source": [
        "x_label = 'Размер'\n",
        "y_label = 'Стоимость'\n",
        "title_ax = 'Зависимость стоимости от размера'\n",
        "\n",
        "\n",
        "values = {}\n",
        "values['train'] = []\n",
        "values['test'] = []\n",
        "x_values = []\n",
        "y_values = []\n",
        "colors = ['#E03200','#F76600','#D17C00','#EBA800', '#F5CE00', '#DBD200','#A7F500', '#4BEB15', '#13D133', '#16F78F']\n",
        "for index, row in diamonds_train.iterrows():\n",
        "  if row['size'] != None and row['size'] != 'unknown' and row['total_sales_price'] != None and row['total_sales_price']!='unknown':\n",
        "    values['train'] += [[row['size'], row['total_sales_price']]]\n",
        "\n",
        "for index, row in diamonds_test.iterrows():\n",
        "  if row['size'] != None and row['size'] != 'unknown' and row['total_sales_price'] != None and row['total_sales_price']!='unknown':\n",
        "    values['test'] += [[row['size'], row['total_sales_price']]]\n",
        "\n",
        "for key in values['train']:\n",
        "    x_values += [key[0]]\n",
        "    y_values += [key[1]]\n",
        "\n",
        "fig, ax = plt.subplots()\n",
        "\n",
        "plt.title(title_ax)\n",
        "plt.xlabel(x_label)\n",
        "plt.ylabel(y_label)\n",
        "ax.scatter(x_values, y_values, c='#E03200', label='train', alpha=0.3)\n",
        "ax.legend()\n",
        "plt.show()"
      ],
      "metadata": {
        "id": "zdXv0wimNNZq",
        "colab": {
          "base_uri": "https://localhost:8080/",
          "height": 472
        },
        "outputId": "95119677-79e3-43e7-ae35-c76058947342"
      },
      "execution_count": null,
      "outputs": [
        {
          "output_type": "display_data",
          "data": {
            "text/plain": [
              "<Figure size 640x480 with 1 Axes>"
            ],
            "image/png": "[encoded data removed]"
          },
          "metadata": {}
        }
      ]
    },
    {
      "cell_type": "markdown",
      "source": [
        "(2 балла) Нанесите на тот же график тестовую выборку, используя другой цвет (не забудьте про параметр прозрачности):"
      ],
      "metadata": {
        "id": "0cUx_FSiNOUx"
      }
    },
    {
      "cell_type": "code",
      "source": [
        "fig, ax = plt.subplots()\n",
        "\n",
        "plt.title(title_ax)\n",
        "plt.xlabel(x_label)\n",
        "plt.ylabel(y_label)\n",
        "ax.scatter(x_values, y_values, c='#E03200', label='train', alpha=0.3)\n",
        "x_values = []\n",
        "y_values = []\n",
        "for key in values['test']:\n",
        "    x_values += [key[0]]\n",
        "    y_values += [key[1]]\n",
        "\n",
        "ax.scatter(x_values, y_values, c='#13D133', label='test', alpha=0.3)\n",
        "ax.legend()\n",
        "plt.show()"
      ],
      "metadata": {
        "id": "R09w4W7VNnM2",
        "colab": {
          "base_uri": "https://localhost:8080/",
          "height": 472
        },
        "outputId": "3d967d99-d25c-47b3-c757-90cb924555e4"
      },
      "execution_count": null,
      "outputs": [
        {
          "output_type": "display_data",
          "data": {
            "text/plain": [
              "<Figure size 640x480 with 1 Axes>"
            ],
            "image/png": "[encoded data removed]"
          },
          "metadata": {}
        }
      ]
    },
    {
      "cell_type": "markdown",
      "source": [
        "(3 балла) Найдите для каждой бриллианта из тестовой выборки его \"ближайшего соседа\" из тренинг-выборки. Для каждого бриллианта из тестовой выборки найдите расстояния до соответствующего ближайшего соседа:"
      ],
      "metadata": {
        "id": "VwIIccnpNnVj"
      }
    },
    {
      "cell_type": "code",
      "source": [
        "closest = []\n",
        "cur_closest = 10000\n",
        "for item in diamonds_test.loc[:,'size']:\n",
        "  closest += [abs(diamonds_train.loc[:, 'size'] - item).argmin()]\n",
        "\n",
        "diamonds_test.loc[:, 'lowest_difference'] = closest\n",
        "diamonds_test\n"
      ],
      "metadata": {
        "id": "t_jpKJ54OBb0",
        "colab": {
          "base_uri": "https://localhost:8080/",
          "height": 527
        },
        "outputId": "06cfda4a-dba8-4477-a981-2f3bad0cc1d0"
      },
      "execution_count": 66,
      "outputs": [
        {
          "output_type": "stream",
          "name": "stderr",
          "text": [
            "<ipython-input-66-217a6ca2c21d>:6: SettingWithCopyWarning: \n",
            "A value is trying to be set on a copy of a slice from a DataFrame.\n",
            "Try using .loc[row_indexer,col_indexer] = value instead\n",
            "\n",
            "See the caveats in the documentation: https://pandas.pydata.org/pandas-docs/stable/user_guide/indexing.html#returning-a-view-versus-a-copy\n",
            "  diamonds_test.loc[:, 'lowest_difference'] = closest\n"
          ]
        },
        {
          "output_type": "execute_result",
          "data": {
            "text/plain": [
              "        meas_length  meas_width  meas_depth  total_sales_price      size  \\\n",
              "175760         6.37        6.42        3.98               6488  3.043040   \n",
              "175761         5.53        5.59        3.56               2386  2.520420   \n",
              "175762         6.83        6.89        4.31              13145  3.213250   \n",
              "175763         4.93        4.98        3.16               3060  2.262005   \n",
              "175764         5.69        5.67        4.07               8500  2.028552   \n",
              "...             ...         ...         ...                ...       ...   \n",
              "219698         6.92        6.96        4.35               9684  3.263392   \n",
              "219699         3.95        3.96        2.47                950  1.871004   \n",
              "219700         6.77        3.73        2.17                580  5.055735   \n",
              "219701         5.21        3.83        2.45                596  2.973120   \n",
              "219702         4.40        5.36        3.33               1958  2.188035   \n",
              "\n",
              "        lowest_difference  percantage  \n",
              "175760              15404  159.340321  \n",
              "175761              14476  114.082146  \n",
              "175762              11884   80.060860  \n",
              "175763               9721   31.895425  \n",
              "175764                 80    6.988235  \n",
              "...                   ...         ...  \n",
              "219698               1833   85.873606  \n",
              "219699                950   84.000000  \n",
              "219700              35800  755.689655  \n",
              "219701              41349  404.697987  \n",
              "219702              85345   40.755873  \n",
              "\n",
              "[43943 rows x 7 columns]"
            ],
            "text/html": [
              "\n",
              "  <div id=\"df-eecc36c3-acef-4cac-bfc7-51af854a30cf\">\n",
              "    <div class=\"colab-df-container\">\n",
              "      <div>\n",
              "<style scoped>\n",
              "    .dataframe tbody tr th:only-of-type {\n",
              "        vertical-align: middle;\n",
              "    }\n",
              "\n",
              "    .dataframe tbody tr th {\n",
              "        vertical-align: top;\n",
              "    }\n",
              "\n",
              "    .dataframe thead th {\n",
              "        text-align: right;\n",
              "    }\n",
              "</style>\n",
              "<table border=\"1\" class=\"dataframe\">\n",
              "  <thead>\n",
              "    <tr style=\"text-align: right;\">\n",
              "      <th></th>\n",
              "      <th>meas_length</th>\n",
              "      <th>meas_width</th>\n",
              "      <th>meas_depth</th>\n",
              "      <th>total_sales_price</th>\n",
              "      <th>size</th>\n",
              "      <th>lowest_difference</th>\n",
              "      <th>percantage</th>\n",
              "    </tr>\n",
              "  </thead>\n",
              "  <tbody>\n",
              "    <tr>\n",
              "      <th>175760</th>\n",
              "      <td>6.37</td>\n",
              "      <td>6.42</td>\n",
              "      <td>3.98</td>\n",
              "      <td>6488</td>\n",
              "      <td>3.043040</td>\n",
              "      <td>15404</td>\n",
              "      <td>159.340321</td>\n",
              "    </tr>\n",
              "    <tr>\n",
              "      <th>175761</th>\n",
              "      <td>5.53</td>\n",
              "      <td>5.59</td>\n",
              "      <td>3.56</td>\n",
              "      <td>2386</td>\n",
              "      <td>2.520420</td>\n",
              "      <td>14476</td>\n",
              "      <td>114.082146</td>\n",
              "    </tr>\n",
              "    <tr>\n",
              "      <th>175762</th>\n",
              "      <td>6.83</td>\n",
              "      <td>6.89</td>\n",
              "      <td>4.31</td>\n",
              "      <td>13145</td>\n",
              "      <td>3.213250</td>\n",
              "      <td>11884</td>\n",
              "      <td>80.060860</td>\n",
              "    </tr>\n",
              "    <tr>\n",
              "      <th>175763</th>\n",
              "      <td>4.93</td>\n",
              "      <td>4.98</td>\n",
              "      <td>3.16</td>\n",
              "      <td>3060</td>\n",
              "      <td>2.262005</td>\n",
              "      <td>9721</td>\n",
              "      <td>31.895425</td>\n",
              "    </tr>\n",
              "    <tr>\n",
              "      <th>175764</th>\n",
              "      <td>5.69</td>\n",
              "      <td>5.67</td>\n",
              "      <td>4.07</td>\n",
              "      <td>8500</td>\n",
              "      <td>2.028552</td>\n",
              "      <td>80</td>\n",
              "      <td>6.988235</td>\n",
              "    </tr>\n",
              "    <tr>\n",
              "      <th>...</th>\n",
              "      <td>...</td>\n",
              "      <td>...</td>\n",
              "      <td>...</td>\n",
              "      <td>...</td>\n",
              "      <td>...</td>\n",
              "      <td>...</td>\n",
              "      <td>...</td>\n",
              "    </tr>\n",
              "    <tr>\n",
              "      <th>219698</th>\n",
              "      <td>6.92</td>\n",
              "      <td>6.96</td>\n",
              "      <td>4.35</td>\n",
              "      <td>9684</td>\n",
              "      <td>3.263392</td>\n",
              "      <td>1833</td>\n",
              "      <td>85.873606</td>\n",
              "    </tr>\n",
              "    <tr>\n",
              "      <th>219699</th>\n",
              "      <td>3.95</td>\n",
              "      <td>3.96</td>\n",
              "      <td>2.47</td>\n",
              "      <td>950</td>\n",
              "      <td>1.871004</td>\n",
              "      <td>950</td>\n",
              "      <td>84.000000</td>\n",
              "    </tr>\n",
              "    <tr>\n",
              "      <th>219700</th>\n",
              "      <td>6.77</td>\n",
              "      <td>3.73</td>\n",
              "      <td>2.17</td>\n",
              "      <td>580</td>\n",
              "      <td>5.055735</td>\n",
              "      <td>35800</td>\n",
              "      <td>755.689655</td>\n",
              "    </tr>\n",
              "    <tr>\n",
              "      <th>219701</th>\n",
              "      <td>5.21</td>\n",
              "      <td>3.83</td>\n",
              "      <td>2.45</td>\n",
              "      <td>596</td>\n",
              "      <td>2.973120</td>\n",
              "      <td>41349</td>\n",
              "      <td>404.697987</td>\n",
              "    </tr>\n",
              "    <tr>\n",
              "      <th>219702</th>\n",
              "      <td>4.40</td>\n",
              "      <td>5.36</td>\n",
              "      <td>3.33</td>\n",
              "      <td>1958</td>\n",
              "      <td>2.188035</td>\n",
              "      <td>85345</td>\n",
              "      <td>40.755873</td>\n",
              "    </tr>\n",
              "  </tbody>\n",
              "</table>\n",
              "<p>43943 rows × 7 columns</p>\n",
              "</div>\n",
              "      <button class=\"colab-df-convert\" onclick=\"convertToInteractive('df-eecc36c3-acef-4cac-bfc7-51af854a30cf')\"\n",
              "              title=\"Convert this dataframe to an interactive table.\"\n",
              "              style=\"display:none;\">\n",
              "        \n",
              "  <svg xmlns=\"http://www.w3.org/2000/svg\" height=\"24px\"viewBox=\"0 0 24 24\"\n",
              "       width=\"24px\">\n",
              "    <path d=\"M0 0h24v24H0V0z\" fill=\"none\"/>\n",
              "    <path d=\"M18.56 5.44l.94 2.06.94-2.06 2.06-.94-2.06-.94-.94-2.06-.94 2.06-2.06.94zm-11 1L8.5 8.5l.94-2.06 2.06-.94-2.06-.94L8.5 2.5l-.94 2.06-2.06.94zm10 10l.94 2.06.94-2.06 2.06-.94-2.06-.94-.94-2.06-.94 2.06-2.06.94z\"/><path d=\"M17.41 7.96l-1.37-1.37c-.4-.4-.92-.59-1.43-.59-.52 0-1.04.2-1.43.59L10.3 9.45l-7.72 7.72c-.78.78-.78 2.05 0 2.83L4 21.41c.39.39.9.59 1.41.59.51 0 1.02-.2 1.41-.59l7.78-7.78 2.81-2.81c.8-.78.8-2.07 0-2.86zM5.41 20L4 18.59l7.72-7.72 1.47 1.35L5.41 20z\"/>\n",
              "  </svg>\n",
              "      </button>\n",
              "      \n",
              "  <style>\n",
              "    .colab-df-container {\n",
              "      display:flex;\n",
              "      flex-wrap:wrap;\n",
              "      gap: 12px;\n",
              "    }\n",
              "\n",
              "    .colab-df-convert {\n",
              "      background-color: #E8F0FE;\n",
              "      border: none;\n",
              "      border-radius: 50%;\n",
              "      cursor: pointer;\n",
              "      display: none;\n",
              "      fill: #1967D2;\n",
              "      height: 32px;\n",
              "      padding: 0 0 0 0;\n",
              "      width: 32px;\n",
              "    }\n",
              "\n",
              "    .colab-df-convert:hover {\n",
              "      background-color: #E2EBFA;\n",
              "      box-shadow: 0px 1px 2px rgba(60, 64, 67, 0.3), 0px 1px 3px 1px rgba(60, 64, 67, 0.15);\n",
              "      fill: #174EA6;\n",
              "    }\n",
              "\n",
              "    [theme=dark] .colab-df-convert {\n",
              "      background-color: #3B4455;\n",
              "      fill: #D2E3FC;\n",
              "    }\n",
              "\n",
              "    [theme=dark] .colab-df-convert:hover {\n",
              "      background-color: #434B5C;\n",
              "      box-shadow: 0px 1px 3px 1px rgba(0, 0, 0, 0.15);\n",
              "      filter: drop-shadow(0px 1px 2px rgba(0, 0, 0, 0.3));\n",
              "      fill: #FFFFFF;\n",
              "    }\n",
              "  </style>\n",
              "\n",
              "      <script>\n",
              "        const buttonEl =\n",
              "          document.querySelector('#df-eecc36c3-acef-4cac-bfc7-51af854a30cf button.colab-df-convert');\n",
              "        buttonEl.style.display =\n",
              "          google.colab.kernel.accessAllowed ? 'block' : 'none';\n",
              "\n",
              "        async function convertToInteractive(key) {\n",
              "          const element = document.querySelector('#df-eecc36c3-acef-4cac-bfc7-51af854a30cf');\n",
              "          const dataTable =\n",
              "            await google.colab.kernel.invokeFunction('convertToInteractive',\n",
              "                                                     [key], {});\n",
              "          if (!dataTable) return;\n",
              "\n",
              "          const docLinkHtml = 'Like what you see? Visit the ' +\n",
              "            '<a target=\"_blank\" href=https://colab.research.google.com/notebooks/data_table.ipynb>data table notebook</a>'\n",
              "            + ' to learn more about interactive tables.';\n",
              "          element.innerHTML = '';\n",
              "          dataTable['output_type'] = 'display_data';\n",
              "          await google.colab.output.renderOutput(dataTable, element);\n",
              "          const docLink = document.createElement('div');\n",
              "          docLink.innerHTML = docLinkHtml;\n",
              "          element.appendChild(docLink);\n",
              "        }\n",
              "      </script>\n",
              "    </div>\n",
              "  </div>\n",
              "  "
            ]
          },
          "metadata": {},
          "execution_count": 66
        }
      ]
    },
    {
      "cell_type": "markdown",
      "source": [
        "(3 балла) Найдите насколько сильно (в процентах) отличается цена бриллиантов из тестовой выборки от их соответствующих ближайших соседей:"
      ],
      "metadata": {
        "id": "7R0uaHqurV_u"
      }
    },
    {
      "cell_type": "code",
      "source": [
        "percentage = []\n",
        "for index, row in diamonds_test.iterrows():\n",
        "  percentage += [abs(1-(row[3] + diamonds_train.loc[:,'total_sales_price'][row[5]])/row[3]) * 100]\n",
        "\n",
        "diamonds_test.loc[:,'percantage'] = percentage\n",
        "diamonds_test"
      ],
      "metadata": {
        "id": "Uy2ngWJ4rn-4",
        "colab": {
          "base_uri": "https://localhost:8080/",
          "height": 527
        },
        "outputId": "bdac0192-6a9b-4983-e01a-96391adff910"
      },
      "execution_count": 67,
      "outputs": [
        {
          "output_type": "stream",
          "name": "stderr",
          "text": [
            "<ipython-input-67-bacaf8271568>:5: SettingWithCopyWarning: \n",
            "A value is trying to be set on a copy of a slice from a DataFrame.\n",
            "Try using .loc[row_indexer,col_indexer] = value instead\n",
            "\n",
            "See the caveats in the documentation: https://pandas.pydata.org/pandas-docs/stable/user_guide/indexing.html#returning-a-view-versus-a-copy\n",
            "  diamonds_test.loc[:,'percantage'] = percentage\n"
          ]
        },
        {
          "output_type": "execute_result",
          "data": {
            "text/plain": [
              "        meas_length  meas_width  meas_depth  total_sales_price      size  \\\n",
              "175760         6.37        6.42        3.98               6488  3.043040   \n",
              "175761         5.53        5.59        3.56               2386  2.520420   \n",
              "175762         6.83        6.89        4.31              13145  3.213250   \n",
              "175763         4.93        4.98        3.16               3060  2.262005   \n",
              "175764         5.69        5.67        4.07               8500  2.028552   \n",
              "...             ...         ...         ...                ...       ...   \n",
              "219698         6.92        6.96        4.35               9684  3.263392   \n",
              "219699         3.95        3.96        2.47                950  1.871004   \n",
              "219700         6.77        3.73        2.17                580  5.055735   \n",
              "219701         5.21        3.83        2.45                596  2.973120   \n",
              "219702         4.40        5.36        3.33               1958  2.188035   \n",
              "\n",
              "        lowest_difference  percantage  \n",
              "175760              15404  159.340321  \n",
              "175761              14476  114.082146  \n",
              "175762              11884   80.060860  \n",
              "175763               9721   31.895425  \n",
              "175764                 80    6.988235  \n",
              "...                   ...         ...  \n",
              "219698               1833   85.873606  \n",
              "219699                950   84.000000  \n",
              "219700              35800  755.689655  \n",
              "219701              41349  404.697987  \n",
              "219702              85345   40.755873  \n",
              "\n",
              "[43943 rows x 7 columns]"
            ],
            "text/html": [
              "\n",
              "  <div id=\"df-77099a25-d4fa-4d11-ada1-85503bb622ae\">\n",
              "    <div class=\"colab-df-container\">\n",
              "      <div>\n",
              "<style scoped>\n",
              "    .dataframe tbody tr th:only-of-type {\n",
              "        vertical-align: middle;\n",
              "    }\n",
              "\n",
              "    .dataframe tbody tr th {\n",
              "        vertical-align: top;\n",
              "    }\n",
              "\n",
              "    .dataframe thead th {\n",
              "        text-align: right;\n",
              "    }\n",
              "</style>\n",
              "<table border=\"1\" class=\"dataframe\">\n",
              "  <thead>\n",
              "    <tr style=\"text-align: right;\">\n",
              "      <th></th>\n",
              "      <th>meas_length</th>\n",
              "      <th>meas_width</th>\n",
              "      <th>meas_depth</th>\n",
              "      <th>total_sales_price</th>\n",
              "      <th>size</th>\n",
              "      <th>lowest_difference</th>\n",
              "      <th>percantage</th>\n",
              "    </tr>\n",
              "  </thead>\n",
              "  <tbody>\n",
              "    <tr>\n",
              "      <th>175760</th>\n",
              "      <td>6.37</td>\n",
              "      <td>6.42</td>\n",
              "      <td>3.98</td>\n",
              "      <td>6488</td>\n",
              "      <td>3.043040</td>\n",
              "      <td>15404</td>\n",
              "      <td>159.340321</td>\n",
              "    </tr>\n",
              "    <tr>\n",
              "      <th>175761</th>\n",
              "      <td>5.53</td>\n",
              "      <td>5.59</td>\n",
              "      <td>3.56</td>\n",
              "      <td>2386</td>\n",
              "      <td>2.520420</td>\n",
              "      <td>14476</td>\n",
              "      <td>114.082146</td>\n",
              "    </tr>\n",
              "    <tr>\n",
              "      <th>175762</th>\n",
              "      <td>6.83</td>\n",
              "      <td>6.89</td>\n",
              "      <td>4.31</td>\n",
              "      <td>13145</td>\n",
              "      <td>3.213250</td>\n",
              "      <td>11884</td>\n",
              "      <td>80.060860</td>\n",
              "    </tr>\n",
              "    <tr>\n",
              "      <th>175763</th>\n",
              "      <td>4.93</td>\n",
              "      <td>4.98</td>\n",
              "      <td>3.16</td>\n",
              "      <td>3060</td>\n",
              "      <td>2.262005</td>\n",
              "      <td>9721</td>\n",
              "      <td>31.895425</td>\n",
              "    </tr>\n",
              "    <tr>\n",
              "      <th>175764</th>\n",
              "      <td>5.69</td>\n",
              "      <td>5.67</td>\n",
              "      <td>4.07</td>\n",
              "      <td>8500</td>\n",
              "      <td>2.028552</td>\n",
              "      <td>80</td>\n",
              "      <td>6.988235</td>\n",
              "    </tr>\n",
              "    <tr>\n",
              "      <th>...</th>\n",
              "      <td>...</td>\n",
              "      <td>...</td>\n",
              "      <td>...</td>\n",
              "      <td>...</td>\n",
              "      <td>...</td>\n",
              "      <td>...</td>\n",
              "      <td>...</td>\n",
              "    </tr>\n",
              "    <tr>\n",
              "      <th>219698</th>\n",
              "      <td>6.92</td>\n",
              "      <td>6.96</td>\n",
              "      <td>4.35</td>\n",
              "      <td>9684</td>\n",
              "      <td>3.263392</td>\n",
              "      <td>1833</td>\n",
              "      <td>85.873606</td>\n",
              "    </tr>\n",
              "    <tr>\n",
              "      <th>219699</th>\n",
              "      <td>3.95</td>\n",
              "      <td>3.96</td>\n",
              "      <td>2.47</td>\n",
              "      <td>950</td>\n",
              "      <td>1.871004</td>\n",
              "      <td>950</td>\n",
              "      <td>84.000000</td>\n",
              "    </tr>\n",
              "    <tr>\n",
              "      <th>219700</th>\n",
              "      <td>6.77</td>\n",
              "      <td>3.73</td>\n",
              "      <td>2.17</td>\n",
              "      <td>580</td>\n",
              "      <td>5.055735</td>\n",
              "      <td>35800</td>\n",
              "      <td>755.689655</td>\n",
              "    </tr>\n",
              "    <tr>\n",
              "      <th>219701</th>\n",
              "      <td>5.21</td>\n",
              "      <td>3.83</td>\n",
              "      <td>2.45</td>\n",
              "      <td>596</td>\n",
              "      <td>2.973120</td>\n",
              "      <td>41349</td>\n",
              "      <td>404.697987</td>\n",
              "    </tr>\n",
              "    <tr>\n",
              "      <th>219702</th>\n",
              "      <td>4.40</td>\n",
              "      <td>5.36</td>\n",
              "      <td>3.33</td>\n",
              "      <td>1958</td>\n",
              "      <td>2.188035</td>\n",
              "      <td>85345</td>\n",
              "      <td>40.755873</td>\n",
              "    </tr>\n",
              "  </tbody>\n",
              "</table>\n",
              "<p>43943 rows × 7 columns</p>\n",
              "</div>\n",
              "      <button class=\"colab-df-convert\" onclick=\"convertToInteractive('df-77099a25-d4fa-4d11-ada1-85503bb622ae')\"\n",
              "              title=\"Convert this dataframe to an interactive table.\"\n",
              "              style=\"display:none;\">\n",
              "        \n",
              "  <svg xmlns=\"http://www.w3.org/2000/svg\" height=\"24px\"viewBox=\"0 0 24 24\"\n",
              "       width=\"24px\">\n",
              "    <path d=\"M0 0h24v24H0V0z\" fill=\"none\"/>\n",
              "    <path d=\"M18.56 5.44l.94 2.06.94-2.06 2.06-.94-2.06-.94-.94-2.06-.94 2.06-2.06.94zm-11 1L8.5 8.5l.94-2.06 2.06-.94-2.06-.94L8.5 2.5l-.94 2.06-2.06.94zm10 10l.94 2.06.94-2.06 2.06-.94-2.06-.94-.94-2.06-.94 2.06-2.06.94z\"/><path d=\"M17.41 7.96l-1.37-1.37c-.4-.4-.92-.59-1.43-.59-.52 0-1.04.2-1.43.59L10.3 9.45l-7.72 7.72c-.78.78-.78 2.05 0 2.83L4 21.41c.39.39.9.59 1.41.59.51 0 1.02-.2 1.41-.59l7.78-7.78 2.81-2.81c.8-.78.8-2.07 0-2.86zM5.41 20L4 18.59l7.72-7.72 1.47 1.35L5.41 20z\"/>\n",
              "  </svg>\n",
              "      </button>\n",
              "      \n",
              "  <style>\n",
              "    .colab-df-container {\n",
              "      display:flex;\n",
              "      flex-wrap:wrap;\n",
              "      gap: 12px;\n",
              "    }\n",
              "\n",
              "    .colab-df-convert {\n",
              "      background-color: #E8F0FE;\n",
              "      border: none;\n",
              "      border-radius: 50%;\n",
              "      cursor: pointer;\n",
              "      display: none;\n",
              "      fill: #1967D2;\n",
              "      height: 32px;\n",
              "      padding: 0 0 0 0;\n",
              "      width: 32px;\n",
              "    }\n",
              "\n",
              "    .colab-df-convert:hover {\n",
              "      background-color: #E2EBFA;\n",
              "      box-shadow: 0px 1px 2px rgba(60, 64, 67, 0.3), 0px 1px 3px 1px rgba(60, 64, 67, 0.15);\n",
              "      fill: #174EA6;\n",
              "    }\n",
              "\n",
              "    [theme=dark] .colab-df-convert {\n",
              "      background-color: #3B4455;\n",
              "      fill: #D2E3FC;\n",
              "    }\n",
              "\n",
              "    [theme=dark] .colab-df-convert:hover {\n",
              "      background-color: #434B5C;\n",
              "      box-shadow: 0px 1px 3px 1px rgba(0, 0, 0, 0.15);\n",
              "      filter: drop-shadow(0px 1px 2px rgba(0, 0, 0, 0.3));\n",
              "      fill: #FFFFFF;\n",
              "    }\n",
              "  </style>\n",
              "\n",
              "      <script>\n",
              "        const buttonEl =\n",
              "          document.querySelector('#df-77099a25-d4fa-4d11-ada1-85503bb622ae button.colab-df-convert');\n",
              "        buttonEl.style.display =\n",
              "          google.colab.kernel.accessAllowed ? 'block' : 'none';\n",
              "\n",
              "        async function convertToInteractive(key) {\n",
              "          const element = document.querySelector('#df-77099a25-d4fa-4d11-ada1-85503bb622ae');\n",
              "          const dataTable =\n",
              "            await google.colab.kernel.invokeFunction('convertToInteractive',\n",
              "                                                     [key], {});\n",
              "          if (!dataTable) return;\n",
              "\n",
              "          const docLinkHtml = 'Like what you see? Visit the ' +\n",
              "            '<a target=\"_blank\" href=https://colab.research.google.com/notebooks/data_table.ipynb>data table notebook</a>'\n",
              "            + ' to learn more about interactive tables.';\n",
              "          element.innerHTML = '';\n",
              "          dataTable['output_type'] = 'display_data';\n",
              "          await google.colab.output.renderOutput(dataTable, element);\n",
              "          const docLink = document.createElement('div');\n",
              "          docLink.innerHTML = docLinkHtml;\n",
              "          element.appendChild(docLink);\n",
              "        }\n",
              "      </script>\n",
              "    </div>\n",
              "  </div>\n",
              "  "
            ]
          },
          "metadata": {},
          "execution_count": 67
        }
      ]
    },
    {
      "cell_type": "markdown",
      "source": [
        "**Данная модель является выдумкой автора. Не важен коэффициент ошибки, важны ваши шаги для получения коэффициента.**"
      ],
      "metadata": {
        "id": "tl0CHY6_OAxU"
      }
    },
    {
      "cell_type": "markdown",
      "source": [
        "### Введение в машинное обучение"
      ],
      "metadata": {
        "id": "AbrAdKSUrqz5"
      }
    },
    {
      "cell_type": "markdown",
      "source": [
        "Теперь давайте познакомимся с таким сильным инструментом как `sklearn`."
      ],
      "metadata": {
        "id": "I6sqXZLYuox4"
      }
    },
    {
      "cell_type": "markdown",
      "source": [
        "Вам необходимо:\n",
        "1. выбрать 2 категориальных признака\n",
        "2. на их основе обучить решающее дерево\n",
        "3. оценить среднеквадратичную ошибку цены бриллианта\n",
        "4. сделать пп. 1-3 и выбрать ту пару, которая дает лучший результат\n",
        "5. сделать выводы"
      ],
      "metadata": {
        "id": "q4OpdbhwsuAX"
      }
    },
    {
      "cell_type": "markdown",
      "source": [
        "(3 балла) Мы работаем с категориальными признаками, для них не понятно что есть \"больше\" и \"меньше\". Поэтому нам нужно предварительно закодировать значения наших признаков, с чем нам поможет [OneHotEncoder](https://scikit-learn.org/stable/modules/generated/sklearn.preprocessing.OneHotEncoder.html):"
      ],
      "metadata": {
        "id": "rScraaVSxQlT"
      }
    },
    {
      "cell_type": "code",
      "source": [
        "# your code here"
      ],
      "metadata": {
        "id": "G8hDstLlxjry"
      },
      "execution_count": null,
      "outputs": []
    },
    {
      "cell_type": "markdown",
      "source": [
        "(3 балла) Разбейте датасет на обучающую и тестовую выбору. Для этого вам поможет [train_test_split](https://scikit-learn.org/stable/modules/generated/sklearn.model_selection.train_test_split.html):"
      ],
      "metadata": {
        "id": "ig8t-nmRvojA"
      }
    },
    {
      "cell_type": "code",
      "source": [
        "# your code here"
      ],
      "metadata": {
        "id": "ChVKP43AwY8i"
      },
      "execution_count": null,
      "outputs": []
    },
    {
      "cell_type": "markdown",
      "source": [
        "(3 балла) Затем создайте и обучите вашу модель - [DecisionTreeRegressor](https://scikit-learn.org/stable/modules/generated/sklearn.tree.DecisionTreeRegressor.html):"
      ],
      "metadata": {
        "id": "gbv2zLpkwZsq"
      }
    },
    {
      "cell_type": "code",
      "source": [
        "# your code here"
      ],
      "metadata": {
        "id": "Qfvv2j6Sws8p"
      },
      "execution_count": null,
      "outputs": []
    },
    {
      "cell_type": "markdown",
      "source": [
        "(3 балла) Оцените ошибку вашей модели при помощи [mean_squared_error](https://scikit-learn.org/stable/modules/generated/sklearn.metrics.mean_squared_error.html):"
      ],
      "metadata": {
        "id": "nUvBoY1pwtIv"
      }
    },
    {
      "cell_type": "code",
      "source": [
        "# your code here"
      ],
      "metadata": {
        "id": "q946oHPaxGA4"
      },
      "execution_count": null,
      "outputs": []
    },
    {
      "cell_type": "markdown",
      "source": [
        "(3 балла) **Сделайте выводы какие категориальные признаки лучше:**"
      ],
      "metadata": {
        "id": "scWwHLEKxGPl"
      }
    },
    {
      "cell_type": "markdown",
      "source": [
        "*Подсказки для маленьких: Что вы можете сказать о зависимости по вашей выборке признаков? Какой вы можете сделать вывод об готовых инструментах для работы и написанных Вами?*"
      ],
      "metadata": {
        "id": "djE6Ke2bL5WS"
      }
    },
    {
      "cell_type": "markdown",
      "source": [
        "Ваши выводы здесь :)"
      ],
      "metadata": {
        "id": "lu36_N58uvui"
      }
    }
  ]
}